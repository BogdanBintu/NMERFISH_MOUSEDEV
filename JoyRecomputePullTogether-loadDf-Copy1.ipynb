{
 "cells": [
  {
   "cell_type": "code",
   "execution_count": 1,
   "id": "4f56ff83",
   "metadata": {},
   "outputs": [],
   "source": [
    "import sys\n",
    "sys.path.append(r'..//')\n",
    "from ioMicro import *"
   ]
  },
  {
   "cell_type": "code",
   "execution_count": 2,
   "id": "8c253ab1",
   "metadata": {},
   "outputs": [],
   "source": [
    "def apply_flat_field(dec,tag=r'\\\\192.168.0.7\\bbfishmahsa3\\CGBB_embryo_4_28_2023\\DriftAcrossDatasets\\med_col_raw'):\n",
    "    ### load the immeds\n",
    "    Icol = dec.XH_pruned[:,:,-2].astype(int)\n",
    "    uIcols = np.unique(Icol)\n",
    "    dec.ncols = len(uIcols)\n",
    "    #save_folder=dec.save_folder#r'\\\\192.168.0.10\\bbfishdc13\\DCBBL1_3_2_2023\\MERFISH_Analysis'\n",
    "    immeds = []\n",
    "    for icol in range(dec.ncols):\n",
    "        fl_med = tag+str(icol)+'.npz'\n",
    "        if not os.path.exists(fl_med):\n",
    "            fl_med = fl_med.replace('_raw','')\n",
    "        dic = np.load(fl_med)\n",
    "        immed,resc=dic['im'],dic['resc']\n",
    "        immeds.append(immed)\n",
    "    dec.immeds = np.array(immeds)\n",
    "    dec.resc = resc\n",
    "    \n",
    "    ### renormalize the brightness according to flatfield\n",
    "    XH = dec.XH_pruned\n",
    "    Icol = XH[:,:,-2].astype(int)\n",
    "    H = dec.XH_pruned[:,:,-3].copy()\n",
    "    for icol in range(dec.ncols):\n",
    "        keep = Icol==icol\n",
    "        immed = dec.immeds[icol].copy()\n",
    "        immed = immed/np.median(immed)\n",
    "        x_,y_ = ((XH[keep][:,1:3]/dec.resc).astype(int)%immed.shape).T\n",
    "        norm_ = immed[x_,y_] \n",
    "        H[keep]=H[keep]/norm_\n",
    "    dec.XH_pruned[:,:,-3] = H\n",
    "\n",
    "\n",
    "def main_analysisV1(fov,set_,\n",
    "                   save_folder = r'\\\\192.168.0.6\\bbfishjoy4extra\\MERFISH_AnalysisP12',\n",
    "                   save_fl_ref = r'\\\\192.168.0.6\\bbfishjoy4extra\\MERFISH_AnalysisP12\\scoresRef.npy',\n",
    "                   save_folder_all = r'\\\\192.168.0.7\\bbfishmahsa3\\CGBB_embryo_4_28_2023\\FinalDecodedSpots',\n",
    "                   drift_folder = r'\\\\192.168.0.7\\bbfishmahsa3\\CGBB_embryo_4_28_2023\\DriftAcrossDatasets',\n",
    "                   segm_tag = 'A1_LamA_Nup98',redo=False,resc=[2,2,2],\n",
    "                   drift_semgentation = np.array([  -2.5602207, -486.3025   ,   -5.648471 ])):\n",
    "\n",
    "\n",
    "    if not os.path.exists(save_folder_all): os.makedirs(save_folder_all)\n",
    "    save_fl = save_folder_all+os.sep+'saveDecodedFinalV1--'+os.path.basename(save_folder)+'--'+fov.split('.')[0]+'--'+set_+'.npz'\n",
    "    dec = None\n",
    "    if not os.path.exists(save_fl) or redo:\n",
    "        ####### Load in the decoded spot data #############################\n",
    "        #fov,set_ = 'Conv_zscan__040', '_D16' ################## Change \n",
    "        dec = decoder_simple(save_folder,fov,set_)\n",
    "        dec.ncols = 3\n",
    "        dec.load_decoded()\n",
    "        print(\"Molecules size:\",dec.XH_pruned.shape)\n",
    "        print(\"Covering reaoduts:\",np.unique(dec.XH_pruned[:,:,-1]))\n",
    "        #apply_fine_drift(dec,plt_val=True)#############Deactivate\n",
    "        apply_flat_field(dec)\n",
    "        #scoresRefT = get_score_per_color(dec)\n",
    "        scoresRef = np.load(save_fl_ref,allow_pickle=True)\n",
    "        get_score_withRef(dec,scoresRef,plt_val=True,gene=None,iSs = None,th_min=-10)\n",
    "        dec.th=-0.5\n",
    "        plot_statistics(dec)\n",
    "\n",
    "        ####### Threhold the decoded spot data #############################\n",
    "        keepf =  dec.scoreA>dec.th ### keep good score\n",
    "        icodesf = dec.icodesN[keepf]\n",
    "        XHfpr = dec.XH_pruned[keepf]\n",
    "\n",
    "        ### Reorganize data  ###############################\n",
    "        XHf = np.mean(XHfpr,axis=1)\n",
    "        XF = XHf[:,[0,1,2,-5,-4,-3,-2,-1,-1,-1,-1]]\n",
    "        #zc,xc,yc,bk-7,a-6,habs-5,hn-4,h-3\n",
    "        XF[:,-1] = dec.scoreA[keepf]\n",
    "        XF[:,-2] = np.where(keepf)[0]\n",
    "        mnD = np.mean(np.linalg.norm((XHf[:,np.newaxis]-XHfpr)[:,:,:3],axis=-1),axis=-1)\n",
    "        XF[:,-3]=mnD\n",
    "        mnH = np.mean(np.abs((XHf[:,np.newaxis]-XHfpr)[:,:,-3]),axis=-1)\n",
    "        XF[:,-4]=mnH\n",
    "        genesf = dec.gns_names[icodesf]\n",
    "\n",
    "        ### Apply drift to match the segmentation reference ########################\n",
    "        def get_drft_dic(fl_all_drift):\n",
    "            drft,flds,fov_,fl_ref= np.load(fl_all_drift,allow_pickle=True)\n",
    "            return {('--'.join(fld.split(os.sep)[-2:]) if '--' in os.path.basename(fld) else os.path.basename(fld)):drft_[0] \n",
    "                    for fld,drft_ in zip(flds,drft)}\n",
    "\n",
    "        fl_all_drift = drift_folder+os.sep+'driftNew_'+dec.fov+'--'+dec.set_+'.pkl'\n",
    "        drft_dic_all = get_drft_dic(fl_all_drift)\n",
    "        fl_all_drift = save_folder+os.sep+'driftNew_'+dec.fov+'--'+dec.set_+'.pkl'\n",
    "        drft_dic_group = get_drft_dic(fl_all_drift)\n",
    "        key_segm = [key for key in drft_dic_all if segm_tag in key][0]\n",
    "        key_align = np.intersect1d(list(drft_dic_all.keys()),list(drft_dic_group.keys()))[0]\n",
    "        if drift_semgentation is None:\n",
    "            drift_semgentation = drft_dic_all[key_segm]\n",
    "        th1_to_h0 = drift_semgentation-drft_dic_all[key_align]\n",
    "        th1_gr = drft_dic_group[key_align]\n",
    "        tzxyf = th1_gr+th1_to_h0\n",
    "\n",
    "        XF[:,:3]=XF[:,:3]-tzxyf #### do not add here\n",
    "\n",
    "        \n",
    "                \n",
    "        ### Load in the current fov segmentation ######################################\n",
    "        ifov = fovs.index(dec.fov)\n",
    "        coords= coordsf[ifov]\n",
    "        xIm,xIM,yIm,yIM = coords[0],coords[1],coords[2],coords[3]\n",
    "        min_ = np.min(XF[:,:3],axis=0)\n",
    "        max_ = np.max(XF[:,:3],axis=0)\n",
    "\n",
    "        xIm,yIm = np.round([xIm,yIm]+(min_/resc)[1:]).astype(int)\n",
    "        ### deal with the case of outside image\n",
    "        Im = np.array([xIm,yIm])\n",
    "        min_[1:]=min_[1:]-Im*(Im<0)*resc[1:]\n",
    "        ### recenter\n",
    "        xIm,xIM,yIm,yIM = coords[0],coords[1],coords[2],coords[3]\n",
    "        xIm,yIm = np.round([xIm,yIm]+(min_/resc)[1:]).astype(int)\n",
    "        XF__=XF[:,:3]-min_\n",
    "        xIM,yIM = np.round([xIm,yIm]+(max_/resc)[1:]).astype(int)\n",
    "        dec.im_segm_ = imfsegm[:,xIm:xIM,yIm:yIM]\n",
    "        dec.XF__ = XF__\n",
    "        dec.XF = XF\n",
    "        dec.resc = resc\n",
    "\n",
    "        #### get cell ids #######################\n",
    "        def get_cell_id(dec,Xh,resc=[2,2,2],plot_val = False):\n",
    "            if not hasattr(dec,'im_segm_'): \n",
    "                good = np.ones(len(Xh),dtype=bool)\n",
    "                cells_ = np.zeros(len(Xh),dtype=int)\n",
    "                return cells_,good\n",
    "            im_segm = dec.im_segm_\n",
    "            dec.shapesm = dec.im_segm_.shape\n",
    "            Xcms = Xh[:,:3]\n",
    "            Xred = np.round(Xcms/resc).astype(int)\n",
    "            good = ~np.any((Xred>=dec.shapesm)|(Xred<0),axis=-1)\n",
    "            Xred = Xred[good]\n",
    "            if plot_val:\n",
    "                v = napari.view_points(Xred,size=1.5)\n",
    "                v.add_labels(im_segm)\n",
    "            return im_segm[tuple(Xred.T)],good\n",
    "\n",
    "\n",
    "        cell_id,good =get_cell_id(dec,XF__,resc=resc,plot_val = False)\n",
    "        #XF_ = np.concatenate([XF[good],cell_id[:,np.newaxis]],axis=-1)\n",
    "        genesf_ = genesf[good]\n",
    "        iset = int(dec.set_.split('_D')[-1])\n",
    "        ifov = int(dec.fov.split('_')[-1].split('.')[0])\n",
    "        isets = np.array([iset]*len(cell_id))[:,np.newaxis]\n",
    "        ifovs = np.array([ifov]*len(cell_id))[:,np.newaxis]\n",
    "        cell_id = cell_id[:,np.newaxis]\n",
    "        XF_ = np.concatenate([XF[good],cell_id,ifovs,isets],axis=-1)\n",
    "\n",
    "        #get_xyfov(dec)\n",
    "        ### add absolute positiuons of molecules in um\n",
    "        pixel_size = np.array([0.4,0.10833,0.10833])*resc\n",
    "        XF_ = XF_[:,list(np.arange(XF_.shape[-1]))+[-1,-1,-1]]\n",
    "        XF_[:,-3:]=((XF_[:,:3]/resc)+[0,coords[0],coords[2]])*pixel_size\n",
    "        header = ['z','x','y','abs_brightness','cor','brightness','color','mean_bightness_variation','mean_distance_variation',\n",
    "                  'index_from_XH_pruned','score','cell_id','ifov','iset','z_um_abs','x_um_abs','y_um_abs']\n",
    "\n",
    "\n",
    "        ##### get info for cells #########################\n",
    "        if not hasattr(dec,'im_segm_'): dec.im_segm_=np.zeros(np.array([30,3000,3000])//2)\n",
    "        icells,vols = np.unique(dec.im_segm_,return_counts=True)\n",
    "        cms = np.array(ndimage.center_of_mass(np.ones_like(dec.im_segm_),dec.im_segm_,icells))\n",
    "        #icells,vols = np.unique(dec.im_segm_,return_counts=True)\n",
    "        cms = np.array(ndimage.center_of_mass(np.ones_like(dec.im_segm_),dec.im_segm_,icells))\n",
    "\n",
    "        cells_abs_pos = (cms+[0,coords[0],coords[2]])*pixel_size\n",
    "\n",
    "        cellinfo = cms[:,[0,0,0,1,2,0,0,0]]\n",
    "        cellinfo[:,0]=icells\n",
    "        cellinfo[:,1]=vols\n",
    "        cellinfo[:,-3:]=cells_abs_pos\n",
    "\n",
    "        header_cells = ['cell_id','volm','zc','xc','yc','z_um_abs','x_um_abs','y_um_abs']\n",
    "        plt.close('all')\n",
    "\n",
    "        if True:\n",
    "            np.savez_compressed(save_fl,XF=XF_.astype(np.float32),\n",
    "                                genes = genesf_,cellinfo=cellinfo.astype(np.float32),header_cells=header_cells,header=header)\n",
    "        print(\"Finished\",save_fl)\n",
    "    return dec"
   ]
  },
  {
   "cell_type": "code",
   "execution_count": 3,
   "id": "1b191580",
   "metadata": {},
   "outputs": [],
   "source": [
    "set_ = '_D9'\n",
    "dic_ = np.load(r'\\\\192.168.0.6\\bbfishjoy4extra\\SegmentationCyto2\\imfsegm--'+set_+'.npz')################\n",
    "imfsegm = dic_['imfsegm']\n",
    "coordsf=dic_['coordsf']\n",
    "resc = dic_['resc']\n",
    "dic = np.load(r'\\\\192.168.0.6\\bbfishjoy4extra\\SegmentationCyto2\\pos_um_fovs--'+set_+'.npz')##################\n",
    "pos=dic['pos']\n",
    "fls=dic['fls']\n",
    "fovs = [os.path.basename(fl).split('--')[0]for fl in fls]\n",
    "set_ = '_'+os.path.basename(fls[0]).split('--')[1].split('_')[-1]"
   ]
  },
  {
   "cell_type": "code",
   "execution_count": 4,
   "id": "6786e0af",
   "metadata": {},
   "outputs": [
    {
     "name": "stdout",
     "output_type": "stream",
     "text": [
      "True\n",
      "True\n",
      "True\n",
      "True\n",
      "True\n",
      "True\n"
     ]
    }
   ],
   "source": [
    "save_folders = [r'\\\\192.168.0.6\\bbfishjoy4extra\\MERFISH_AnalysisP12',\n",
    "                r'\\\\192.168.0.6\\bbfishjoy4extra\\MERFISH_AnalysisP34',\n",
    "                r'\\\\192.168.0.6\\bbfishjoy4extra\\MERFISH_AnalysisE1',\n",
    "                r'\\\\192.168.0.7\\bbfishmahsa3\\CGBB_embryo_4_28_2023\\MERFISH_AnalysisP56',\n",
    "                r'\\\\192.168.0.7\\bbfishmahsa3\\CGBB_embryo_4_28_2023\\MERFISH_AnalysisP711',\n",
    "                r'\\\\192.168.0.7\\bbfishmahsa3\\CGBB_embryo_4_28_2023\\MERFISH_AnalysisE2']\n",
    "for fld in save_folders:\n",
    "    print(os.path.exists(fld))"
   ]
  },
  {
   "cell_type": "code",
   "execution_count": 6,
   "id": "95c4cf82",
   "metadata": {},
   "outputs": [
    {
     "data": {
      "text/plain": [
       "360"
      ]
     },
     "execution_count": 6,
     "metadata": {},
     "output_type": "execute_result"
    }
   ],
   "source": [
    "paramaters = [(fov,set_,save_folder)for fov in fovs for save_folder in save_folders]\n",
    "len(paramaters)"
   ]
  },
  {
   "cell_type": "code",
   "execution_count": 7,
   "id": "22899259",
   "metadata": {
    "scrolled": true
   },
   "outputs": [
    {
     "name": "stderr",
     "output_type": "stream",
     "text": [
      "\r",
      "  0%|                                                                                          | 0/360 [00:00<?, ?it/s]"
     ]
    },
    {
     "name": "stdout",
     "output_type": "stream",
     "text": [
      "Loaded decoded: -0.09324932098388672\n",
      "Molecules size: (26773, 4, 10)\n",
      "Covering reaoduts: [ 0.   0.5  1.   1.5  2.   2.5  3.   4.   5.   6.   7.   8.   9.   9.5\n",
      " 10.  10.5 11.  11.5 12.  13.  14.  15.  16.  17.  18.  19.  20.  21.\n",
      " 22.  23.  24.  25.  26.  27.  28.  29.  30.  31.  32.  33.  34.  35.\n",
      " 36.  37.  38.  39.  40.  41.  42.  43.  44.  45.  46.  47. ]\n"
     ]
    },
    {
     "name": "stderr",
     "output_type": "stream",
     "text": [
      "\r",
      "  0%|▏                                                                               | 1/360 [00:11<1:09:40, 11.65s/it]"
     ]
    },
    {
     "name": "stdout",
     "output_type": "stream",
     "text": [
      "Finished \\\\192.168.0.7\\bbfishmahsa3\\CGBB_embryo_4_28_2023\\FinalDecodedSpotsV3\\saveDecodedFinalV1--MERFISH_AnalysisP12--Conv_zscan__00--_D9.npz\n",
      "Loaded decoded: -0.09433484077453613\n",
      "Molecules size: (8725, 4, 10)\n",
      "Covering reaoduts: [ 0.  1.  2.  3.  4.  5.  6.  7.  8.  9. 10. 11. 12. 13. 14. 15. 16. 17.\n",
      " 18. 19. 20. 21. 22. 23. 24. 25. 26. 27. 28. 29. 30. 31. 32. 33. 34. 35.\n",
      " 36. 37. 38. 39. 40. 41. 42. 43. 44. 45. 46. 47.]\n"
     ]
    },
    {
     "name": "stderr",
     "output_type": "stream",
     "text": [
      "\r",
      "  1%|▍                                                                               | 2/360 [00:23<1:09:04, 11.58s/it]"
     ]
    },
    {
     "name": "stdout",
     "output_type": "stream",
     "text": [
      "Finished \\\\192.168.0.7\\bbfishmahsa3\\CGBB_embryo_4_28_2023\\FinalDecodedSpotsV3\\saveDecodedFinalV1--MERFISH_AnalysisP34--Conv_zscan__00--_D9.npz\n",
      "Loaded decoded: -0.11475157737731934\n",
      "Molecules size: (11372, 4, 10)\n",
      "Covering reaoduts: [ 0.   1.   2.   3.   4.   5.   6.   7.   8.   9.  10.  11.  12.  13.\n",
      " 14.  15.  16.  17.  18.  19.  20.  21.  22.  23.  24.  25.  26.  27.\n",
      " 28.  29.  30.  30.5 31.  31.5 32.  32.5 33.  33.5 34.  34.5 35.  35.5\n",
      " 36.  36.5 37.  37.5 38.  38.5 39.  39.5 40.  40.5 41.  41.5 42.  42.5\n",
      " 43.  43.5 44.  44.5 45.  45.5 46.  46.5 47.  47.5]\n"
     ]
    },
    {
     "name": "stderr",
     "output_type": "stream",
     "text": [
      "\r",
      "  1%|▋                                                                               | 3/360 [00:34<1:08:55, 11.58s/it]"
     ]
    },
    {
     "name": "stdout",
     "output_type": "stream",
     "text": [
      "Finished \\\\192.168.0.7\\bbfishmahsa3\\CGBB_embryo_4_28_2023\\FinalDecodedSpotsV3\\saveDecodedFinalV1--MERFISH_AnalysisE1--Conv_zscan__00--_D9.npz\n",
      "Loaded decoded: -0.10431694984436035\n",
      "Molecules size: (19410, 4, 10)\n",
      "Covering reaoduts: [ 0.  1.  2.  3.  4.  5.  6.  7.  8.  9. 10. 11. 12. 13. 14. 15. 16. 17.\n",
      " 18. 19. 20. 21. 22. 23. 24. 25. 26. 27. 28. 29. 30. 31. 32. 33. 34. 35.\n",
      " 36. 37. 38. 39. 40. 41. 42. 43. 44. 45. 46. 47.]\n"
     ]
    },
    {
     "name": "stderr",
     "output_type": "stream",
     "text": [
      "\r",
      "  1%|▉                                                                               | 4/360 [00:46<1:08:34, 11.56s/it]"
     ]
    },
    {
     "name": "stdout",
     "output_type": "stream",
     "text": [
      "Finished \\\\192.168.0.7\\bbfishmahsa3\\CGBB_embryo_4_28_2023\\FinalDecodedSpotsV3\\saveDecodedFinalV1--MERFISH_AnalysisP56--Conv_zscan__00--_D9.npz\n",
      "Loaded decoded: -0.0945744514465332\n",
      "Molecules size: (17547, 4, 10)\n",
      "Covering reaoduts: [ 0.  1.  2.  3.  4.  5.  6.  7.  8.  9. 10. 11. 12. 13. 14. 15. 16. 17.\n",
      " 18. 19. 20. 21. 22. 23. 24. 25. 26. 27. 28. 29. 30. 31. 32. 33. 34. 35.\n",
      " 36. 37. 38. 39. 40. 41. 42. 43. 44. 45. 46. 47.]\n"
     ]
    },
    {
     "name": "stderr",
     "output_type": "stream",
     "text": [
      "\r",
      "  1%|█                                                                               | 5/360 [00:57<1:08:16, 11.54s/it]"
     ]
    },
    {
     "name": "stdout",
     "output_type": "stream",
     "text": [
      "Finished \\\\192.168.0.7\\bbfishmahsa3\\CGBB_embryo_4_28_2023\\FinalDecodedSpotsV3\\saveDecodedFinalV1--MERFISH_AnalysisP711--Conv_zscan__00--_D9.npz\n",
      "Loaded decoded: -0.09886455535888672\n",
      "Molecules size: (13637, 4, 10)\n",
      "Covering reaoduts: [ 0.   0.5  1.   1.5  2.   2.5  3.   3.5  4.   4.5  5.   5.5  6.   6.5\n",
      "  7.   7.5  8.   8.5  9.   9.5 10.  10.5 11.  11.5 12.  12.5 13.  13.5\n",
      " 14.  14.5 15.  15.5 16.  16.5 17.  17.5 18.  18.5 19.  19.5 20.  20.5\n",
      " 21.  21.5 22.  22.5 23.  23.5 24.  24.5 25.  25.5 26.  26.5 27.  27.5\n",
      " 28.  28.5 29.  29.5 30.  30.5 31.  31.5 32.  32.5 33.  34.  35.  36.\n",
      " 37.  38.  39.  40.  41.  42.  43.  44.  45.  46.  47. ]\n"
     ]
    },
    {
     "name": "stderr",
     "output_type": "stream",
     "text": [
      "\r",
      "  2%|█▎                                                                              | 6/360 [01:09<1:07:51, 11.50s/it]"
     ]
    },
    {
     "name": "stdout",
     "output_type": "stream",
     "text": [
      "Finished \\\\192.168.0.7\\bbfishmahsa3\\CGBB_embryo_4_28_2023\\FinalDecodedSpotsV3\\saveDecodedFinalV1--MERFISH_AnalysisE2--Conv_zscan__00--_D9.npz\n",
      "Loaded decoded: -9.398031949996948\n",
      "Molecules size: (7067474, 4, 10)\n",
      "Covering reaoduts: [ 0.   0.5  1.   1.5  2.   2.5  3.   4.   5.   6.   7.   8.   9.   9.5\n",
      " 10.  10.5 11.  11.5 12.  13.  14.  15.  16.  17.  18.  19.  20.  21.\n",
      " 22.  23.  24.  25.  26.  27.  28.  29.  30.  31.  32.  33.  34.  35.\n",
      " 36.  37.  38.  39.  40.  41.  42.  43.  44.  45.  46.  47. ]\n",
      "Finished \\\\192.168.0.7\\bbfishmahsa3\\CGBB_embryo_4_28_2023\\FinalDecodedSpotsV3\\saveDecodedFinalV1--MERFISH_AnalysisP12--Conv_zscan__01--_D9.npz\n"
     ]
    },
    {
     "name": "stderr",
     "output_type": "stream",
     "text": [
      "\r",
      "  2%|█▌                                                                              | 7/360 [01:56<2:16:21, 23.18s/it]"
     ]
    },
    {
     "name": "stdout",
     "output_type": "stream",
     "text": [
      "Loaded decoded: -3.6174962520599365\n",
      "Molecules size: (2623654, 4, 10)\n",
      "Covering reaoduts: [ 0.  1.  2.  3.  4.  5.  6.  7.  8.  9. 10. 11. 12. 13. 14. 15. 16. 17.\n",
      " 18. 19. 20. 21. 22. 23. 24. 25. 26. 27. 28. 29. 30. 31. 32. 33. 34. 35.\n",
      " 36. 37. 38. 39. 40. 41. 42. 43. 44. 45. 46. 47.]\n"
     ]
    },
    {
     "name": "stderr",
     "output_type": "stream",
     "text": [
      "\r",
      "  2%|█▊                                                                              | 8/360 [02:25<2:26:05, 24.90s/it]"
     ]
    },
    {
     "name": "stdout",
     "output_type": "stream",
     "text": [
      "Finished \\\\192.168.0.7\\bbfishmahsa3\\CGBB_embryo_4_28_2023\\FinalDecodedSpotsV3\\saveDecodedFinalV1--MERFISH_AnalysisP34--Conv_zscan__01--_D9.npz\n",
      "Loaded decoded: -1.8525950908660889\n",
      "Molecules size: (911940, 4, 10)\n",
      "Covering reaoduts: [ 0.   1.   2.   3.   4.   5.   6.   7.   8.   9.  10.  11.  12.  13.\n",
      " 14.  15.  16.  17.  18.  19.  20.  21.  22.  23.  24.  25.  26.  27.\n",
      " 28.  29.  30.  30.5 31.  31.5 32.  32.5 33.  33.5 34.  34.5 35.  35.5\n",
      " 36.  36.5 37.  37.5 38.  38.5 39.  39.5 40.  40.5 41.  41.5 42.  42.5\n",
      " 43.  43.5 44.  44.5 45.  45.5 46.  46.5 47.  47.5]\n"
     ]
    },
    {
     "name": "stderr",
     "output_type": "stream",
     "text": [
      "\r",
      "  2%|██                                                                              | 9/360 [02:44<2:16:24, 23.32s/it]"
     ]
    },
    {
     "name": "stdout",
     "output_type": "stream",
     "text": [
      "Finished \\\\192.168.0.7\\bbfishmahsa3\\CGBB_embryo_4_28_2023\\FinalDecodedSpotsV3\\saveDecodedFinalV1--MERFISH_AnalysisE1--Conv_zscan__01--_D9.npz\n",
      "Loaded decoded: -4.6674275398254395\n",
      "Molecules size: (3419943, 4, 10)\n",
      "Covering reaoduts: [ 0.  1.  2.  3.  4.  5.  6.  7.  8.  9. 10. 11. 12. 13. 14. 15. 16. 17.\n",
      " 18. 19. 20. 21. 22. 23. 24. 25. 26. 27. 28. 29. 30. 31. 32. 33. 34. 35.\n",
      " 36. 37. 38. 39. 40. 41. 42. 43. 44. 45. 46. 47.]\n"
     ]
    },
    {
     "name": "stderr",
     "output_type": "stream",
     "text": [
      "\r",
      "  3%|██▏                                                                            | 10/360 [03:15<2:30:01, 25.72s/it]"
     ]
    },
    {
     "name": "stdout",
     "output_type": "stream",
     "text": [
      "Finished \\\\192.168.0.7\\bbfishmahsa3\\CGBB_embryo_4_28_2023\\FinalDecodedSpotsV3\\saveDecodedFinalV1--MERFISH_AnalysisP56--Conv_zscan__01--_D9.npz\n",
      "Loaded decoded: -3.4029083251953125\n",
      "Molecules size: (2618158, 4, 10)\n",
      "Covering reaoduts: [ 0.  1.  2.  3.  4.  5.  6.  7.  8.  9. 10. 11. 12. 13. 14. 15. 16. 17.\n",
      " 18. 19. 20. 21. 22. 23. 24. 25. 26. 27. 28. 29. 30. 31. 32. 33. 34. 35.\n",
      " 36. 37. 38. 39. 40. 41. 42. 43. 44. 45. 46. 47.]\n"
     ]
    },
    {
     "name": "stderr",
     "output_type": "stream",
     "text": [
      "\r",
      "  3%|██▍                                                                            | 11/360 [03:40<2:26:53, 25.25s/it]"
     ]
    },
    {
     "name": "stdout",
     "output_type": "stream",
     "text": [
      "Finished \\\\192.168.0.7\\bbfishmahsa3\\CGBB_embryo_4_28_2023\\FinalDecodedSpotsV3\\saveDecodedFinalV1--MERFISH_AnalysisP711--Conv_zscan__01--_D9.npz\n",
      "Loaded decoded: -1.3173503875732422\n",
      "Molecules size: (850788, 4, 10)\n",
      "Covering reaoduts: [ 0.   0.5  1.   1.5  2.   2.5  3.   3.5  4.   4.5  5.   5.5  6.   6.5\n",
      "  7.   7.5  8.   8.5  9.   9.5 10.  10.5 11.  11.5 12.5 13.5 14.5 15.\n",
      " 15.5 16.  16.5 17.  17.5 18.  18.5 19.  19.5 20.  20.5 21.  21.5 22.\n",
      " 22.5 23.  23.5 24.  24.5 25.  25.5 26.  26.5 27.  27.5 28.  28.5 29.\n",
      " 29.5 30.  30.5 31.  31.5 32.  32.5 33.  34.  35.  36.  37.  38.  39.\n",
      " 40.  41.  42.  43.  44.  45.  46.  47. ]\n"
     ]
    },
    {
     "name": "stderr",
     "output_type": "stream",
     "text": [
      "\r",
      "  3%|██▋                                                                            | 12/360 [03:59<2:15:58, 23.44s/it]"
     ]
    },
    {
     "name": "stdout",
     "output_type": "stream",
     "text": [
      "Finished \\\\192.168.0.7\\bbfishmahsa3\\CGBB_embryo_4_28_2023\\FinalDecodedSpotsV3\\saveDecodedFinalV1--MERFISH_AnalysisE2--Conv_zscan__01--_D9.npz\n",
      "Loaded decoded: -3.9206016063690186\n",
      "Molecules size: (2928858, 4, 10)\n",
      "Covering reaoduts: [ 0.   0.5  1.   1.5  2.   2.5  3.   4.   5.   6.   7.   8.   9.   9.5\n",
      " 10.  10.5 11.  11.5 12.  13.  14.  15.  16.  17.  18.  19.  20.  21.\n",
      " 22.  23.  24.  25.  26.  27.  28.  29.  30.  31.  32.  33.  34.  35.\n",
      " 36.  37.  38.  39.  40.  41.  42.  43.  44.  45.  46.  47. ]\n"
     ]
    },
    {
     "name": "stderr",
     "output_type": "stream",
     "text": [
      "\r",
      "  4%|██▊                                                                            | 13/360 [04:24<2:18:12, 23.90s/it]"
     ]
    },
    {
     "name": "stdout",
     "output_type": "stream",
     "text": [
      "Finished \\\\192.168.0.7\\bbfishmahsa3\\CGBB_embryo_4_28_2023\\FinalDecodedSpotsV3\\saveDecodedFinalV1--MERFISH_AnalysisP12--Conv_zscan__02--_D9.npz\n",
      "Loaded decoded: -1.9333200454711914\n",
      "Molecules size: (1328024, 4, 10)\n",
      "Covering reaoduts: [ 0.  1.  2.  3.  4.  5.  6.  7.  8.  9. 10. 11. 12. 13. 14. 15. 16. 17.\n",
      " 18. 19. 20. 21. 22. 23. 24. 25. 26. 27. 28. 29. 30. 31. 32. 33. 34. 35.\n",
      " 36. 37. 38. 39. 40. 41. 42. 43. 44. 45. 46. 47.]\n"
     ]
    },
    {
     "name": "stderr",
     "output_type": "stream",
     "text": [
      "\r",
      "  4%|███                                                                            | 14/360 [04:43<2:08:46, 22.33s/it]"
     ]
    },
    {
     "name": "stdout",
     "output_type": "stream",
     "text": [
      "Finished \\\\192.168.0.7\\bbfishmahsa3\\CGBB_embryo_4_28_2023\\FinalDecodedSpotsV3\\saveDecodedFinalV1--MERFISH_AnalysisP34--Conv_zscan__02--_D9.npz\n",
      "Loaded decoded: -0.8361845016479492\n",
      "Molecules size: (541375, 4, 10)\n",
      "Covering reaoduts: [ 0.   1.   2.   3.   4.   5.   6.   7.   8.   9.  10.  11.  12.  13.\n",
      " 14.  15.  16.  17.  18.  19.  20.  21.  22.  23.  24.  25.  26.  27.\n",
      " 28.  29.  30.  30.5 31.  31.5 32.  32.5 33.  33.5 34.  34.5 35.  35.5\n",
      " 36.  36.5 37.  37.5 38.  38.5 39.  39.5 40.  40.5 41.  41.5 42.  42.5\n",
      " 43.  43.5 44.  44.5 45.  45.5 46.  46.5 47.  47.5]\n"
     ]
    },
    {
     "name": "stderr",
     "output_type": "stream",
     "text": [
      "\r",
      "  4%|███▎                                                                           | 15/360 [05:00<1:59:29, 20.78s/it]"
     ]
    },
    {
     "name": "stdout",
     "output_type": "stream",
     "text": [
      "Finished \\\\192.168.0.7\\bbfishmahsa3\\CGBB_embryo_4_28_2023\\FinalDecodedSpotsV3\\saveDecodedFinalV1--MERFISH_AnalysisE1--Conv_zscan__02--_D9.npz\n",
      "Loaded decoded: -2.2700462341308594\n",
      "Molecules size: (1758595, 4, 10)\n",
      "Covering reaoduts: [ 0.  1.  2.  3.  4.  5.  6.  7.  8.  9. 10. 11. 12. 13. 14. 15. 16. 17.\n",
      " 18. 19. 20. 21. 22. 23. 24. 25. 26. 27. 28. 29. 30. 31. 32. 33. 34. 35.\n",
      " 36. 37. 38. 39. 40. 41. 42. 43. 44. 45. 46. 47.]\n"
     ]
    },
    {
     "name": "stderr",
     "output_type": "stream",
     "text": [
      "\r",
      "  4%|███▌                                                                           | 16/360 [05:20<1:57:36, 20.51s/it]"
     ]
    },
    {
     "name": "stdout",
     "output_type": "stream",
     "text": [
      "Finished \\\\192.168.0.7\\bbfishmahsa3\\CGBB_embryo_4_28_2023\\FinalDecodedSpotsV3\\saveDecodedFinalV1--MERFISH_AnalysisP56--Conv_zscan__02--_D9.npz\n",
      "Loaded decoded: -1.7522368431091309\n",
      "Molecules size: (1354740, 4, 10)\n",
      "Covering reaoduts: [ 0.  1.  2.  3.  4.  5.  6.  7.  8.  9. 10. 11. 12. 13. 14. 15. 16. 17.\n",
      " 18. 19. 20. 21. 22. 23. 24. 25. 26. 27. 28. 29. 30. 31. 32. 33. 34. 35.\n",
      " 36. 37. 38. 39. 40. 41. 42. 43. 44. 45. 46. 47.]\n"
     ]
    },
    {
     "name": "stderr",
     "output_type": "stream",
     "text": [
      "\r",
      "  5%|███▋                                                                           | 17/360 [05:40<1:57:44, 20.60s/it]"
     ]
    },
    {
     "name": "stdout",
     "output_type": "stream",
     "text": [
      "Finished \\\\192.168.0.7\\bbfishmahsa3\\CGBB_embryo_4_28_2023\\FinalDecodedSpotsV3\\saveDecodedFinalV1--MERFISH_AnalysisP711--Conv_zscan__02--_D9.npz\n",
      "Loaded decoded: -0.8043828010559082\n",
      "Molecules size: (503302, 4, 10)\n",
      "Covering reaoduts: [ 0.   0.5  1.   1.5  2.   2.5  3.   3.5  4.   4.5  5.   5.5  6.   6.5\n",
      "  7.   7.5  8.   8.5  9.   9.5 10.  10.5 11.  11.5 12.  12.5 13.  13.5\n",
      " 14.  14.5 15.  15.5 16.  16.5 17.  17.5 18.  18.5 19.  19.5 20.  20.5\n",
      " 21.  21.5 22.  22.5 23.  23.5 24.  24.5 25.  25.5 26.  26.5 27.  27.5\n",
      " 28.  28.5 29.  29.5 30.  30.5 31.  31.5 32.  32.5 33.  34.  35.  36.\n",
      " 37.  38.  39.  40.  41.  42.  43.  44.  45.  46.  47. ]\n"
     ]
    },
    {
     "name": "stderr",
     "output_type": "stream",
     "text": [
      "\r",
      "  5%|███▉                                                                           | 18/360 [05:55<1:46:52, 18.75s/it]"
     ]
    },
    {
     "name": "stdout",
     "output_type": "stream",
     "text": [
      "Finished \\\\192.168.0.7\\bbfishmahsa3\\CGBB_embryo_4_28_2023\\FinalDecodedSpotsV3\\saveDecodedFinalV1--MERFISH_AnalysisE2--Conv_zscan__02--_D9.npz\n",
      "Loaded decoded: -0.18073558807373047\n",
      "Molecules size: (62480, 4, 10)\n",
      "Covering reaoduts: [ 0.   0.5  1.   1.5  2.   2.5  3.   4.   5.   6.   7.   8.   9.   9.5\n",
      " 10.  10.5 11.  11.5 12.  13.  14.  15.  16.  17.  18.  19.  20.  21.\n",
      " 22.  23.  24.  25.  26.  27.  28.  29.  30.  31.  32.  33.  34.  35.\n",
      " 36.  37.  38.  39.  40.  41.  42.  43.  44.  45.  46.  47. ]\n"
     ]
    },
    {
     "name": "stderr",
     "output_type": "stream",
     "text": [
      "\r",
      "  5%|████▏                                                                          | 19/360 [06:09<1:37:50, 17.22s/it]"
     ]
    },
    {
     "name": "stdout",
     "output_type": "stream",
     "text": [
      "Finished \\\\192.168.0.7\\bbfishmahsa3\\CGBB_embryo_4_28_2023\\FinalDecodedSpotsV3\\saveDecodedFinalV1--MERFISH_AnalysisP12--Conv_zscan__03--_D9.npz\n",
      "Loaded decoded: -0.11967301368713379\n",
      "Molecules size: (16634, 4, 10)\n",
      "Covering reaoduts: [ 0.  1.  2.  3.  4.  5.  6.  7.  8.  9. 10. 11. 12. 13. 14. 15. 16. 17.\n",
      " 18. 19. 20. 21. 22. 23. 24. 25. 26. 27. 28. 29. 30. 31. 32. 33. 34. 35.\n",
      " 36. 37. 38. 39. 40. 41. 42. 43. 44. 45. 46. 47.]\n"
     ]
    },
    {
     "name": "stderr",
     "output_type": "stream",
     "text": [
      "\r",
      "  6%|████▍                                                                          | 20/360 [06:20<1:28:08, 15.55s/it]"
     ]
    },
    {
     "name": "stdout",
     "output_type": "stream",
     "text": [
      "Finished \\\\192.168.0.7\\bbfishmahsa3\\CGBB_embryo_4_28_2023\\FinalDecodedSpotsV3\\saveDecodedFinalV1--MERFISH_AnalysisP34--Conv_zscan__03--_D9.npz\n",
      "Loaded decoded: -0.11438965797424316\n",
      "Molecules size: (6138, 4, 10)\n",
      "Covering reaoduts: [ 0.   1.   2.   3.   4.   5.   6.   7.   8.   9.  10.  11.  12.  13.\n",
      " 14.  15.  16.  17.  18.  19.  20.  21.  22.  23.  24.  25.  26.  27.\n",
      " 28.  29.  30.  30.5 31.  31.5 32.  32.5 33.  33.5 34.  34.5 35.  35.5\n",
      " 36.  36.5 37.  37.5 38.  38.5 39.  39.5 40.  40.5 41.  41.5 42.  42.5\n",
      " 43.  43.5 44.  44.5 45.  45.5 46.  46.5 47.  47.5]\n"
     ]
    },
    {
     "name": "stderr",
     "output_type": "stream",
     "text": [
      "\r",
      "  6%|████▌                                                                          | 21/360 [06:32<1:20:34, 14.26s/it]"
     ]
    },
    {
     "name": "stdout",
     "output_type": "stream",
     "text": [
      "Finished \\\\192.168.0.7\\bbfishmahsa3\\CGBB_embryo_4_28_2023\\FinalDecodedSpotsV3\\saveDecodedFinalV1--MERFISH_AnalysisE1--Conv_zscan__03--_D9.npz\n",
      "Loaded decoded: -0.15120887756347656\n",
      "Molecules size: (66950, 4, 10)\n",
      "Covering reaoduts: [ 0.  1.  2.  3.  4.  5.  6.  7.  8.  9. 10. 11. 12. 13. 14. 15. 16. 17.\n",
      " 18. 19. 20. 21. 22. 23. 24. 25. 26. 27. 28. 29. 30. 31. 32. 33. 34. 35.\n",
      " 36. 37. 38. 39. 40. 41. 42. 43. 44. 45. 46. 47.]\n"
     ]
    },
    {
     "name": "stderr",
     "output_type": "stream",
     "text": [
      "\r",
      "  6%|████▊                                                                          | 22/360 [06:43<1:16:11, 13.52s/it]"
     ]
    },
    {
     "name": "stdout",
     "output_type": "stream",
     "text": [
      "Finished \\\\192.168.0.7\\bbfishmahsa3\\CGBB_embryo_4_28_2023\\FinalDecodedSpotsV3\\saveDecodedFinalV1--MERFISH_AnalysisP56--Conv_zscan__03--_D9.npz\n",
      "Loaded decoded: -0.14246726036071777\n",
      "Molecules size: (17424, 4, 10)\n",
      "Covering reaoduts: [ 0.  1.  2.  3.  4.  5.  6.  7.  8.  9. 10. 11. 12. 13. 14. 15. 16. 17.\n",
      " 18. 19. 20. 21. 22. 23. 24. 25. 26. 27. 28. 29. 30. 31. 32. 33. 34. 35.\n",
      " 36. 37. 38. 39. 40. 41. 42. 43. 44. 45. 46. 47.]\n"
     ]
    },
    {
     "name": "stderr",
     "output_type": "stream",
     "text": [
      "\r",
      "  6%|█████                                                                          | 23/360 [06:57<1:16:04, 13.54s/it]"
     ]
    },
    {
     "name": "stdout",
     "output_type": "stream",
     "text": [
      "Finished \\\\192.168.0.7\\bbfishmahsa3\\CGBB_embryo_4_28_2023\\FinalDecodedSpotsV3\\saveDecodedFinalV1--MERFISH_AnalysisP711--Conv_zscan__03--_D9.npz\n",
      "Loaded decoded: -0.09869742393493652\n",
      "Molecules size: (15234, 4, 10)\n",
      "Covering reaoduts: [ 0.   0.5  1.   1.5  2.   2.5  3.   3.5  4.   4.5  5.   5.5  6.   6.5\n",
      "  7.   7.5  8.   8.5  9.   9.5 10.  10.5 11.  11.5 12.  12.5 13.  13.5\n",
      " 14.  14.5 15.  15.5 16.  16.5 17.  17.5 18.  18.5 19.  19.5 20.  20.5\n",
      " 21.  21.5 22.  22.5 23.  23.5 24.  24.5 25.  25.5 26.  26.5 27.  27.5\n",
      " 28.  28.5 29.  29.5 30.  30.5 31.  31.5 32.  32.5 33.  34.  35.  36.\n",
      " 37.  38.  39.  40.  41.  42.  43.  44.  45.  46.  47. ]\n"
     ]
    },
    {
     "name": "stderr",
     "output_type": "stream",
     "text": [
      "\r",
      "  7%|█████▎                                                                         | 24/360 [07:08<1:12:26, 12.94s/it]"
     ]
    },
    {
     "name": "stdout",
     "output_type": "stream",
     "text": [
      "Finished \\\\192.168.0.7\\bbfishmahsa3\\CGBB_embryo_4_28_2023\\FinalDecodedSpotsV3\\saveDecodedFinalV1--MERFISH_AnalysisE2--Conv_zscan__03--_D9.npz\n",
      "Loaded decoded: -4.2237653732299805\n",
      "Molecules size: (3099459, 4, 10)\n",
      "Covering reaoduts: [ 0.   0.5  1.   1.5  2.   2.5  3.   4.   5.   6.   7.   8.   9.   9.5\n",
      " 10.  10.5 11.  11.5 12.  13.  14.  15.  16.  17.  18.  19.  20.  21.\n",
      " 22.  23.  24.  25.  26.  27.  28.  29.  30.  31.  32.  33.  34.  35.\n",
      " 36.  37.  38.  39.  40.  41.  42.  43.  44.  45.  46.  47. ]\n"
     ]
    },
    {
     "name": "stderr",
     "output_type": "stream",
     "text": [
      "\r",
      "  7%|█████▍                                                                         | 25/360 [07:38<1:39:50, 17.88s/it]"
     ]
    },
    {
     "name": "stdout",
     "output_type": "stream",
     "text": [
      "Finished \\\\192.168.0.7\\bbfishmahsa3\\CGBB_embryo_4_28_2023\\FinalDecodedSpotsV3\\saveDecodedFinalV1--MERFISH_AnalysisP12--Conv_zscan__04--_D9.npz\n",
      "Loaded decoded: -2.995995283126831\n",
      "Molecules size: (1303920, 4, 10)\n",
      "Covering reaoduts: [ 0.  1.  2.  3.  4.  5.  6.  7.  8.  9. 10. 11. 12. 13. 14. 15. 16. 17.\n",
      " 18. 19. 20. 21. 22. 23. 24. 25. 26. 27. 28. 29. 30. 31. 32. 33. 34. 35.\n",
      " 36. 37. 38. 39. 40. 41. 42. 43. 44. 45. 46. 47.]\n"
     ]
    },
    {
     "name": "stderr",
     "output_type": "stream",
     "text": [
      "\r",
      "  7%|█████▋                                                                         | 26/360 [07:57<1:42:02, 18.33s/it]"
     ]
    },
    {
     "name": "stdout",
     "output_type": "stream",
     "text": [
      "Finished \\\\192.168.0.7\\bbfishmahsa3\\CGBB_embryo_4_28_2023\\FinalDecodedSpotsV3\\saveDecodedFinalV1--MERFISH_AnalysisP34--Conv_zscan__04--_D9.npz\n",
      "Loaded decoded: -0.7434287071228027\n",
      "Molecules size: (511471, 4, 10)\n",
      "Covering reaoduts: [ 0.   1.   2.   3.   4.   5.   6.   7.   8.   9.  10.  11.  12.  13.\n",
      " 14.  15.  16.  17.  18.  19.  20.  21.  22.  23.  24.  25.  26.  27.\n",
      " 28.  29.  30.  30.5 31.  31.5 32.  32.5 33.  33.5 34.  34.5 35.  35.5\n",
      " 36.  36.5 37.  37.5 38.  38.5 39.  39.5 40.  40.5 41.  41.5 42.  42.5\n",
      " 43.  43.5 44.  44.5 45.  45.5 46.  46.5 47.  47.5]\n"
     ]
    },
    {
     "name": "stderr",
     "output_type": "stream",
     "text": [
      "\r",
      "  8%|█████▉                                                                         | 27/360 [08:15<1:40:36, 18.13s/it]"
     ]
    },
    {
     "name": "stdout",
     "output_type": "stream",
     "text": [
      "Finished \\\\192.168.0.7\\bbfishmahsa3\\CGBB_embryo_4_28_2023\\FinalDecodedSpotsV3\\saveDecodedFinalV1--MERFISH_AnalysisE1--Conv_zscan__04--_D9.npz\n",
      "Loaded decoded: -2.311117649078369\n",
      "Molecules size: (1600990, 4, 10)\n",
      "Covering reaoduts: [ 0.  1.  2.  3.  4.  5.  6.  7.  8.  9. 10. 11. 12. 13. 14. 15. 16. 17.\n",
      " 18. 19. 20. 21. 22. 23. 24. 25. 26. 29. 30. 31. 32. 33. 34. 35. 36. 37.\n",
      " 38. 39. 40. 41. 42. 43. 44. 45. 46. 47.]\n"
     ]
    },
    {
     "name": "stderr",
     "output_type": "stream",
     "text": [
      "\r",
      "  8%|██████▏                                                                        | 28/360 [08:37<1:46:44, 19.29s/it]"
     ]
    },
    {
     "name": "stdout",
     "output_type": "stream",
     "text": [
      "Finished \\\\192.168.0.7\\bbfishmahsa3\\CGBB_embryo_4_28_2023\\FinalDecodedSpotsV3\\saveDecodedFinalV1--MERFISH_AnalysisP56--Conv_zscan__04--_D9.npz\n",
      "Loaded decoded: -1.768519401550293\n",
      "Molecules size: (1351937, 4, 10)\n",
      "Covering reaoduts: [ 0.  1.  2.  3.  4.  5.  6.  7.  8.  9. 10. 11. 12. 13. 14. 15. 16. 17.\n",
      " 18. 19. 20. 21. 22. 23. 24. 25. 26. 27. 28. 29. 30. 31. 32. 33. 34. 35.\n",
      " 36. 37. 38. 39. 40. 41. 42. 43. 44. 45. 46. 47.]\n"
     ]
    },
    {
     "name": "stderr",
     "output_type": "stream",
     "text": [
      "\r",
      "  8%|██████▎                                                                        | 29/360 [08:55<1:44:39, 18.97s/it]"
     ]
    },
    {
     "name": "stdout",
     "output_type": "stream",
     "text": [
      "Finished \\\\192.168.0.7\\bbfishmahsa3\\CGBB_embryo_4_28_2023\\FinalDecodedSpotsV3\\saveDecodedFinalV1--MERFISH_AnalysisP711--Conv_zscan__04--_D9.npz\n",
      "Loaded decoded: -0.8442175388336182\n",
      "Molecules size: (532975, 4, 10)\n",
      "Covering reaoduts: [ 0.   0.5  1.   1.5  2.   2.5  3.   3.5  4.   4.5  5.   5.5  6.   6.5\n",
      "  7.   7.5  8.   8.5  9.   9.5 10.  10.5 11.  11.5 12.  12.5 13.  13.5\n",
      " 14.  14.5 15.  15.5 16.  16.5 17.  17.5 18.  18.5 19.  19.5 20.  20.5\n",
      " 21.  21.5 22.  22.5 23.  23.5 24.  24.5 25.  25.5 26.  26.5 27.  27.5\n",
      " 28.  28.5 29.  29.5 30.  30.5 31.  31.5 32.  32.5 33.  34.  35.  36.\n",
      " 37.  38.  39.  40.  41.  42.  43.  44.  45.  46.  47. ]\n"
     ]
    },
    {
     "name": "stderr",
     "output_type": "stream",
     "text": [
      "\r",
      "  8%|██████▌                                                                        | 30/360 [09:13<1:41:47, 18.51s/it]"
     ]
    },
    {
     "name": "stdout",
     "output_type": "stream",
     "text": [
      "Finished \\\\192.168.0.7\\bbfishmahsa3\\CGBB_embryo_4_28_2023\\FinalDecodedSpotsV3\\saveDecodedFinalV1--MERFISH_AnalysisE2--Conv_zscan__04--_D9.npz\n",
      "Loaded decoded: -13.353648662567139\n",
      "Molecules size: (7848264, 4, 10)\n",
      "Covering reaoduts: [ 0.   0.5  1.   1.5  2.   2.5  3.   4.   5.   6.   7.   8.   9.   9.5\n",
      " 10.  10.5 11.  11.5 12.  13.  14.  15.  16.  17.  18.  19.  20.  21.\n",
      " 22.  23.  24.  25.  26.  27.  28.  29.  30.  31.  32.  33.  34.  35.\n",
      " 36.  37.  38.  39.  40.  41.  42.  43.  44.  45.  46.  47. ]\n",
      "Finished \\\\192.168.0.7\\bbfishmahsa3\\CGBB_embryo_4_28_2023\\FinalDecodedSpotsV3\\saveDecodedFinalV1--MERFISH_AnalysisP12--Conv_zscan__05--_D9.npz\n"
     ]
    },
    {
     "name": "stderr",
     "output_type": "stream",
     "text": [
      "\r",
      "  9%|██████▊                                                                        | 31/360 [10:06<2:38:24, 28.89s/it]"
     ]
    },
    {
     "name": "stdout",
     "output_type": "stream",
     "text": [
      "Loaded decoded: -6.091864109039307\n",
      "Molecules size: (3216467, 4, 10)\n",
      "Covering reaoduts: [ 0.  1.  2.  3.  4.  5.  6.  7.  8.  9. 10. 11. 12. 13. 14. 15. 16. 17.\n",
      " 18. 19. 20. 21. 22. 23. 24. 25. 26. 27. 28. 29. 30. 31. 32. 33. 34. 35.\n",
      " 36. 37. 38. 39. 40. 41. 42. 43. 44. 45. 46. 47.]\n"
     ]
    },
    {
     "name": "stderr",
     "output_type": "stream",
     "text": [
      "\r",
      "  9%|███████                                                                        | 32/360 [10:36<2:39:50, 29.24s/it]"
     ]
    },
    {
     "name": "stdout",
     "output_type": "stream",
     "text": [
      "Finished \\\\192.168.0.7\\bbfishmahsa3\\CGBB_embryo_4_28_2023\\FinalDecodedSpotsV3\\saveDecodedFinalV1--MERFISH_AnalysisP34--Conv_zscan__05--_D9.npz\n",
      "Loaded decoded: -1.903996229171753\n",
      "Molecules size: (1304117, 4, 10)\n",
      "Covering reaoduts: [ 0.   1.   2.   3.   4.   5.   6.   7.   8.   9.  10.  11.  12.  13.\n",
      " 14.  15.  16.  17.  18.  19.  20.  21.  22.  23.  24.  25.  26.  27.\n",
      " 28.  29.  30.  30.5 31.  31.5 32.  32.5 33.  33.5 34.  34.5 35.  35.5\n",
      " 36.  36.5 37.  37.5 38.  38.5 39.  39.5 40.  40.5 41.  41.5 42.  42.5\n",
      " 43.  43.5 44.  44.5 45.  45.5 46.  46.5 47.  47.5]\n"
     ]
    },
    {
     "name": "stderr",
     "output_type": "stream",
     "text": [
      "\r",
      "  9%|███████▏                                                                       | 33/360 [10:57<2:26:36, 26.90s/it]"
     ]
    },
    {
     "name": "stdout",
     "output_type": "stream",
     "text": [
      "Finished \\\\192.168.0.7\\bbfishmahsa3\\CGBB_embryo_4_28_2023\\FinalDecodedSpotsV3\\saveDecodedFinalV1--MERFISH_AnalysisE1--Conv_zscan__05--_D9.npz\n",
      "Loaded decoded: -6.187076091766357\n",
      "Molecules size: (4218050, 4, 10)\n",
      "Covering reaoduts: [ 0.  1.  2.  3.  4.  5.  6.  7.  8.  9. 10. 11. 12. 13. 14. 15. 16. 17.\n",
      " 18. 19. 20. 21. 22. 23. 24. 25. 26. 27. 28. 29. 30. 31. 32. 33. 34. 35.\n",
      " 36. 37. 38. 39. 40. 41. 42. 43. 44. 45. 46. 47.]\n"
     ]
    },
    {
     "name": "stderr",
     "output_type": "stream",
     "text": [
      "\r",
      "  9%|███████▍                                                                       | 34/360 [11:32<2:39:06, 29.28s/it]"
     ]
    },
    {
     "name": "stdout",
     "output_type": "stream",
     "text": [
      "Finished \\\\192.168.0.7\\bbfishmahsa3\\CGBB_embryo_4_28_2023\\FinalDecodedSpotsV3\\saveDecodedFinalV1--MERFISH_AnalysisP56--Conv_zscan__05--_D9.npz\n",
      "Loaded decoded: -5.307130336761475\n",
      "Molecules size: (3447784, 4, 10)\n",
      "Covering reaoduts: [ 0.  1.  2.  3.  4.  5.  6.  7.  8.  9. 10. 11. 12. 13. 14. 15. 16. 17.\n",
      " 18. 19. 20. 21. 22. 23. 24. 25. 26. 27. 28. 29. 30. 31. 32. 33. 34. 35.\n",
      " 36. 37. 38. 39. 40. 41. 42. 43. 44. 45. 46. 47.]\n"
     ]
    },
    {
     "name": "stderr",
     "output_type": "stream",
     "text": [
      "\r",
      " 10%|███████▋                                                                       | 35/360 [12:01<2:38:44, 29.31s/it]"
     ]
    },
    {
     "name": "stdout",
     "output_type": "stream",
     "text": [
      "Finished \\\\192.168.0.7\\bbfishmahsa3\\CGBB_embryo_4_28_2023\\FinalDecodedSpotsV3\\saveDecodedFinalV1--MERFISH_AnalysisP711--Conv_zscan__05--_D9.npz\n",
      "Loaded decoded: -2.0884995460510254\n",
      "Molecules size: (1307043, 4, 10)\n",
      "Covering reaoduts: [ 0.   0.5  1.   1.5  2.   2.5  3.   3.5  4.   4.5  5.   5.5  6.   6.5\n",
      "  7.   7.5  8.   8.5  9.   9.5 10.  10.5 11.  11.5 12.  12.5 13.  13.5\n",
      " 14.  14.5 15.  15.5 16.  16.5 17.  17.5 18.  18.5 19.  19.5 20.  20.5\n",
      " 21.  21.5 22.  22.5 23.  23.5 24.  24.5 25.  25.5 26.  26.5 27.  27.5\n",
      " 28.  28.5 29.  29.5 30.  30.5 31.  31.5 32.  32.5 33.  34.  35.  36.\n",
      " 37.  38.  39.  40.  41.  42.  43.  44.  45.  46.  47. ]\n"
     ]
    },
    {
     "name": "stderr",
     "output_type": "stream",
     "text": [
      "\r",
      " 10%|███████▉                                                                       | 36/360 [12:22<2:24:57, 26.84s/it]"
     ]
    },
    {
     "name": "stdout",
     "output_type": "stream",
     "text": [
      "Finished \\\\192.168.0.7\\bbfishmahsa3\\CGBB_embryo_4_28_2023\\FinalDecodedSpotsV3\\saveDecodedFinalV1--MERFISH_AnalysisE2--Conv_zscan__05--_D9.npz\n",
      "Loaded decoded: -18.41711926460266\n",
      "Molecules size: (10886918, 4, 10)\n",
      "Covering reaoduts: [ 0.   0.5  1.   1.5  2.   2.5  3.   4.   5.   6.   7.   8.   9.   9.5\n",
      " 10.  10.5 11.  11.5 12.  13.  14.  15.  16.  17.  18.  19.  20.  21.\n",
      " 22.  23.  24.  25.  26.  27.  28.  29.  30.  31.  32.  33.  34.  35.\n",
      " 36.  37.  38.  39.  40.  41.  42.  43.  44.  45.  46.  47. ]\n",
      "Finished \\\\192.168.0.7\\bbfishmahsa3\\CGBB_embryo_4_28_2023\\FinalDecodedSpotsV3\\saveDecodedFinalV1--MERFISH_AnalysisP12--Conv_zscan__06--_D9.npz\n"
     ]
    },
    {
     "name": "stderr",
     "output_type": "stream",
     "text": [
      "\r",
      " 10%|████████                                                                       | 37/360 [13:36<3:39:58, 40.86s/it]"
     ]
    },
    {
     "name": "stdout",
     "output_type": "stream",
     "text": [
      "Loaded decoded: -9.291569948196411\n",
      "Molecules size: (4903718, 4, 10)\n",
      "Covering reaoduts: [ 0.   1.   2.   3.   4.   5.   6.   7.   8.   9.  10.  11.  12.  13.\n",
      " 14.  15.  16.  17.  18.  19.  20.  21.  22.  23.  24.  25.  26.  27.\n",
      " 27.5 28.  28.5 29.  29.5 30.  30.5 31.  31.5 32.  32.5 33.  33.5 34.\n",
      " 34.5 35.  35.5 36.  37.  38.  39.  40.  41.  42.  43.  44.  45.  45.5\n",
      " 46.  46.5 47.  47.5]\n"
     ]
    },
    {
     "name": "stderr",
     "output_type": "stream",
     "text": [
      "\r",
      " 11%|████████▎                                                                      | 38/360 [14:17<3:39:50, 40.97s/it]"
     ]
    },
    {
     "name": "stdout",
     "output_type": "stream",
     "text": [
      "Finished \\\\192.168.0.7\\bbfishmahsa3\\CGBB_embryo_4_28_2023\\FinalDecodedSpotsV3\\saveDecodedFinalV1--MERFISH_AnalysisP34--Conv_zscan__06--_D9.npz\n",
      "Loaded decoded: -5.076645612716675\n",
      "Molecules size: (1848790, 4, 10)\n",
      "Covering reaoduts: [ 0.   1.   2.   3.   4.   5.   6.   7.   8.   9.  10.  11.  12.  13.\n",
      " 14.  15.  16.  17.  18.  19.  20.  21.  22.  23.  24.  25.  26.  27.\n",
      " 28.  29.  30.  30.5 31.  31.5 32.  32.5 33.  33.5 34.  34.5 35.  35.5\n",
      " 36.  36.5 37.  37.5 38.  38.5 39.  39.5 40.  40.5 41.  41.5 42.  42.5\n",
      " 43.  43.5 44.  44.5 45.  45.5 46.  46.5 47.  47.5]\n"
     ]
    },
    {
     "name": "stderr",
     "output_type": "stream",
     "text": [
      "\r",
      " 11%|████████▌                                                                      | 39/360 [14:41<3:11:42, 35.83s/it]"
     ]
    },
    {
     "name": "stdout",
     "output_type": "stream",
     "text": [
      "Finished \\\\192.168.0.7\\bbfishmahsa3\\CGBB_embryo_4_28_2023\\FinalDecodedSpotsV3\\saveDecodedFinalV1--MERFISH_AnalysisE1--Conv_zscan__06--_D9.npz\n",
      "Loaded decoded: -8.597384691238403\n",
      "Molecules size: (6238045, 4, 10)\n",
      "Covering reaoduts: [ 0.  1.  2.  3.  4.  5.  6.  7.  8.  9. 10. 11. 12. 13. 14. 15. 16. 17.\n",
      " 18. 19. 20. 21. 22. 23. 24. 25. 26. 27. 28. 29. 30. 31. 32. 33. 34. 35.\n",
      " 36. 37. 38. 39. 40. 41. 42. 43. 44. 45. 46. 47.]\n",
      "Finished \\\\192.168.0.7\\bbfishmahsa3\\CGBB_embryo_4_28_2023\\FinalDecodedSpotsV3\\saveDecodedFinalV1--MERFISH_AnalysisP56--Conv_zscan__06--_D9.npz\n"
     ]
    },
    {
     "name": "stderr",
     "output_type": "stream",
     "text": [
      "\r",
      " 11%|████████▊                                                                      | 40/360 [15:26<3:24:56, 38.43s/it]"
     ]
    },
    {
     "name": "stdout",
     "output_type": "stream",
     "text": [
      "Loaded decoded: -6.889963388442993\n",
      "Molecules size: (4940988, 4, 10)\n",
      "Covering reaoduts: [ 0.  1.  2.  3.  4.  5.  6.  7.  8.  9. 10. 11. 12. 13. 14. 15. 16. 17.\n",
      " 18. 19. 20. 21. 22. 23. 24. 25. 26. 27. 28. 29. 30. 31. 32. 33. 34. 35.\n",
      " 36. 37. 38. 39. 40. 41. 42. 43. 44. 45. 46. 47.]\n"
     ]
    },
    {
     "name": "stderr",
     "output_type": "stream",
     "text": [
      "\r",
      " 11%|████████▉                                                                      | 41/360 [16:05<3:26:08, 38.77s/it]"
     ]
    },
    {
     "name": "stdout",
     "output_type": "stream",
     "text": [
      "Finished \\\\192.168.0.7\\bbfishmahsa3\\CGBB_embryo_4_28_2023\\FinalDecodedSpotsV3\\saveDecodedFinalV1--MERFISH_AnalysisP711--Conv_zscan__06--_D9.npz\n",
      "Loaded decoded: -3.857896327972412\n",
      "Molecules size: (1880163, 4, 10)\n",
      "Covering reaoduts: [ 0.   0.5  1.   1.5  2.   2.5  3.   3.5  4.   4.5  5.   5.5  6.   6.5\n",
      "  7.   7.5  8.   8.5  9.   9.5 10.  10.5 11.  11.5 12.  12.5 13.  13.5\n",
      " 14.  14.5 15.  15.5 16.  16.5 17.  17.5 18.  18.5 19.  19.5 20.  20.5\n",
      " 21.  21.5 22.  22.5 23.  23.5 24.  24.5 25.  25.5 26.  26.5 27.  27.5\n",
      " 28.  28.5 29.  29.5 30.  30.5 31.  31.5 32.  32.5 33.  34.  35.  36.\n",
      " 37.  38.  39.  40.  41.  42.  43.  44.  45.  46.  47. ]\n"
     ]
    },
    {
     "name": "stderr",
     "output_type": "stream",
     "text": [
      "\r",
      " 12%|█████████▏                                                                     | 42/360 [16:32<3:06:18, 35.15s/it]"
     ]
    },
    {
     "name": "stdout",
     "output_type": "stream",
     "text": [
      "Finished \\\\192.168.0.7\\bbfishmahsa3\\CGBB_embryo_4_28_2023\\FinalDecodedSpotsV3\\saveDecodedFinalV1--MERFISH_AnalysisE2--Conv_zscan__06--_D9.npz\n",
      "Loaded decoded: -12.544088363647461\n",
      "Molecules size: (9039072, 4, 10)\n",
      "Covering reaoduts: [ 0.   0.5  1.   1.5  2.   2.5  3.   4.   5.   6.   7.   8.   9.   9.5\n",
      " 10.  10.5 11.  11.5 12.  13.  14.  15.  16.  17.  18.  19.  20.  21.\n",
      " 22.  23.  24.  25.  26.  27.  28.  29.  30.  31.  32.  33.  34.  35.\n",
      " 36.  37.  38.  39.  40.  41.  42.  43.  44.  45.  46.  47. ]\n",
      "Finished \\\\192.168.0.7\\bbfishmahsa3\\CGBB_embryo_4_28_2023\\FinalDecodedSpotsV3\\saveDecodedFinalV1--MERFISH_AnalysisP12--Conv_zscan__07--_D9.npz\n"
     ]
    },
    {
     "name": "stderr",
     "output_type": "stream",
     "text": [
      "\r",
      " 12%|█████████▍                                                                     | 43/360 [17:32<3:44:47, 42.55s/it]"
     ]
    },
    {
     "name": "stdout",
     "output_type": "stream",
     "text": [
      "Loaded decoded: -5.922875642776489\n",
      "Molecules size: (4241273, 4, 10)\n",
      "Covering reaoduts: [ 0.   1.   2.   3.   4.   5.   6.   7.   8.   9.  10.  11.  12.  13.\n",
      " 14.  15.  16.  17.  18.  19.  20.  21.  22.  23.  24.  25.  26.  27.\n",
      " 27.5 28.  28.5 29.  29.5 30.  30.5 31.  31.5 32.  32.5 33.  33.5 34.\n",
      " 34.5 35.  35.5 36.  37.  38.  39.  40.  41.  42.  43.  44.  45.  45.5\n",
      " 46.  46.5 47.  47.5]\n"
     ]
    },
    {
     "name": "stderr",
     "output_type": "stream",
     "text": [
      "\r",
      " 12%|█████████▋                                                                     | 44/360 [18:09<3:35:43, 40.96s/it]"
     ]
    },
    {
     "name": "stdout",
     "output_type": "stream",
     "text": [
      "Finished \\\\192.168.0.7\\bbfishmahsa3\\CGBB_embryo_4_28_2023\\FinalDecodedSpotsV3\\saveDecodedFinalV1--MERFISH_AnalysisP34--Conv_zscan__07--_D9.npz\n",
      "Loaded decoded: -2.5494391918182373\n",
      "Molecules size: (1722228, 4, 10)\n",
      "Covering reaoduts: [ 0.   1.   2.   3.   4.   5.   6.   7.   8.   9.  10.  11.  12.  13.\n",
      " 14.  15.  16.  17.  18.  19.  20.  21.  22.  23.  24.  25.  26.  27.\n",
      " 28.  29.  30.  30.5 31.  31.5 32.  32.5 33.  33.5 34.  34.5 35.  35.5\n",
      " 36.  36.5 37.  37.5 38.  38.5 39.  39.5 40.  40.5 41.  41.5 42.  42.5\n",
      " 43.  43.5 44.  44.5 45.  45.5 46.  46.5 47.  47.5]\n"
     ]
    },
    {
     "name": "stderr",
     "output_type": "stream",
     "text": [
      "\r",
      " 12%|█████████▉                                                                     | 45/360 [18:30<3:04:26, 35.13s/it]"
     ]
    },
    {
     "name": "stdout",
     "output_type": "stream",
     "text": [
      "Finished \\\\192.168.0.7\\bbfishmahsa3\\CGBB_embryo_4_28_2023\\FinalDecodedSpotsV3\\saveDecodedFinalV1--MERFISH_AnalysisE1--Conv_zscan__07--_D9.npz\n",
      "Loaded decoded: -7.13041877746582\n",
      "Molecules size: (5162635, 4, 10)\n",
      "Covering reaoduts: [ 0.  1.  2.  3.  4.  5.  6.  7.  8.  9. 10. 11. 12. 13. 14. 15. 16. 17.\n",
      " 18. 19. 20. 21. 22. 23. 24. 25. 26. 27. 28. 29. 30. 31. 32. 33. 34. 35.\n",
      " 36. 37. 38. 39. 40. 41. 42. 43. 44. 45. 46. 47.]\n"
     ]
    },
    {
     "name": "stderr",
     "output_type": "stream",
     "text": [
      "\r",
      " 13%|██████████                                                                     | 46/360 [19:08<3:07:14, 35.78s/it]"
     ]
    },
    {
     "name": "stdout",
     "output_type": "stream",
     "text": [
      "Finished \\\\192.168.0.7\\bbfishmahsa3\\CGBB_embryo_4_28_2023\\FinalDecodedSpotsV3\\saveDecodedFinalV1--MERFISH_AnalysisP56--Conv_zscan__07--_D9.npz\n",
      "Loaded decoded: -5.938729524612427\n",
      "Molecules size: (4289400, 4, 10)\n",
      "Covering reaoduts: [ 0.  1.  2.  3.  4.  5.  6.  7.  8.  9. 10. 11. 12. 13. 14. 15. 16. 17.\n",
      " 18. 19. 20. 21. 22. 23. 24. 25. 26. 27. 28. 29. 30. 31. 32. 33. 34. 35.\n",
      " 36. 37. 38. 39. 40. 41. 42. 43. 44. 45. 46. 47.]\n"
     ]
    },
    {
     "name": "stderr",
     "output_type": "stream",
     "text": [
      "\r",
      " 13%|██████████▎                                                                    | 47/360 [19:44<3:06:59, 35.85s/it]"
     ]
    },
    {
     "name": "stdout",
     "output_type": "stream",
     "text": [
      "Finished \\\\192.168.0.7\\bbfishmahsa3\\CGBB_embryo_4_28_2023\\FinalDecodedSpotsV3\\saveDecodedFinalV1--MERFISH_AnalysisP711--Conv_zscan__07--_D9.npz\n",
      "Loaded decoded: -2.2515106201171875\n",
      "Molecules size: (1563387, 4, 10)\n",
      "Covering reaoduts: [ 0.   0.5  1.   1.5  2.   2.5  3.   3.5  4.   4.5  5.   5.5  6.   6.5\n",
      "  7.   7.5  8.   8.5  9.   9.5 10.  10.5 11.  11.5 12.5 13.5 14.5 15.\n",
      " 15.5 16.  16.5 17.  17.5 18.  18.5 19.  19.5 20.  20.5 21.  21.5 22.\n",
      " 22.5 23.  23.5 24.  24.5 25.  25.5 26.  26.5 27.  27.5 28.  28.5 29.\n",
      " 29.5 30.  30.5 31.  31.5 32.  32.5 33.  34.  35.  36.  37.  38.  39.\n",
      " 40.  41.  42.  43.  44.  45.  46.  47. ]\n"
     ]
    },
    {
     "name": "stderr",
     "output_type": "stream",
     "text": [
      "\r",
      " 13%|██████████▌                                                                    | 48/360 [20:04<2:42:14, 31.20s/it]"
     ]
    },
    {
     "name": "stdout",
     "output_type": "stream",
     "text": [
      "Finished \\\\192.168.0.7\\bbfishmahsa3\\CGBB_embryo_4_28_2023\\FinalDecodedSpotsV3\\saveDecodedFinalV1--MERFISH_AnalysisE2--Conv_zscan__07--_D9.npz\n",
      "Loaded decoded: -5.465405464172363\n",
      "Molecules size: (4051698, 4, 10)\n",
      "Covering reaoduts: [ 0.   0.5  1.   1.5  2.   2.5  3.   4.   5.   6.   7.   8.   9.   9.5\n",
      " 10.  10.5 11.  11.5 12.  13.  14.  15.  16.  17.  18.  19.  20.  21.\n",
      " 22.  23.  24.  25.  26.  27.  28.  29.  30.  31.  32.  33.  34.  35.\n",
      " 36.  37.  38.  39.  40.  41.  42.  43.  44.  45.  46.  47. ]\n"
     ]
    },
    {
     "name": "stderr",
     "output_type": "stream",
     "text": [
      "\r",
      " 14%|██████████▊                                                                    | 49/360 [20:39<2:47:10, 32.25s/it]"
     ]
    },
    {
     "name": "stdout",
     "output_type": "stream",
     "text": [
      "Finished \\\\192.168.0.7\\bbfishmahsa3\\CGBB_embryo_4_28_2023\\FinalDecodedSpotsV3\\saveDecodedFinalV1--MERFISH_AnalysisP12--Conv_zscan__08--_D9.npz\n",
      "Loaded decoded: -2.71065092086792\n",
      "Molecules size: (1978385, 4, 10)\n",
      "Covering reaoduts: [ 0.  1.  2.  3.  4.  5.  6.  7.  8.  9. 10. 11. 12. 13. 14. 15. 16. 17.\n",
      " 18. 19. 20. 21. 22. 23. 24. 25. 26. 27. 28. 29. 30. 31. 32. 33. 34. 35.\n",
      " 36. 37. 38. 39. 40. 41. 42. 43. 44. 45. 46. 47.]\n"
     ]
    },
    {
     "name": "stderr",
     "output_type": "stream",
     "text": [
      "\r",
      " 14%|██████████▉                                                                    | 50/360 [21:02<2:33:22, 29.69s/it]"
     ]
    },
    {
     "name": "stdout",
     "output_type": "stream",
     "text": [
      "Finished \\\\192.168.0.7\\bbfishmahsa3\\CGBB_embryo_4_28_2023\\FinalDecodedSpotsV3\\saveDecodedFinalV1--MERFISH_AnalysisP34--Conv_zscan__08--_D9.npz\n",
      "Loaded decoded: -1.3740527629852295\n",
      "Molecules size: (931961, 4, 10)\n",
      "Covering reaoduts: [ 0.   1.   2.   3.   4.   5.   6.   7.   8.   9.  10.  11.  12.  13.\n",
      " 14.  15.  16.  17.  18.  19.  20.  21.  22.  23.  24.  25.  26.  27.\n",
      " 28.  29.  30.  30.5 31.  31.5 32.  32.5 33.  33.5 34.  34.5 35.  35.5\n",
      " 36.  36.5 37.  37.5 38.  38.5 39.  39.5 40.  40.5 41.  41.5 42.  42.5\n",
      " 43.  43.5 44.  44.5 45.  45.5 46.  46.5 47.  47.5]\n"
     ]
    },
    {
     "name": "stderr",
     "output_type": "stream",
     "text": [
      "\r",
      " 14%|███████████▏                                                                   | 51/360 [21:22<2:16:43, 26.55s/it]"
     ]
    },
    {
     "name": "stdout",
     "output_type": "stream",
     "text": [
      "Finished \\\\192.168.0.7\\bbfishmahsa3\\CGBB_embryo_4_28_2023\\FinalDecodedSpotsV3\\saveDecodedFinalV1--MERFISH_AnalysisE1--Conv_zscan__08--_D9.npz\n",
      "Loaded decoded: -3.538700819015503\n",
      "Molecules size: (2694997, 4, 10)\n",
      "Covering reaoduts: [ 0.  1.  2.  3.  4.  5.  6.  7.  8.  9. 10. 11. 12. 13. 14. 15. 16. 17.\n",
      " 18. 19. 20. 21. 22. 23. 24. 25. 26. 27. 28. 29. 30. 31. 32. 33. 34. 35.\n",
      " 36. 37. 38. 39. 40. 41. 42. 43. 44. 45. 46. 47.]\n"
     ]
    },
    {
     "name": "stderr",
     "output_type": "stream",
     "text": [
      "\r",
      " 14%|███████████▍                                                                   | 52/360 [21:46<2:12:31, 25.82s/it]"
     ]
    },
    {
     "name": "stdout",
     "output_type": "stream",
     "text": [
      "Finished \\\\192.168.0.7\\bbfishmahsa3\\CGBB_embryo_4_28_2023\\FinalDecodedSpotsV3\\saveDecodedFinalV1--MERFISH_AnalysisP56--Conv_zscan__08--_D9.npz\n",
      "Loaded decoded: -3.7948415279388428\n",
      "Molecules size: (2261716, 4, 10)\n",
      "Covering reaoduts: [ 0.  1.  2.  3.  4.  5.  6.  7.  8.  9. 10. 11. 12. 13. 14. 15. 16. 17.\n",
      " 18. 19. 20. 21. 22. 23. 24. 25. 26. 27. 28. 29. 30. 31. 32. 33. 34. 35.\n",
      " 36. 37. 38. 39. 40. 41. 42. 43. 44. 45. 46. 47.]\n"
     ]
    },
    {
     "name": "stderr",
     "output_type": "stream",
     "text": [
      "\r",
      " 15%|███████████▋                                                                   | 53/360 [22:11<2:10:51, 25.57s/it]"
     ]
    },
    {
     "name": "stdout",
     "output_type": "stream",
     "text": [
      "Finished \\\\192.168.0.7\\bbfishmahsa3\\CGBB_embryo_4_28_2023\\FinalDecodedSpotsV3\\saveDecodedFinalV1--MERFISH_AnalysisP711--Conv_zscan__08--_D9.npz\n",
      "Loaded decoded: -1.3084971904754639\n",
      "Molecules size: (861642, 4, 10)\n",
      "Covering reaoduts: [ 0.   0.5  1.   1.5  2.   2.5  3.   3.5  4.   4.5  5.   5.5  6.   6.5\n",
      "  7.   7.5  8.   8.5  9.   9.5 10.  10.5 11.  11.5 12.  12.5 13.  13.5\n",
      " 14.  14.5 15.  15.5 16.  16.5 17.  17.5 18.  18.5 19.  19.5 20.  20.5\n",
      " 21.  21.5 22.  22.5 23.  23.5 24.  24.5 25.  25.5 26.  26.5 27.  27.5\n",
      " 28.  28.5 29.  29.5 30.  30.5 31.  31.5 32.  32.5 33.  34.  35.  36.\n",
      " 37.  38.  39.  40.  41.  42.  43.  44.  45.  46.  47. ]\n"
     ]
    },
    {
     "name": "stderr",
     "output_type": "stream",
     "text": [
      "\r",
      " 15%|███████████▊                                                                   | 54/360 [22:29<1:59:10, 23.37s/it]"
     ]
    },
    {
     "name": "stdout",
     "output_type": "stream",
     "text": [
      "Finished \\\\192.168.0.7\\bbfishmahsa3\\CGBB_embryo_4_28_2023\\FinalDecodedSpotsV3\\saveDecodedFinalV1--MERFISH_AnalysisE2--Conv_zscan__08--_D9.npz\n",
      "Loaded decoded: -0.06316208839416504\n",
      "Molecules size: (939, 4, 10)\n",
      "Covering reaoduts: [ 0.   0.5  1.   2.   2.5  3.   4.   5.   6.   7.   8.   9.  10.  10.5\n",
      " 11.  11.5 12.  13.  14.  15.  16.  17.  18.  19.  20.  22.  23.  25.\n",
      " 28.  37.  40.  46. ]\n"
     ]
    },
    {
     "name": "stderr",
     "output_type": "stream",
     "text": [
      "C:\\Users\\BintuLabUser\\anaconda3\\envs\\cellpose\\lib\\site-packages\\numpy\\core\\fromnumeric.py:3464: RuntimeWarning: Mean of empty slice.\n",
      "  return _methods._mean(a, axis=axis, dtype=dtype,\n",
      "C:\\Users\\BintuLabUser\\anaconda3\\envs\\cellpose\\lib\\site-packages\\numpy\\core\\_methods.py:192: RuntimeWarning: invalid value encountered in scalar divide\n",
      "  ret = ret.dtype.type(ret / rcount)\n",
      " 15%|████████████                                                                   | 55/360 [22:36<1:33:14, 18.34s/it]"
     ]
    },
    {
     "name": "stdout",
     "output_type": "stream",
     "text": [
      "Finished \\\\192.168.0.7\\bbfishmahsa3\\CGBB_embryo_4_28_2023\\FinalDecodedSpotsV3\\saveDecodedFinalV1--MERFISH_AnalysisP12--Conv_zscan__09--_D9.npz\n",
      "Loaded decoded: -0.07396697998046875\n",
      "Molecules size: (592, 4, 10)\n",
      "Covering reaoduts: [ 0.  1.  2.  3.  4.  5.  6.  7.  8.  9. 10. 11. 12. 13. 14. 15. 16. 17.\n",
      " 18. 19. 20. 21. 22. 23. 24. 25. 26. 27. 28. 29. 30. 31. 32. 33. 34. 35.\n",
      " 36. 37. 38. 39. 40. 41. 42. 43. 44. 45. 46. 47.]\n"
     ]
    },
    {
     "name": "stderr",
     "output_type": "stream",
     "text": [
      "\r",
      " 16%|████████████▎                                                                  | 56/360 [22:45<1:18:39, 15.52s/it]"
     ]
    },
    {
     "name": "stdout",
     "output_type": "stream",
     "text": [
      "Finished \\\\192.168.0.7\\bbfishmahsa3\\CGBB_embryo_4_28_2023\\FinalDecodedSpotsV3\\saveDecodedFinalV1--MERFISH_AnalysisP34--Conv_zscan__09--_D9.npz\n",
      "Loaded decoded: -0.23909258842468262\n",
      "Molecules size: (869, 4, 10)\n",
      "Covering reaoduts: [ 0.   1.   2.   3.   4.   5.   6.   7.   8.   9.  10.  11.  12.  13.\n",
      " 14.  15.  16.  17.  18.  19.  20.  21.  22.  23.  24.  25.  26.  27.\n",
      " 28.  29.  30.  30.5 31.  31.5 32.  32.5 33.  33.5 34.  34.5 35.  35.5\n",
      " 36.  36.5 37.  37.5 38.  38.5 39.  39.5 40.  40.5 41.  41.5 42.  42.5\n",
      " 43.  43.5 44.  44.5 45.  45.5 46.  46.5 47.  47.5]\n"
     ]
    },
    {
     "name": "stderr",
     "output_type": "stream",
     "text": [
      "\r",
      " 16%|████████████▌                                                                  | 57/360 [22:53<1:07:23, 13.34s/it]"
     ]
    },
    {
     "name": "stdout",
     "output_type": "stream",
     "text": [
      "Finished \\\\192.168.0.7\\bbfishmahsa3\\CGBB_embryo_4_28_2023\\FinalDecodedSpotsV3\\saveDecodedFinalV1--MERFISH_AnalysisE1--Conv_zscan__09--_D9.npz\n",
      "Loaded decoded: -0.09325742721557617\n",
      "Molecules size: (9659, 4, 10)\n",
      "Covering reaoduts: [ 0.  1.  2.  3.  4.  5.  6.  7.  8.  9. 10. 11. 12. 13. 14. 15. 16. 17.\n",
      " 18. 19. 20. 21. 22. 23. 24. 25. 26. 27. 28. 29. 30. 31. 32. 33. 34. 35.\n",
      " 36. 37. 38. 39. 40. 41. 42. 43. 44. 45. 46. 47.]\n"
     ]
    },
    {
     "name": "stderr",
     "output_type": "stream",
     "text": [
      "\r",
      " 16%|████████████▋                                                                  | 58/360 [23:04<1:03:25, 12.60s/it]"
     ]
    },
    {
     "name": "stdout",
     "output_type": "stream",
     "text": [
      "Finished \\\\192.168.0.7\\bbfishmahsa3\\CGBB_embryo_4_28_2023\\FinalDecodedSpotsV3\\saveDecodedFinalV1--MERFISH_AnalysisP56--Conv_zscan__09--_D9.npz\n",
      "Loaded decoded: -0.14613556861877441\n",
      "Molecules size: (522, 4, 10)\n",
      "Covering reaoduts: [ 0.  1.  2.  3.  4.  5.  6.  7.  8.  9. 10. 12. 13. 14. 15. 16. 17. 18.\n",
      " 19. 20. 21. 22. 23. 24. 25. 26. 27. 28. 29. 30. 31. 32. 33. 34. 35. 36.\n",
      " 37. 38. 39. 40. 41. 42. 43. 44. 45. 46. 47.]\n"
     ]
    },
    {
     "name": "stderr",
     "output_type": "stream",
     "text": [
      "\r",
      " 16%|█████████████▎                                                                   | 59/360 [23:12<55:59, 11.16s/it]"
     ]
    },
    {
     "name": "stdout",
     "output_type": "stream",
     "text": [
      "Finished \\\\192.168.0.7\\bbfishmahsa3\\CGBB_embryo_4_28_2023\\FinalDecodedSpotsV3\\saveDecodedFinalV1--MERFISH_AnalysisP711--Conv_zscan__09--_D9.npz\n",
      "Loaded decoded: -0.0842444896697998\n",
      "Molecules size: (5294, 4, 10)\n",
      "Covering reaoduts: [ 0.   0.5  1.   1.5  2.   2.5  3.   3.5  4.   4.5  5.   5.5  6.   6.5\n",
      "  7.   7.5  8.   8.5  9.   9.5 10.  10.5 11.  11.5 12.  12.5 13.  13.5\n",
      " 14.  14.5 15.  15.5 16.  16.5 17.  17.5 18.  18.5 19.  19.5 20.  20.5\n",
      " 21.  21.5 22.  22.5 23.  23.5 24.  24.5 25.  25.5 26.  26.5 27.  27.5\n",
      " 28.  28.5 29.  29.5 30.  30.5 31.  31.5 32.  32.5 33.  34.  35.  36.\n",
      " 37.  38.  39.  40.  41.  42.  43.  44.  45.  46.  47. ]\n"
     ]
    },
    {
     "name": "stderr",
     "output_type": "stream",
     "text": [
      "\r",
      " 17%|█████████████▌                                                                   | 60/360 [23:22<54:24, 10.88s/it]"
     ]
    },
    {
     "name": "stdout",
     "output_type": "stream",
     "text": [
      "Finished \\\\192.168.0.7\\bbfishmahsa3\\CGBB_embryo_4_28_2023\\FinalDecodedSpotsV3\\saveDecodedFinalV1--MERFISH_AnalysisE2--Conv_zscan__09--_D9.npz\n",
      "Loaded decoded: -15.728860139846802\n",
      "Molecules size: (9468409, 4, 10)\n",
      "Covering reaoduts: [ 0.   0.5  1.   1.5  2.   2.5  3.   4.   5.   6.   7.   8.   9.   9.5\n",
      " 10.  10.5 11.  11.5 12.  13.  14.  15.  16.  17.  18.  19.  20.  21.\n",
      " 22.  23.  24.  25.  26.  27.  28.  29.  30.  31.  32.  33.  34.  35.\n",
      " 36.  37.  38.  39.  40.  41.  42.  43.  44.  45.  46.  47. ]\n",
      "Finished \\\\192.168.0.7\\bbfishmahsa3\\CGBB_embryo_4_28_2023\\FinalDecodedSpotsV3\\saveDecodedFinalV1--MERFISH_AnalysisP12--Conv_zscan__10--_D9.npz\n"
     ]
    },
    {
     "name": "stderr",
     "output_type": "stream",
     "text": [
      "\r",
      " 17%|█████████████▍                                                                 | 61/360 [24:24<2:11:10, 26.32s/it]"
     ]
    },
    {
     "name": "stdout",
     "output_type": "stream",
     "text": [
      "Loaded decoded: -8.025205850601196\n",
      "Molecules size: (4866649, 4, 10)\n",
      "Covering reaoduts: [ 0.   1.   2.   3.   4.   5.   6.   7.   8.   9.  10.  11.  12.  13.\n",
      " 14.  15.  16.  17.  18.  19.  20.  21.  22.  23.  24.  25.  26.  27.\n",
      " 27.5 28.  28.5 29.  29.5 30.  30.5 31.  31.5 32.  32.5 33.  33.5 34.\n",
      " 34.5 35.  35.5 36.  37.  38.  39.  40.  41.  42.  43.  44.  45.  45.5\n",
      " 46.  46.5 47.  47.5]\n"
     ]
    },
    {
     "name": "stderr",
     "output_type": "stream",
     "text": [
      "\r",
      " 17%|█████████████▌                                                                 | 62/360 [25:03<2:30:02, 30.21s/it]"
     ]
    },
    {
     "name": "stdout",
     "output_type": "stream",
     "text": [
      "Finished \\\\192.168.0.7\\bbfishmahsa3\\CGBB_embryo_4_28_2023\\FinalDecodedSpotsV3\\saveDecodedFinalV1--MERFISH_AnalysisP34--Conv_zscan__10--_D9.npz\n",
      "Loaded decoded: -3.3248744010925293\n",
      "Molecules size: (2084337, 4, 10)\n",
      "Covering reaoduts: [ 0.   1.   2.   3.   4.   5.   6.   7.   8.   9.  10.  11.  12.  13.\n",
      " 14.  15.  16.  17.  18.  19.  20.  21.  22.  23.  24.  25.  26.  27.\n",
      " 28.  29.  30.  30.5 31.  31.5 32.  32.5 33.  33.5 34.  34.5 35.  35.5\n",
      " 36.  36.5 37.  37.5 38.  38.5 39.  39.5 40.  40.5 41.  41.5 42.  42.5\n",
      " 43.  43.5 44.  44.5 45.  45.5 46.  46.5 47.  47.5]\n"
     ]
    },
    {
     "name": "stderr",
     "output_type": "stream",
     "text": [
      "\r",
      " 18%|█████████████▊                                                                 | 63/360 [25:30<2:24:16, 29.15s/it]"
     ]
    },
    {
     "name": "stdout",
     "output_type": "stream",
     "text": [
      "Finished \\\\192.168.0.7\\bbfishmahsa3\\CGBB_embryo_4_28_2023\\FinalDecodedSpotsV3\\saveDecodedFinalV1--MERFISH_AnalysisE1--Conv_zscan__10--_D9.npz\n",
      "Loaded decoded: -9.309748888015747\n",
      "Molecules size: (6542632, 4, 10)\n",
      "Covering reaoduts: [ 0.   1.   2.   3.   4.   5.   6.   7.   8.   9.  10.  11.  12.  12.5\n",
      " 13.  13.5 14.  14.5 15.  16.  17.  18.  19.  20.  21.  22.  23.  24.\n",
      " 25.  26.  27.  28.  29.  30.  31.  32.  33.  34.  35.  36.  37.  38.\n",
      " 39.  40.  41.  42.  43.  44.  45.  46.  47. ]\n",
      "Finished \\\\192.168.0.7\\bbfishmahsa3\\CGBB_embryo_4_28_2023\\FinalDecodedSpotsV3\\saveDecodedFinalV1--MERFISH_AnalysisP56--Conv_zscan__10--_D9.npz\n"
     ]
    },
    {
     "name": "stderr",
     "output_type": "stream",
     "text": [
      "\r",
      " 18%|██████████████                                                                 | 64/360 [26:15<2:47:18, 33.91s/it]"
     ]
    },
    {
     "name": "stdout",
     "output_type": "stream",
     "text": [
      "Loaded decoded: -7.433950185775757\n",
      "Molecules size: (5263379, 4, 10)\n",
      "Covering reaoduts: [ 0.  1.  2.  3.  4.  5.  6.  7.  8.  9. 10. 11. 12. 13. 14. 15. 16. 17.\n",
      " 18. 19. 20. 21. 22. 23. 24. 25. 26. 27. 28. 29. 30. 31. 32. 33. 34. 35.\n",
      " 36. 37. 38. 39. 40. 41. 42. 43. 44. 45. 46. 47.]\n"
     ]
    },
    {
     "name": "stderr",
     "output_type": "stream",
     "text": [
      "\r",
      " 18%|██████████████▎                                                                | 65/360 [26:56<2:56:48, 35.96s/it]"
     ]
    },
    {
     "name": "stdout",
     "output_type": "stream",
     "text": [
      "Finished \\\\192.168.0.7\\bbfishmahsa3\\CGBB_embryo_4_28_2023\\FinalDecodedSpotsV3\\saveDecodedFinalV1--MERFISH_AnalysisP711--Conv_zscan__10--_D9.npz\n",
      "Loaded decoded: -3.0662407875061035\n",
      "Molecules size: (1963754, 4, 10)\n",
      "Covering reaoduts: [ 0.   0.5  1.   1.5  2.   2.5  3.   3.5  4.   4.5  5.   5.5  6.   6.5\n",
      "  7.   7.5  8.   8.5  9.   9.5 10.  10.5 11.  11.5 12.  12.5 13.  13.5\n",
      " 14.  14.5 15.  15.5 16.  16.5 17.  17.5 18.  18.5 19.  19.5 20.  20.5\n",
      " 21.  21.5 22.  22.5 23.  23.5 24.  24.5 25.  25.5 26.  26.5 27.  27.5\n",
      " 28.  28.5 29.  29.5 30.  30.5 31.  31.5 32.  32.5 33.  34.  35.  36.\n",
      " 37.  38.  39.  40.  41.  42.  43.  44.  45.  46.  47. ]\n"
     ]
    },
    {
     "name": "stderr",
     "output_type": "stream",
     "text": [
      "\r",
      " 18%|██████████████▍                                                                | 66/360 [27:21<2:39:54, 32.63s/it]"
     ]
    },
    {
     "name": "stdout",
     "output_type": "stream",
     "text": [
      "Finished \\\\192.168.0.7\\bbfishmahsa3\\CGBB_embryo_4_28_2023\\FinalDecodedSpotsV3\\saveDecodedFinalV1--MERFISH_AnalysisE2--Conv_zscan__10--_D9.npz\n",
      "Loaded decoded: -0.06983542442321777\n",
      "Molecules size: (1385, 4, 10)\n",
      "Covering reaoduts: [ 0.   0.5  1.   1.5  2.   3.   4.   5.   6.   7.   8.   9.   9.5 10.\n",
      " 10.5 11.  11.5 12.  13.  14.  15.  16.  17.  18.  19.  20.  21.  22.\n",
      " 23.  24.  25.  26.  27.  28.  29.  30.  31.  32.  33.  34.  35.  36.\n",
      " 37.  38.  39.  40.  41.  42.  43.  44.  45.  46.  47. ]\n"
     ]
    },
    {
     "name": "stderr",
     "output_type": "stream",
     "text": [
      "\r",
      " 19%|██████████████▋                                                                | 67/360 [27:33<2:09:59, 26.62s/it]"
     ]
    },
    {
     "name": "stdout",
     "output_type": "stream",
     "text": [
      "Finished \\\\192.168.0.7\\bbfishmahsa3\\CGBB_embryo_4_28_2023\\FinalDecodedSpotsV3\\saveDecodedFinalV1--MERFISH_AnalysisP12--Conv_zscan__11--_D9.npz\n",
      "Loaded decoded: -0.06410717964172363\n",
      "Molecules size: (435, 4, 10)\n",
      "Covering reaoduts: [ 0.  1.  2.  3.  4.  5.  6.  7.  8.  9. 10. 11. 12. 13. 14. 15. 16. 17.\n",
      " 18. 19. 20. 21. 22. 23. 24. 25. 26. 27. 28. 29. 30. 31. 32. 33. 34. 35.\n",
      " 36. 37. 39. 40. 42. 43. 45. 46. 47.]\n"
     ]
    },
    {
     "name": "stderr",
     "output_type": "stream",
     "text": [
      "\r",
      " 19%|██████████████▉                                                                | 68/360 [27:43<1:44:36, 21.49s/it]"
     ]
    },
    {
     "name": "stdout",
     "output_type": "stream",
     "text": [
      "Finished \\\\192.168.0.7\\bbfishmahsa3\\CGBB_embryo_4_28_2023\\FinalDecodedSpotsV3\\saveDecodedFinalV1--MERFISH_AnalysisP34--Conv_zscan__11--_D9.npz\n",
      "Loaded decoded: -0.04439997673034668\n",
      "Molecules size: (371, 4, 10)\n",
      "Covering reaoduts: [ 0.   1.   2.   3.   4.   5.   6.   7.   8.   9.  10.  11.  12.  13.\n",
      " 14.  15.  16.  17.  18.  19.  20.  21.  22.  23.  24.  25.  26.  27.\n",
      " 28.  29.  30.  30.5 31.  31.5 32.  32.5 33.  34.  34.5 35.  35.5 36.\n",
      " 36.5 37.  37.5 38.  38.5 39.  40.  41.  42.  42.5 43.  43.5 44.  44.5\n",
      " 45.  45.5 46.  46.5 47.  47.5]\n"
     ]
    },
    {
     "name": "stderr",
     "output_type": "stream",
     "text": [
      "\r",
      " 19%|███████████████▏                                                               | 69/360 [27:50<1:22:42, 17.05s/it]"
     ]
    },
    {
     "name": "stdout",
     "output_type": "stream",
     "text": [
      "Finished \\\\192.168.0.7\\bbfishmahsa3\\CGBB_embryo_4_28_2023\\FinalDecodedSpotsV3\\saveDecodedFinalV1--MERFISH_AnalysisE1--Conv_zscan__11--_D9.npz\n",
      "Loaded decoded: -0.08271288871765137\n",
      "Molecules size: (10789, 4, 10)\n",
      "Covering reaoduts: [ 0.  1.  2.  3.  4.  5.  6.  7.  8.  9. 10. 11. 12. 13. 14. 15. 16. 17.\n",
      " 18. 19. 20. 21. 22. 23. 24. 25. 26. 27. 28. 29. 30. 31. 32. 33. 34. 35.\n",
      " 36. 37. 38. 39. 40. 41. 42. 43. 44. 45. 46. 47.]\n"
     ]
    },
    {
     "name": "stderr",
     "output_type": "stream",
     "text": [
      "\r",
      " 19%|███████████████▎                                                               | 70/360 [28:00<1:12:42, 15.04s/it]"
     ]
    },
    {
     "name": "stdout",
     "output_type": "stream",
     "text": [
      "Finished \\\\192.168.0.7\\bbfishmahsa3\\CGBB_embryo_4_28_2023\\FinalDecodedSpotsV3\\saveDecodedFinalV1--MERFISH_AnalysisP56--Conv_zscan__11--_D9.npz\n",
      "Loaded decoded: -0.04591798782348633\n",
      "Molecules size: (566, 4, 10)\n",
      "Covering reaoduts: [ 2.  3.  5.  7.  8.  9. 10. 11. 12. 13. 14. 15. 16. 17. 18. 19. 20. 21.\n",
      " 22. 23. 24. 25. 26. 27. 28. 29. 30. 31. 32. 33. 34. 35. 36. 37. 38. 39.\n",
      " 41. 42. 43. 44. 45. 46. 47.]\n"
     ]
    },
    {
     "name": "stderr",
     "output_type": "stream",
     "text": [
      "\r",
      " 20%|███████████████▌                                                               | 71/360 [28:09<1:03:55, 13.27s/it]"
     ]
    },
    {
     "name": "stdout",
     "output_type": "stream",
     "text": [
      "Finished \\\\192.168.0.7\\bbfishmahsa3\\CGBB_embryo_4_28_2023\\FinalDecodedSpotsV3\\saveDecodedFinalV1--MERFISH_AnalysisP711--Conv_zscan__11--_D9.npz\n",
      "Loaded decoded: -0.10691070556640625\n",
      "Molecules size: (7738, 4, 10)\n",
      "Covering reaoduts: [ 0.   0.5  1.   1.5  2.   2.5  3.   3.5  4.   4.5  5.   5.5  6.   6.5\n",
      "  7.   7.5  8.   8.5  9.   9.5 10.  10.5 11.  11.5 12.  12.5 13.  13.5\n",
      " 14.  14.5 15.  15.5 16.  16.5 17.  17.5 18.  18.5 19.  19.5 20.  20.5\n",
      " 21.  21.5 22.  22.5 23.  23.5 24.  24.5 25.  25.5 26.  26.5 27.  27.5\n",
      " 28.  28.5 29.  29.5 30.  30.5 31.  31.5 32.  32.5 33.  34.  35.  36.\n",
      " 37.  38.  39.  40.  41.  42.  43.  44.  45.  46.  47. ]\n"
     ]
    },
    {
     "name": "stderr",
     "output_type": "stream",
     "text": [
      "\r",
      " 20%|████████████████▏                                                                | 72/360 [28:19<58:48, 12.25s/it]"
     ]
    },
    {
     "name": "stdout",
     "output_type": "stream",
     "text": [
      "Finished \\\\192.168.0.7\\bbfishmahsa3\\CGBB_embryo_4_28_2023\\FinalDecodedSpotsV3\\saveDecodedFinalV1--MERFISH_AnalysisE2--Conv_zscan__11--_D9.npz\n",
      "Loaded decoded: -6.38407826423645\n",
      "Molecules size: (4584574, 4, 10)\n",
      "Covering reaoduts: [ 0.   0.5  1.   1.5  2.   2.5  3.   4.   5.   6.   7.   8.   9.   9.5\n",
      " 10.  10.5 11.  11.5 12.  13.  14.  15.  16.  17.  18.  19.  20.  21.\n",
      " 22.  23.  24.  25.  26.  27.  28.  29.  30.  31.  32.  33.  34.  35.\n",
      " 36.  37.  38.  39.  40.  41.  42.  43.  44.  45.  46.  47. ]\n"
     ]
    },
    {
     "name": "stderr",
     "output_type": "stream",
     "text": [
      "\r",
      " 20%|████████████████                                                               | 73/360 [28:53<1:30:27, 18.91s/it]"
     ]
    },
    {
     "name": "stdout",
     "output_type": "stream",
     "text": [
      "Finished \\\\192.168.0.7\\bbfishmahsa3\\CGBB_embryo_4_28_2023\\FinalDecodedSpotsV3\\saveDecodedFinalV1--MERFISH_AnalysisP12--Conv_zscan__12--_D9.npz\n",
      "Loaded decoded: -5.786668300628662\n",
      "Molecules size: (3036933, 4, 10)\n",
      "Covering reaoduts: [ 0.   1.   2.   3.   4.   5.   6.   7.   8.   9.  10.  11.  12.  13.\n",
      " 14.  15.  16.  17.  18.  19.  20.  21.  22.  23.  24.  25.  26.  27.\n",
      " 27.5 28.  28.5 29.  29.5 30.  30.5 31.  31.5 32.  32.5 33.  33.5 34.\n",
      " 34.5 35.  35.5 36.  37.  38.  39.  40.  41.  42.  43.  44.  45.  45.5\n",
      " 46.  46.5 47.  47.5]\n"
     ]
    },
    {
     "name": "stderr",
     "output_type": "stream",
     "text": [
      "\r",
      " 21%|████████████████▏                                                              | 74/360 [29:25<1:48:27, 22.75s/it]"
     ]
    },
    {
     "name": "stdout",
     "output_type": "stream",
     "text": [
      "Finished \\\\192.168.0.7\\bbfishmahsa3\\CGBB_embryo_4_28_2023\\FinalDecodedSpotsV3\\saveDecodedFinalV1--MERFISH_AnalysisP34--Conv_zscan__12--_D9.npz\n",
      "Loaded decoded: -1.8367602825164795\n",
      "Molecules size: (1297797, 4, 10)\n",
      "Covering reaoduts: [ 0.   1.   2.   3.   4.   5.   6.   7.   8.   9.  10.  11.  12.  13.\n",
      " 14.  15.  16.  17.  18.  19.  20.  21.  22.  23.  24.  25.  26.  27.\n",
      " 28.  29.  30.  30.5 31.  31.5 32.  32.5 33.  33.5 34.  34.5 35.  35.5\n",
      " 36.  36.5 37.  37.5 38.  38.5 39.  39.5 40.  40.5 41.  41.5 42.  42.5\n",
      " 43.  43.5 44.  44.5 45.  45.5 46.  46.5 47.  47.5]\n"
     ]
    },
    {
     "name": "stderr",
     "output_type": "stream",
     "text": [
      "\r",
      " 21%|████████████████▍                                                              | 75/360 [29:45<1:44:37, 22.03s/it]"
     ]
    },
    {
     "name": "stdout",
     "output_type": "stream",
     "text": [
      "Finished \\\\192.168.0.7\\bbfishmahsa3\\CGBB_embryo_4_28_2023\\FinalDecodedSpotsV3\\saveDecodedFinalV1--MERFISH_AnalysisE1--Conv_zscan__12--_D9.npz\n",
      "Loaded decoded: -5.482802629470825\n",
      "Molecules size: (3906386, 4, 10)\n",
      "Covering reaoduts: [ 0.   1.   2.   3.   4.   5.   6.   7.   8.   9.  10.  11.  12.  12.5\n",
      " 13.  13.5 14.  14.5 15.  16.  17.  18.  19.  20.  21.  22.  23.  24.\n",
      " 25.  26.  27.  28.  29.  30.  31.  32.  33.  34.  35.  36.  37.  38.\n",
      " 39.  40.  41.  42.  43.  44.  45.  46.  47. ]\n"
     ]
    },
    {
     "name": "stderr",
     "output_type": "stream",
     "text": [
      "\r",
      " 21%|████████████████▋                                                              | 76/360 [30:17<1:57:23, 24.80s/it]"
     ]
    },
    {
     "name": "stdout",
     "output_type": "stream",
     "text": [
      "Finished \\\\192.168.0.7\\bbfishmahsa3\\CGBB_embryo_4_28_2023\\FinalDecodedSpotsV3\\saveDecodedFinalV1--MERFISH_AnalysisP56--Conv_zscan__12--_D9.npz\n",
      "Loaded decoded: -4.332715272903442\n",
      "Molecules size: (3271210, 4, 10)\n",
      "Covering reaoduts: [ 0.  1.  2.  3.  4.  5.  6.  7.  8.  9. 10. 11. 12. 13. 14. 15. 16. 17.\n",
      " 18. 19. 20. 21. 22. 23. 24. 25. 26. 27. 28. 29. 30. 31. 32. 33. 34. 35.\n",
      " 36. 37. 38. 39. 40. 41. 42. 43. 44. 45. 46. 47.]\n"
     ]
    },
    {
     "name": "stderr",
     "output_type": "stream",
     "text": [
      "\r",
      " 21%|████████████████▉                                                              | 77/360 [30:43<1:59:37, 25.36s/it]"
     ]
    },
    {
     "name": "stdout",
     "output_type": "stream",
     "text": [
      "Finished \\\\192.168.0.7\\bbfishmahsa3\\CGBB_embryo_4_28_2023\\FinalDecodedSpotsV3\\saveDecodedFinalV1--MERFISH_AnalysisP711--Conv_zscan__12--_D9.npz\n",
      "Loaded decoded: -1.8501300811767578\n",
      "Molecules size: (1272761, 4, 10)\n",
      "Covering reaoduts: [ 0.   0.5  1.   1.5  2.   2.5  3.   3.5  4.   4.5  5.   5.5  6.   6.5\n",
      "  7.   7.5  8.   8.5  9.   9.5 10.  10.5 11.  11.5 12.  12.5 13.  13.5\n",
      " 14.  14.5 15.  15.5 16.  16.5 17.  17.5 18.  18.5 19.  19.5 20.  20.5\n",
      " 21.  21.5 22.  22.5 23.  23.5 24.  24.5 25.  25.5 26.  26.5 27.  27.5\n",
      " 28.  28.5 29.  29.5 30.  30.5 31.  31.5 32.  32.5 33.  34.  35.  36.\n",
      " 37.  38.  39.  40.  41.  42.  43.  44.  45.  46.  47. ]\n"
     ]
    },
    {
     "name": "stderr",
     "output_type": "stream",
     "text": [
      "\r",
      " 22%|█████████████████                                                              | 78/360 [31:01<1:48:20, 23.05s/it]"
     ]
    },
    {
     "name": "stdout",
     "output_type": "stream",
     "text": [
      "Finished \\\\192.168.0.7\\bbfishmahsa3\\CGBB_embryo_4_28_2023\\FinalDecodedSpotsV3\\saveDecodedFinalV1--MERFISH_AnalysisE2--Conv_zscan__12--_D9.npz\n",
      "Loaded decoded: -10.092068433761597\n",
      "Molecules size: (7407213, 4, 10)\n",
      "Covering reaoduts: [ 0.   0.5  1.   1.5  2.   2.5  3.   4.   5.   6.   7.   8.   9.   9.5\n",
      " 10.  10.5 11.  11.5 12.  13.  14.  15.  16.  17.  18.  19.  20.  21.\n",
      " 22.  23.  24.  25.  26.  27.  28.  29.  30.  31.  32.  33.  34.  35.\n",
      " 36.  37.  38.  39.  40.  41.  42.  43.  44.  45.  46.  47. ]\n"
     ]
    },
    {
     "name": "stderr",
     "output_type": "stream",
     "text": [
      "\r",
      " 22%|█████████████████▎                                                             | 79/360 [31:51<2:25:36, 31.09s/it]"
     ]
    },
    {
     "name": "stdout",
     "output_type": "stream",
     "text": [
      "Finished \\\\192.168.0.7\\bbfishmahsa3\\CGBB_embryo_4_28_2023\\FinalDecodedSpotsV3\\saveDecodedFinalV1--MERFISH_AnalysisP12--Conv_zscan__13--_D9.npz\n",
      "Loaded decoded: -7.093631744384766\n",
      "Molecules size: (3743803, 4, 10)\n",
      "Covering reaoduts: [ 0.   1.   2.   3.   4.   5.   6.   7.   8.   9.  10.  11.  12.  13.\n",
      " 14.  15.  16.  17.  18.  19.  20.  21.  22.  23.  24.  25.  26.  27.\n",
      " 27.5 28.  28.5 29.  29.5 30.  30.5 31.  31.5 32.  32.5 33.  33.5 34.\n",
      " 34.5 35.  35.5 36.  37.  38.  39.  40.  41.  42.  43.  44.  45.  45.5\n",
      " 46.  46.5 47.  47.5]\n"
     ]
    },
    {
     "name": "stderr",
     "output_type": "stream",
     "text": [
      "\r",
      " 22%|█████████████████▌                                                             | 80/360 [32:24<2:28:20, 31.79s/it]"
     ]
    },
    {
     "name": "stdout",
     "output_type": "stream",
     "text": [
      "Finished \\\\192.168.0.7\\bbfishmahsa3\\CGBB_embryo_4_28_2023\\FinalDecodedSpotsV3\\saveDecodedFinalV1--MERFISH_AnalysisP34--Conv_zscan__13--_D9.npz\n",
      "Loaded decoded: -2.25661301612854\n",
      "Molecules size: (1558936, 4, 10)\n",
      "Covering reaoduts: [ 0.   1.   2.   3.   4.   5.   6.   7.   8.   9.  10.  11.  12.  13.\n",
      " 14.  15.  16.  17.  18.  19.  20.  21.  22.  23.  24.  25.  26.  27.\n",
      " 28.  29.  30.  30.5 31.  31.5 32.  32.5 33.  33.5 34.  34.5 35.  35.5\n",
      " 36.  36.5 37.  37.5 38.  38.5 39.  39.5 40.  40.5 41.  41.5 42.  42.5\n",
      " 43.  43.5 44.  44.5 45.  45.5 46.  46.5 47.  47.5]\n"
     ]
    },
    {
     "name": "stderr",
     "output_type": "stream",
     "text": [
      "\r",
      " 22%|█████████████████▊                                                             | 81/360 [32:47<2:15:43, 29.19s/it]"
     ]
    },
    {
     "name": "stdout",
     "output_type": "stream",
     "text": [
      "Finished \\\\192.168.0.7\\bbfishmahsa3\\CGBB_embryo_4_28_2023\\FinalDecodedSpotsV3\\saveDecodedFinalV1--MERFISH_AnalysisE1--Conv_zscan__13--_D9.npz\n",
      "Loaded decoded: -6.332336664199829\n",
      "Molecules size: (4605851, 4, 10)\n",
      "Covering reaoduts: [ 0.  1.  2.  3.  4.  5.  6.  7.  8.  9. 10. 11. 12. 13. 14. 15. 16. 17.\n",
      " 18. 19. 20. 21. 22. 23. 24. 25. 26. 27. 28. 29. 30. 31. 32. 33. 34. 35.\n",
      " 36. 37. 38. 39. 40. 41. 42. 43. 44. 45. 46. 47.]\n"
     ]
    },
    {
     "name": "stderr",
     "output_type": "stream",
     "text": [
      "\r",
      " 23%|█████████████████▉                                                             | 82/360 [33:22<2:22:44, 30.81s/it]"
     ]
    },
    {
     "name": "stdout",
     "output_type": "stream",
     "text": [
      "Finished \\\\192.168.0.7\\bbfishmahsa3\\CGBB_embryo_4_28_2023\\FinalDecodedSpotsV3\\saveDecodedFinalV1--MERFISH_AnalysisP56--Conv_zscan__13--_D9.npz\n",
      "Loaded decoded: -5.410451173782349\n",
      "Molecules size: (3996142, 4, 10)\n",
      "Covering reaoduts: [ 0.  1.  2.  3.  4.  5.  6.  7.  8.  9. 10. 11. 12. 13. 14. 15. 16. 17.\n",
      " 18. 19. 20. 21. 22. 23. 24. 25. 26. 27. 28. 29. 30. 31. 32. 33. 34. 35.\n",
      " 36. 37. 38. 39. 40. 41. 42. 43. 44. 45. 46. 47.]\n"
     ]
    },
    {
     "name": "stderr",
     "output_type": "stream",
     "text": [
      "\r",
      " 23%|██████████████████▏                                                            | 83/360 [33:56<2:26:14, 31.68s/it]"
     ]
    },
    {
     "name": "stdout",
     "output_type": "stream",
     "text": [
      "Finished \\\\192.168.0.7\\bbfishmahsa3\\CGBB_embryo_4_28_2023\\FinalDecodedSpotsV3\\saveDecodedFinalV1--MERFISH_AnalysisP711--Conv_zscan__13--_D9.npz\n",
      "Loaded decoded: -2.218302011489868\n",
      "Molecules size: (1567542, 4, 10)\n",
      "Covering reaoduts: [ 0.   0.5  1.   1.5  2.   2.5  3.   3.5  4.   4.5  5.   5.5  6.   6.5\n",
      "  7.   7.5  8.   8.5  9.   9.5 10.  10.5 11.  11.5 12.  12.5 13.  13.5\n",
      " 14.  14.5 15.  15.5 16.  16.5 17.  17.5 18.  18.5 19.  19.5 20.  20.5\n",
      " 21.  21.5 22.  22.5 23.  23.5 24.  24.5 25.  25.5 26.  26.5 27.  27.5\n",
      " 28.  28.5 29.  29.5 30.  30.5 31.  31.5 32.  32.5 33.  34.  35.  36.\n",
      " 37.  38.  39.  40.  41.  42.  43.  44.  45.  46.  47. ]\n"
     ]
    },
    {
     "name": "stderr",
     "output_type": "stream",
     "text": [
      "\r",
      " 23%|██████████████████▍                                                            | 84/360 [34:18<2:13:07, 28.94s/it]"
     ]
    },
    {
     "name": "stdout",
     "output_type": "stream",
     "text": [
      "Finished \\\\192.168.0.7\\bbfishmahsa3\\CGBB_embryo_4_28_2023\\FinalDecodedSpotsV3\\saveDecodedFinalV1--MERFISH_AnalysisE2--Conv_zscan__13--_D9.npz\n",
      "Loaded decoded: -18.03613591194153\n",
      "Molecules size: (10693974, 4, 10)\n",
      "Covering reaoduts: [ 0.   0.5  1.   1.5  2.   2.5  3.   4.   5.   6.   7.   8.   9.   9.5\n",
      " 10.  10.5 11.  11.5 12.  13.  14.  15.  16.  17.  18.  19.  20.  21.\n",
      " 22.  23.  24.  25.  26.  27.  28.  29.  30.  31.  32.  33.  34.  35.\n",
      " 36.  37.  38.  39.  40.  41.  42.  43.  44.  45.  46.  47. ]\n"
     ]
    },
    {
     "name": "stderr",
     "output_type": "stream",
     "text": [
      "\r",
      " 24%|██████████████████▋                                                            | 85/360 [35:24<3:03:44, 40.09s/it]"
     ]
    },
    {
     "name": "stdout",
     "output_type": "stream",
     "text": [
      "Finished \\\\192.168.0.7\\bbfishmahsa3\\CGBB_embryo_4_28_2023\\FinalDecodedSpotsV3\\saveDecodedFinalV1--MERFISH_AnalysisP12--Conv_zscan__14--_D9.npz\n",
      "Loaded decoded: -11.048460006713867\n",
      "Molecules size: (5843991, 4, 10)\n",
      "Covering reaoduts: [ 0.  1.  2.  3.  4.  5.  6.  7.  8.  9. 10. 11. 12. 13. 14. 15. 16. 17.\n",
      " 18. 19. 20. 21. 22. 23. 24. 25. 26. 27. 28. 29. 30. 31. 32. 33. 34. 35.\n",
      " 36. 37. 38. 39. 40. 41. 42. 43. 44. 45. 46. 47.]\n"
     ]
    },
    {
     "name": "stderr",
     "output_type": "stream",
     "text": [
      "\r",
      " 24%|██████████████████▊                                                            | 86/360 [36:26<3:33:02, 46.65s/it]"
     ]
    },
    {
     "name": "stdout",
     "output_type": "stream",
     "text": [
      "Finished \\\\192.168.0.7\\bbfishmahsa3\\CGBB_embryo_4_28_2023\\FinalDecodedSpotsV3\\saveDecodedFinalV1--MERFISH_AnalysisP34--Conv_zscan__14--_D9.npz\n",
      "Loaded decoded: -3.0728368759155273\n",
      "Molecules size: (2069076, 4, 10)\n",
      "Covering reaoduts: [ 0.   1.   2.   3.   4.   5.   6.   7.   8.   9.  10.  11.  12.  13.\n",
      " 14.  15.  16.  17.  18.  19.  20.  21.  22.  23.  24.  25.  26.  27.\n",
      " 28.  29.  30.  30.5 31.  31.5 32.  32.5 33.  33.5 34.  34.5 35.  35.5\n",
      " 36.  36.5 37.  37.5 38.  38.5 39.  39.5 40.  40.5 41.  41.5 42.  42.5\n",
      " 43.  43.5 44.  44.5 45.  45.5 46.  46.5 47.  47.5]\n"
     ]
    },
    {
     "name": "stderr",
     "output_type": "stream",
     "text": [
      "\r",
      " 24%|███████████████████                                                            | 87/360 [36:57<3:10:27, 41.86s/it]"
     ]
    },
    {
     "name": "stdout",
     "output_type": "stream",
     "text": [
      "Finished \\\\192.168.0.7\\bbfishmahsa3\\CGBB_embryo_4_28_2023\\FinalDecodedSpotsV3\\saveDecodedFinalV1--MERFISH_AnalysisE1--Conv_zscan__14--_D9.npz\n",
      "Loaded decoded: -11.029526710510254\n",
      "Molecules size: (8011513, 4, 10)\n",
      "Covering reaoduts: [ 0.  1.  2.  3.  4.  5.  6.  7.  8.  9. 10. 11. 12. 13. 14. 15. 16. 17.\n",
      " 18. 19. 20. 21. 22. 23. 24. 25. 26. 27. 28. 29. 30. 31. 32. 33. 34. 35.\n",
      " 36. 37. 38. 39. 40. 41. 42. 43. 44. 45. 46. 47.]\n"
     ]
    },
    {
     "name": "stderr",
     "output_type": "stream",
     "text": [
      "\r",
      " 24%|███████████████████▎                                                           | 88/360 [38:13<3:55:59, 52.06s/it]"
     ]
    },
    {
     "name": "stdout",
     "output_type": "stream",
     "text": [
      "Finished \\\\192.168.0.7\\bbfishmahsa3\\CGBB_embryo_4_28_2023\\FinalDecodedSpotsV3\\saveDecodedFinalV1--MERFISH_AnalysisP56--Conv_zscan__14--_D9.npz\n",
      "Loaded decoded: -9.010118007659912\n",
      "Molecules size: (6290123, 4, 10)\n",
      "Covering reaoduts: [ 0.  1.  2.  3.  4.  5.  6.  7.  8.  9. 10. 11. 12. 13. 14. 15. 16. 17.\n",
      " 18. 19. 20. 21. 22. 23. 24. 25. 26. 27. 28. 29. 30. 31. 32. 33. 34. 35.\n",
      " 36. 37. 38. 39. 40. 41. 42. 43. 44. 45. 46. 47.]\n"
     ]
    },
    {
     "name": "stderr",
     "output_type": "stream",
     "text": [
      "\r",
      " 25%|███████████████████▌                                                           | 89/360 [39:16<4:10:24, 55.44s/it]"
     ]
    },
    {
     "name": "stdout",
     "output_type": "stream",
     "text": [
      "Finished \\\\192.168.0.7\\bbfishmahsa3\\CGBB_embryo_4_28_2023\\FinalDecodedSpotsV3\\saveDecodedFinalV1--MERFISH_AnalysisP711--Conv_zscan__14--_D9.npz\n",
      "Loaded decoded: -3.5994651317596436\n",
      "Molecules size: (2418367, 4, 10)\n",
      "Covering reaoduts: [ 0.   0.5  1.   1.5  2.   2.5  3.   3.5  4.   4.5  5.   5.5  6.   6.5\n",
      "  7.   7.5  8.   8.5  9.   9.5 10.  10.5 11.  11.5 12.  12.5 13.  13.5\n",
      " 14.  14.5 15.  15.5 16.  16.5 17.  17.5 18.  18.5 19.  19.5 20.  20.5\n",
      " 21.  21.5 22.  22.5 23.  23.5 24.  24.5 25.  25.5 26.  26.5 27.  27.5\n",
      " 28.  28.5 29.  29.5 30.  30.5 31.  31.5 32.  32.5 33.  34.  35.  36.\n",
      " 37.  38.  39.  40.  41.  42.  43.  44.  45.  46.  47. ]\n"
     ]
    },
    {
     "name": "stderr",
     "output_type": "stream",
     "text": [
      "\r",
      " 25%|███████████████████▊                                                           | 90/360 [39:48<3:38:13, 48.50s/it]"
     ]
    },
    {
     "name": "stdout",
     "output_type": "stream",
     "text": [
      "Finished \\\\192.168.0.7\\bbfishmahsa3\\CGBB_embryo_4_28_2023\\FinalDecodedSpotsV3\\saveDecodedFinalV1--MERFISH_AnalysisE2--Conv_zscan__14--_D9.npz\n",
      "Loaded decoded: -21.21576476097107\n",
      "Molecules size: (12541370, 4, 10)\n",
      "Covering reaoduts: [ 0.   0.5  1.   1.5  2.   2.5  3.   4.   5.   6.   7.   8.   9.   9.5\n",
      " 10.  10.5 11.  11.5 12.  13.  14.  15.  16.  17.  18.  19.  20.  21.\n",
      " 22.  23.  24.  25.  26.  27.  28.  29.  30.  31.  32.  33.  34.  35.\n",
      " 36.  37.  38.  39.  40.  41.  42.  43.  44.  45.  46.  47. ]\n",
      "Finished \\\\192.168.0.7\\bbfishmahsa3\\CGBB_embryo_4_28_2023\\FinalDecodedSpotsV3\\saveDecodedFinalV1--MERFISH_AnalysisP12--Conv_zscan__15--_D9.npz\n"
     ]
    },
    {
     "name": "stderr",
     "output_type": "stream",
     "text": [
      "\r",
      " 25%|███████████████████▉                                                           | 91/360 [41:37<4:57:44, 66.41s/it]"
     ]
    },
    {
     "name": "stdout",
     "output_type": "stream",
     "text": [
      "Loaded decoded: -7.473140478134155\n",
      "Molecules size: (3388691, 4, 10)\n",
      "Covering reaoduts: [ 0.  1.  2.  3.  4.  5.  6.  7.  8.  9. 10. 11. 12. 13. 14. 15. 16. 17.\n",
      " 18. 19. 20. 21. 22. 23. 24. 25. 26. 27. 28. 29. 30. 31. 32. 33. 34. 35.\n",
      " 36. 37. 38. 39. 40. 41. 42. 43. 44. 45. 46. 47.]\n"
     ]
    },
    {
     "name": "stderr",
     "output_type": "stream",
     "text": [
      "\r",
      " 26%|████████████████████▏                                                          | 92/360 [42:15<4:18:51, 57.95s/it]"
     ]
    },
    {
     "name": "stdout",
     "output_type": "stream",
     "text": [
      "Finished \\\\192.168.0.7\\bbfishmahsa3\\CGBB_embryo_4_28_2023\\FinalDecodedSpotsV3\\saveDecodedFinalV1--MERFISH_AnalysisP34--Conv_zscan__15--_D9.npz\n",
      "Loaded decoded: -3.9176526069641113\n",
      "Molecules size: (1166479, 4, 10)\n",
      "Covering reaoduts: [ 0.   1.   2.   3.   4.   5.   6.   7.   8.   9.  10.  11.  12.  13.\n",
      " 14.  15.  16.  17.  18.  19.  20.  21.  22.  23.  24.  25.  26.  27.\n",
      " 28.  29.  30.  30.5 31.  31.5 32.  32.5 33.  33.5 34.  34.5 35.  35.5\n",
      " 36.  36.5 37.  37.5 38.  38.5 39.  39.5 40.  40.5 41.  41.5 42.  42.5\n",
      " 43.  43.5 44.  44.5 45.  45.5 46.  46.5 47.  47.5]\n"
     ]
    },
    {
     "name": "stderr",
     "output_type": "stream",
     "text": [
      "\r",
      " 26%|████████████████████▍                                                          | 93/360 [42:36<3:28:49, 46.93s/it]"
     ]
    },
    {
     "name": "stdout",
     "output_type": "stream",
     "text": [
      "Finished \\\\192.168.0.7\\bbfishmahsa3\\CGBB_embryo_4_28_2023\\FinalDecodedSpotsV3\\saveDecodedFinalV1--MERFISH_AnalysisE1--Conv_zscan__15--_D9.npz\n",
      "Loaded decoded: -13.037813901901245\n",
      "Molecules size: (9097698, 4, 10)\n",
      "Covering reaoduts: [ 0.  1.  2.  3.  4.  5.  6.  7.  8.  9. 10. 11. 12. 13. 14. 15. 16. 17.\n",
      " 18. 19. 20. 21. 22. 23. 24. 25. 26. 27. 28. 29. 30. 31. 32. 33. 34. 35.\n",
      " 36. 37. 38. 39. 40. 41. 42. 43. 44. 45. 46. 47.]\n",
      "Finished \\\\192.168.0.7\\bbfishmahsa3\\CGBB_embryo_4_28_2023\\FinalDecodedSpotsV3\\saveDecodedFinalV1--MERFISH_AnalysisP56--Conv_zscan__15--_D9.npz\n"
     ]
    },
    {
     "name": "stderr",
     "output_type": "stream",
     "text": [
      "\r",
      " 26%|████████████████████▋                                                          | 94/360 [43:58<4:14:29, 57.40s/it]"
     ]
    },
    {
     "name": "stdout",
     "output_type": "stream",
     "text": [
      "Loaded decoded: -6.4947569370269775\n",
      "Molecules size: (4103702, 4, 10)\n",
      "Covering reaoduts: [ 0.  1.  2.  3.  4.  5.  6.  7.  8.  9. 10. 11. 12. 13. 14. 15. 16. 17.\n",
      " 18. 19. 20. 21. 22. 23. 24. 25. 26. 27. 28. 29. 30. 31. 32. 33. 34. 35.\n",
      " 36. 37. 38. 39. 40. 41. 42. 43. 44. 45. 46. 47.]\n"
     ]
    },
    {
     "name": "stderr",
     "output_type": "stream",
     "text": [
      "\r",
      " 26%|████████████████████▊                                                          | 95/360 [44:40<3:53:20, 52.83s/it]"
     ]
    },
    {
     "name": "stdout",
     "output_type": "stream",
     "text": [
      "Finished \\\\192.168.0.7\\bbfishmahsa3\\CGBB_embryo_4_28_2023\\FinalDecodedSpotsV3\\saveDecodedFinalV1--MERFISH_AnalysisP711--Conv_zscan__15--_D9.npz\n",
      "Loaded decoded: -2.5420889854431152\n",
      "Molecules size: (1766002, 4, 10)\n",
      "Covering reaoduts: [ 0.   0.5  1.   1.5  2.   2.5  3.   3.5  4.   4.5  5.   5.5  6.   6.5\n",
      "  7.   7.5  8.   8.5  9.   9.5 10.  10.5 11.  11.5 12.  12.5 13.  13.5\n",
      " 14.  14.5 15.  15.5 16.  16.5 17.  17.5 18.  18.5 19.  19.5 20.  20.5\n",
      " 21.  21.5 22.  22.5 23.  23.5 24.  24.5 25.  25.5 26.  26.5 27.  27.5\n",
      " 28.  28.5 29.  29.5 30.  30.5 31.  31.5 32.  32.5 33.  34.  35.  36.\n",
      " 37.  38.  39.  40.  41.  42.  43.  44.  45.  46.  47. ]\n"
     ]
    },
    {
     "name": "stderr",
     "output_type": "stream",
     "text": [
      "\r",
      " 27%|█████████████████████                                                          | 96/360 [45:04<3:14:20, 44.17s/it]"
     ]
    },
    {
     "name": "stdout",
     "output_type": "stream",
     "text": [
      "Finished \\\\192.168.0.7\\bbfishmahsa3\\CGBB_embryo_4_28_2023\\FinalDecodedSpotsV3\\saveDecodedFinalV1--MERFISH_AnalysisE2--Conv_zscan__15--_D9.npz\n",
      "Loaded decoded: -28.067139148712158\n",
      "Molecules size: (18573464, 4, 10)\n",
      "Covering reaoduts: [ 0.   0.5  1.   1.5  2.   2.5  3.   4.   5.   6.   7.   8.   9.   9.5\n",
      " 10.  10.5 11.  11.5 12.  13.  14.  15.  16.  17.  18.  19.  20.  21.\n",
      " 22.  23.  24.  25.  26.  27.  28.  29.  30.  31.  32.  33.  34.  35.\n",
      " 36.  37.  38.  39.  40.  41.  42.  43.  44.  45.  46.  47. ]\n"
     ]
    },
    {
     "name": "stderr",
     "output_type": "stream",
     "text": [
      "\r",
      " 27%|█████████████████████▎                                                         | 97/360 [47:40<5:40:39, 77.72s/it]"
     ]
    },
    {
     "name": "stdout",
     "output_type": "stream",
     "text": [
      "Finished \\\\192.168.0.7\\bbfishmahsa3\\CGBB_embryo_4_28_2023\\FinalDecodedSpotsV3\\saveDecodedFinalV1--MERFISH_AnalysisP12--Conv_zscan__16--_D9.npz\n",
      "Loaded decoded: -4.876983642578125\n",
      "Molecules size: (3359253, 4, 10)\n",
      "Covering reaoduts: [ 0.  1.  2.  3.  4.  5.  6.  7.  8.  9. 10. 11. 12. 13. 14. 15. 16. 17.\n",
      " 18. 19. 20. 21. 22. 23. 24. 25. 26. 27. 28. 29. 30. 31. 32. 33. 34. 35.\n",
      " 36. 37. 38. 39. 40. 41. 42. 43. 44. 45. 46. 47.]\n"
     ]
    },
    {
     "name": "stderr",
     "output_type": "stream",
     "text": [
      "\r",
      " 27%|█████████████████████▌                                                         | 98/360 [48:16<4:44:46, 65.22s/it]"
     ]
    },
    {
     "name": "stdout",
     "output_type": "stream",
     "text": [
      "Finished \\\\192.168.0.7\\bbfishmahsa3\\CGBB_embryo_4_28_2023\\FinalDecodedSpotsV3\\saveDecodedFinalV1--MERFISH_AnalysisP34--Conv_zscan__16--_D9.npz\n",
      "Loaded decoded: -2.8739500045776367\n",
      "Molecules size: (1893670, 4, 10)\n",
      "Covering reaoduts: [ 0.   1.   2.   3.   4.   5.   6.   7.   8.   9.  10.  11.  12.  13.\n",
      " 14.  15.  16.  17.  18.  19.  20.  21.  22.  23.  24.  25.  26.  27.\n",
      " 28.  29.  30.  30.5 31.  31.5 32.  32.5 33.  33.5 34.  34.5 35.  35.5\n",
      " 36.  36.5 37.  37.5 38.  38.5 39.  39.5 40.  40.5 41.  41.5 42.  42.5\n",
      " 43.  43.5 44.  44.5 45.  45.5 46.  46.5 47.  47.5]\n"
     ]
    },
    {
     "name": "stderr",
     "output_type": "stream",
     "text": [
      "\r",
      " 28%|█████████████████████▋                                                         | 99/360 [48:44<3:55:00, 54.03s/it]"
     ]
    },
    {
     "name": "stdout",
     "output_type": "stream",
     "text": [
      "Finished \\\\192.168.0.7\\bbfishmahsa3\\CGBB_embryo_4_28_2023\\FinalDecodedSpotsV3\\saveDecodedFinalV1--MERFISH_AnalysisE1--Conv_zscan__16--_D9.npz\n",
      "Loaded decoded: -15.573006391525269\n",
      "Molecules size: (10500126, 4, 10)\n",
      "Covering reaoduts: [ 0.  1.  2.  3.  4.  5.  6.  7.  8.  9. 10. 11. 12. 13. 14. 15. 16. 17.\n",
      " 18. 19. 20. 21. 22. 23. 24. 25. 26. 27. 28. 29. 30. 31. 32. 33. 34. 35.\n",
      " 36. 37. 38. 39. 40. 41. 42. 43. 44. 45. 46. 47.]\n"
     ]
    },
    {
     "name": "stderr",
     "output_type": "stream",
     "text": [
      "\r",
      " 28%|█████████████████████▋                                                        | 100/360 [50:17<4:45:17, 65.84s/it]"
     ]
    },
    {
     "name": "stdout",
     "output_type": "stream",
     "text": [
      "Finished \\\\192.168.0.7\\bbfishmahsa3\\CGBB_embryo_4_28_2023\\FinalDecodedSpotsV3\\saveDecodedFinalV1--MERFISH_AnalysisP56--Conv_zscan__16--_D9.npz\n",
      "Loaded decoded: -8.596970319747925\n",
      "Molecules size: (5651997, 4, 10)\n",
      "Covering reaoduts: [ 0.  1.  2.  3.  4.  5.  6.  7.  8.  9. 10. 11. 12. 13. 14. 15. 16. 17.\n",
      " 18. 19. 20. 21. 22. 23. 24. 25. 26. 27. 28. 29. 30. 31. 32. 33. 34. 35.\n",
      " 36. 37. 38. 39. 40. 41. 42. 43. 44. 45. 46. 47.]\n"
     ]
    },
    {
     "name": "stderr",
     "output_type": "stream",
     "text": [
      "\r",
      " 28%|█████████████████████▉                                                        | 101/360 [51:16<4:34:21, 63.56s/it]"
     ]
    },
    {
     "name": "stdout",
     "output_type": "stream",
     "text": [
      "Finished \\\\192.168.0.7\\bbfishmahsa3\\CGBB_embryo_4_28_2023\\FinalDecodedSpotsV3\\saveDecodedFinalV1--MERFISH_AnalysisP711--Conv_zscan__16--_D9.npz\n",
      "Loaded decoded: -4.1676740646362305\n",
      "Molecules size: (2956177, 4, 10)\n",
      "Covering reaoduts: [ 0.   0.5  1.   1.5  2.   2.5  3.   3.5  4.   4.5  5.   5.5  6.   6.5\n",
      "  7.   7.5  8.   8.5  9.   9.5 10.  10.5 11.  11.5 12.  12.5 13.  13.5\n",
      " 14.  14.5 15.  15.5 16.  16.5 17.  17.5 18.  18.5 19.  19.5 20.  20.5\n",
      " 21.  21.5 22.  22.5 23.  23.5 24.  24.5 25.  25.5 26.  26.5 27.  27.5\n",
      " 28.  28.5 29.  29.5 30.  30.5 31.  31.5 32.  32.5 33.  34.  35.  36.\n",
      " 37.  38.  39.  40.  41.  42.  43.  44.  45.  46.  47. ]\n"
     ]
    },
    {
     "name": "stderr",
     "output_type": "stream",
     "text": [
      "\r",
      " 28%|██████████████████████                                                        | 102/360 [51:51<3:57:12, 55.16s/it]"
     ]
    },
    {
     "name": "stdout",
     "output_type": "stream",
     "text": [
      "Finished \\\\192.168.0.7\\bbfishmahsa3\\CGBB_embryo_4_28_2023\\FinalDecodedSpotsV3\\saveDecodedFinalV1--MERFISH_AnalysisE2--Conv_zscan__16--_D9.npz\n",
      "Loaded decoded: -13.403520107269287\n",
      "Molecules size: (9316416, 4, 10)\n",
      "Covering reaoduts: [ 0.   0.5  1.   1.5  2.   2.5  3.   4.   5.   6.   7.   8.   9.   9.5\n",
      " 10.  10.5 11.  11.5 12.  13.  14.  15.  16.  17.  18.  19.  20.  21.\n",
      " 22.  23.  24.  25.  26.  27.  28.  29.  30.  31.  32.  33.  34.  35.\n",
      " 36.  37.  38.  39.  40.  41.  42.  43.  44.  45.  46.  47. ]\n",
      "Finished \\\\192.168.0.7\\bbfishmahsa3\\CGBB_embryo_4_28_2023\\FinalDecodedSpotsV3\\saveDecodedFinalV1--MERFISH_AnalysisP12--Conv_zscan__17--_D9.npz\n"
     ]
    },
    {
     "name": "stderr",
     "output_type": "stream",
     "text": [
      "\r",
      " 29%|██████████████████████▎                                                       | 103/360 [53:13<4:30:33, 63.17s/it]"
     ]
    },
    {
     "name": "stdout",
     "output_type": "stream",
     "text": [
      "Loaded decoded: -8.031693458557129\n",
      "Molecules size: (4111584, 4, 10)\n",
      "Covering reaoduts: [ 0.  1.  2.  3.  4.  5.  6.  7.  8.  9. 10. 11. 12. 13. 14. 15. 16. 17.\n",
      " 18. 19. 20. 21. 22. 23. 24. 25. 26. 27. 28. 29. 30. 31. 32. 33. 34. 35.\n",
      " 36. 37. 38. 39. 40. 41. 42. 43. 44. 45. 46. 47.]\n"
     ]
    },
    {
     "name": "stderr",
     "output_type": "stream",
     "text": [
      "\r",
      " 29%|██████████████████████▌                                                       | 104/360 [53:49<3:54:33, 54.98s/it]"
     ]
    },
    {
     "name": "stdout",
     "output_type": "stream",
     "text": [
      "Finished \\\\192.168.0.7\\bbfishmahsa3\\CGBB_embryo_4_28_2023\\FinalDecodedSpotsV3\\saveDecodedFinalV1--MERFISH_AnalysisP34--Conv_zscan__17--_D9.npz\n",
      "Loaded decoded: -2.318182945251465\n",
      "Molecules size: (1548439, 4, 10)\n",
      "Covering reaoduts: [ 0.   1.   2.   3.   4.   5.   6.   7.   8.   9.  10.  11.  12.  13.\n",
      " 14.  15.  16.  17.  18.  19.  20.  21.  22.  23.  24.  25.  26.  27.\n",
      " 28.  29.  30.  30.5 31.  31.5 32.  32.5 33.  33.5 34.  34.5 35.  35.5\n",
      " 36.  36.5 37.  37.5 38.  38.5 39.  39.5 40.  40.5 41.  41.5 42.  42.5\n",
      " 43.  43.5 44.  44.5 45.  45.5 46.  46.5 47.  47.5]\n"
     ]
    },
    {
     "name": "stderr",
     "output_type": "stream",
     "text": [
      "\r",
      " 29%|██████████████████████▊                                                       | 105/360 [54:08<3:08:02, 44.25s/it]"
     ]
    },
    {
     "name": "stdout",
     "output_type": "stream",
     "text": [
      "Finished \\\\192.168.0.7\\bbfishmahsa3\\CGBB_embryo_4_28_2023\\FinalDecodedSpotsV3\\saveDecodedFinalV1--MERFISH_AnalysisE1--Conv_zscan__17--_D9.npz\n",
      "Loaded decoded: -7.7566304206848145\n",
      "Molecules size: (5771605, 4, 10)\n",
      "Covering reaoduts: [ 0.  1.  2.  3.  4.  5.  6.  7.  8.  9. 10. 11. 12. 13. 14. 15. 16. 17.\n",
      " 18. 19. 20. 21. 22. 23. 24. 25. 26. 27. 28. 29. 30. 31. 32. 33. 34. 35.\n",
      " 36. 37. 38. 39. 40. 41. 42. 43. 44. 45. 46. 47.]\n"
     ]
    },
    {
     "name": "stderr",
     "output_type": "stream",
     "text": [
      "\r",
      " 29%|██████████████████████▉                                                       | 106/360 [54:51<3:05:08, 43.73s/it]"
     ]
    },
    {
     "name": "stdout",
     "output_type": "stream",
     "text": [
      "Finished \\\\192.168.0.7\\bbfishmahsa3\\CGBB_embryo_4_28_2023\\FinalDecodedSpotsV3\\saveDecodedFinalV1--MERFISH_AnalysisP56--Conv_zscan__17--_D9.npz\n",
      "Loaded decoded: -6.445156812667847\n",
      "Molecules size: (4595515, 4, 10)\n",
      "Covering reaoduts: [ 0.  1.  2.  3.  4.  5.  6.  7.  8.  9. 10. 11. 12. 13. 14. 15. 16. 17.\n",
      " 18. 19. 20. 21. 22. 23. 24. 25. 26. 27. 28. 29. 30. 31. 32. 33. 34. 35.\n",
      " 36. 37. 38. 39. 40. 41. 42. 43. 44. 45. 46. 47.]\n"
     ]
    },
    {
     "name": "stderr",
     "output_type": "stream",
     "text": [
      "\r",
      " 30%|███████████████████████▏                                                      | 107/360 [55:25<2:52:17, 40.86s/it]"
     ]
    },
    {
     "name": "stdout",
     "output_type": "stream",
     "text": [
      "Finished \\\\192.168.0.7\\bbfishmahsa3\\CGBB_embryo_4_28_2023\\FinalDecodedSpotsV3\\saveDecodedFinalV1--MERFISH_AnalysisP711--Conv_zscan__17--_D9.npz\n",
      "Loaded decoded: -2.5227932929992676\n",
      "Molecules size: (1744392, 4, 10)\n",
      "Covering reaoduts: [ 0.   0.5  1.   1.5  2.   2.5  3.   3.5  4.   4.5  5.   5.5  6.   6.5\n",
      "  7.   7.5  8.   8.5  9.   9.5 10.  10.5 11.  11.5 12.  12.5 13.  13.5\n",
      " 14.  14.5 15.  15.5 16.  16.5 17.  17.5 18.  18.5 19.  19.5 20.  20.5\n",
      " 21.  21.5 22.  22.5 23.  23.5 24.  24.5 25.  25.5 26.  26.5 27.  27.5\n",
      " 28.  28.5 29.  29.5 30.  30.5 31.  31.5 32.  32.5 33.  34.  35.  36.\n",
      " 37.  38.  39.  40.  41.  42.  43.  44.  45.  46.  47. ]\n"
     ]
    },
    {
     "name": "stderr",
     "output_type": "stream",
     "text": [
      "\r",
      " 30%|███████████████████████▍                                                      | 108/360 [55:45<2:25:44, 34.70s/it]"
     ]
    },
    {
     "name": "stdout",
     "output_type": "stream",
     "text": [
      "Finished \\\\192.168.0.7\\bbfishmahsa3\\CGBB_embryo_4_28_2023\\FinalDecodedSpotsV3\\saveDecodedFinalV1--MERFISH_AnalysisE2--Conv_zscan__17--_D9.npz\n",
      "Loaded decoded: -12.52297830581665\n",
      "Molecules size: (8640294, 4, 10)\n",
      "Covering reaoduts: [ 0.   0.5  1.   1.5  2.   2.5  3.   4.   5.   6.   7.   8.   9.   9.5\n",
      " 10.  10.5 11.  11.5 12.  13.  14.  15.  16.  17.  18.  19.  20.  21.\n",
      " 22.  23.  24.  25.  26.  27.  28.  29.  30.  31.  32.  33.  34.  35.\n",
      " 36.  37.  38.  39.  40.  41.  42.  43.  44.  45.  46.  47. ]\n"
     ]
    },
    {
     "name": "stderr",
     "output_type": "stream",
     "text": [
      "\r",
      " 30%|███████████████████████▌                                                      | 109/360 [56:41<2:51:15, 40.94s/it]"
     ]
    },
    {
     "name": "stdout",
     "output_type": "stream",
     "text": [
      "Finished \\\\192.168.0.7\\bbfishmahsa3\\CGBB_embryo_4_28_2023\\FinalDecodedSpotsV3\\saveDecodedFinalV1--MERFISH_AnalysisP12--Conv_zscan__18--_D9.npz\n",
      "Loaded decoded: -6.6143107414245605\n",
      "Molecules size: (4346836, 4, 10)\n",
      "Covering reaoduts: [ 0.  1.  2.  3.  4.  5.  6.  7.  8.  9. 10. 11. 12. 13. 14. 15. 16. 17.\n",
      " 18. 19. 20. 21. 22. 23. 24. 25. 26. 27. 28. 29. 30. 31. 32. 33. 34. 35.\n",
      " 36. 37. 38. 39. 40. 41. 42. 43. 44. 45. 46. 47.]\n"
     ]
    },
    {
     "name": "stderr",
     "output_type": "stream",
     "text": [
      "\r",
      " 31%|███████████████████████▊                                                      | 110/360 [57:17<2:44:52, 39.57s/it]"
     ]
    },
    {
     "name": "stdout",
     "output_type": "stream",
     "text": [
      "Finished \\\\192.168.0.7\\bbfishmahsa3\\CGBB_embryo_4_28_2023\\FinalDecodedSpotsV3\\saveDecodedFinalV1--MERFISH_AnalysisP34--Conv_zscan__18--_D9.npz\n",
      "Loaded decoded: -2.328558921813965\n",
      "Molecules size: (1574813, 4, 10)\n",
      "Covering reaoduts: [ 0.   1.   2.   3.   4.   5.   6.   7.   8.   9.  10.  11.  12.  13.\n",
      " 14.  15.  16.  17.  18.  19.  20.  21.  22.  23.  24.  25.  26.  27.\n",
      " 28.  29.  30.  30.5 31.  31.5 32.  32.5 33.  33.5 34.  34.5 35.  35.5\n",
      " 36.  36.5 37.  37.5 38.  38.5 39.  39.5 40.  40.5 41.  41.5 42.  42.5\n",
      " 43.  43.5 44.  44.5 45.  45.5 46.  46.5 47.  47.5]\n"
     ]
    },
    {
     "name": "stderr",
     "output_type": "stream",
     "text": [
      "\r",
      " 31%|████████████████████████                                                      | 111/360 [57:38<2:20:58, 33.97s/it]"
     ]
    },
    {
     "name": "stdout",
     "output_type": "stream",
     "text": [
      "Finished \\\\192.168.0.7\\bbfishmahsa3\\CGBB_embryo_4_28_2023\\FinalDecodedSpotsV3\\saveDecodedFinalV1--MERFISH_AnalysisE1--Conv_zscan__18--_D9.npz\n",
      "Loaded decoded: -9.120567798614502\n",
      "Molecules size: (6482573, 4, 10)\n",
      "Covering reaoduts: [ 0.  1.  2.  3.  4.  5.  6.  7.  8.  9. 10. 11. 12. 13. 14. 15. 16. 17.\n",
      " 18. 19. 20. 21. 22. 23. 24. 25. 26. 27. 28. 29. 30. 31. 32. 33. 34. 35.\n",
      " 36. 37. 38. 39. 40. 41. 42. 43. 44. 45. 46. 47.]\n",
      "Finished \\\\192.168.0.7\\bbfishmahsa3\\CGBB_embryo_4_28_2023\\FinalDecodedSpotsV3\\saveDecodedFinalV1--MERFISH_AnalysisP56--Conv_zscan__18--_D9.npz\n"
     ]
    },
    {
     "name": "stderr",
     "output_type": "stream",
     "text": [
      "\r",
      " 31%|████████████████████████▎                                                     | 112/360 [58:24<2:35:50, 37.70s/it]"
     ]
    },
    {
     "name": "stdout",
     "output_type": "stream",
     "text": [
      "Loaded decoded: -6.933332681655884\n",
      "Molecules size: (4854599, 4, 10)\n",
      "Covering reaoduts: [ 0.  1.  2.  3.  4.  5.  6.  7.  8.  9. 10. 11. 12. 13. 14. 15. 16. 17.\n",
      " 18. 19. 20. 21. 22. 23. 24. 25. 26. 27. 28. 29. 30. 31. 32. 33. 34. 35.\n",
      " 36. 37. 38. 39. 40. 41. 42. 43. 44. 45. 46. 47.]\n"
     ]
    },
    {
     "name": "stderr",
     "output_type": "stream",
     "text": [
      "\r",
      " 31%|████████████████████████▍                                                     | 113/360 [59:03<2:35:49, 37.85s/it]"
     ]
    },
    {
     "name": "stdout",
     "output_type": "stream",
     "text": [
      "Finished \\\\192.168.0.7\\bbfishmahsa3\\CGBB_embryo_4_28_2023\\FinalDecodedSpotsV3\\saveDecodedFinalV1--MERFISH_AnalysisP711--Conv_zscan__18--_D9.npz\n",
      "Loaded decoded: -2.2440667152404785\n",
      "Molecules size: (1529110, 4, 10)\n",
      "Covering reaoduts: [ 0.   0.5  1.   1.5  2.   2.5  3.   3.5  4.   4.5  5.   5.5  6.   6.5\n",
      "  7.   7.5  8.   8.5  9.   9.5 10.  10.5 11.  11.5 12.  12.5 13.  13.5\n",
      " 14.  14.5 15.  15.5 16.  16.5 17.  17.5 18.  18.5 19.  19.5 20.  20.5\n",
      " 21.  21.5 22.  22.5 23.  23.5 24.  24.5 25.  25.5 26.  26.5 27.  27.5\n",
      " 28.  28.5 29.  29.5 30.  30.5 31.  31.5 32.  32.5 33.  34.  35.  36.\n",
      " 37.  38.  39.  40.  41.  42.  43.  44.  45.  46.  47. ]\n"
     ]
    },
    {
     "name": "stderr",
     "output_type": "stream",
     "text": [
      "\r",
      " 32%|████████████████████████▋                                                     | 114/360 [59:22<2:12:38, 32.35s/it]"
     ]
    },
    {
     "name": "stdout",
     "output_type": "stream",
     "text": [
      "Finished \\\\192.168.0.7\\bbfishmahsa3\\CGBB_embryo_4_28_2023\\FinalDecodedSpotsV3\\saveDecodedFinalV1--MERFISH_AnalysisE2--Conv_zscan__18--_D9.npz\n",
      "Loaded decoded: -22.39936113357544\n",
      "Molecules size: (13705583, 4, 10)\n",
      "Covering reaoduts: [ 0.   0.5  1.   1.5  2.   2.5  3.   4.   5.   6.   7.   8.   9.   9.5\n",
      " 10.  10.5 11.  11.5 12.  13.  14.  15.  16.  17.  18.  19.  20.  21.\n",
      " 22.  23.  24.  25.  26.  27.  28.  29.  30.  31.  32.  33.  34.  35.\n",
      " 36.  37.  38.  39.  40.  41.  42.  43.  44.  45.  46.  47. ]\n",
      "Finished \\\\192.168.0.7\\bbfishmahsa3\\CGBB_embryo_4_28_2023\\FinalDecodedSpotsV3\\saveDecodedFinalV1--MERFISH_AnalysisP12--Conv_zscan__19--_D9.npz\n"
     ]
    },
    {
     "name": "stderr",
     "output_type": "stream",
     "text": [
      "\r",
      " 32%|████████████████████████▎                                                   | 115/360 [1:00:48<3:17:47, 48.44s/it]"
     ]
    },
    {
     "name": "stdout",
     "output_type": "stream",
     "text": [
      "Loaded decoded: -11.001681089401245\n",
      "Molecules size: (5859126, 4, 10)\n",
      "Covering reaoduts: [ 0.  1.  2.  3.  4.  5.  6.  7.  8.  9. 10. 11. 12. 13. 14. 15. 16. 17.\n",
      " 18. 19. 20. 21. 22. 23. 24. 25. 26. 27. 28. 29. 30. 31. 32. 33. 34. 35.\n",
      " 36. 37. 38. 39. 40. 41. 42. 43. 44. 45. 46. 47.]\n"
     ]
    },
    {
     "name": "stderr",
     "output_type": "stream",
     "text": [
      "\r",
      " 32%|████████████████████████▍                                                   | 116/360 [1:01:36<3:16:32, 48.33s/it]"
     ]
    },
    {
     "name": "stdout",
     "output_type": "stream",
     "text": [
      "Finished \\\\192.168.0.7\\bbfishmahsa3\\CGBB_embryo_4_28_2023\\FinalDecodedSpotsV3\\saveDecodedFinalV1--MERFISH_AnalysisP34--Conv_zscan__19--_D9.npz\n",
      "Loaded decoded: -4.520681858062744\n",
      "Molecules size: (1842299, 4, 10)\n",
      "Covering reaoduts: [ 0.   1.   2.   3.   4.   5.   6.   7.   8.   9.  10.  11.  12.  13.\n",
      " 14.  15.  16.  17.  18.  19.  20.  21.  22.  23.  24.  25.  26.  27.\n",
      " 28.  29.  30.  30.5 31.  31.5 32.  32.5 33.  33.5 34.  34.5 35.  35.5\n",
      " 36.  36.5 37.  37.5 38.  38.5 39.  39.5 40.  40.5 41.  41.5 42.  42.5\n",
      " 43.  43.5 44.  44.5 45.  45.5 46.  46.5 47.  47.5]\n"
     ]
    },
    {
     "name": "stderr",
     "output_type": "stream",
     "text": [
      "\r",
      " 32%|████████████████████████▋                                                   | 117/360 [1:01:58<2:43:40, 40.41s/it]"
     ]
    },
    {
     "name": "stdout",
     "output_type": "stream",
     "text": [
      "Finished \\\\192.168.0.7\\bbfishmahsa3\\CGBB_embryo_4_28_2023\\FinalDecodedSpotsV3\\saveDecodedFinalV1--MERFISH_AnalysisE1--Conv_zscan__19--_D9.npz\n",
      "Loaded decoded: -11.045695066452026\n",
      "Molecules size: (7904730, 4, 10)\n",
      "Covering reaoduts: [ 0.  1.  2.  3.  4.  5.  6.  7.  8.  9. 10. 11. 12. 13. 14. 15. 16. 17.\n",
      " 18. 19. 20. 21. 22. 23. 24. 25. 26. 27. 28. 29. 30. 31. 32. 33. 34. 35.\n",
      " 36. 37. 38. 39. 40. 41. 42. 43. 44. 45. 46. 47.]\n"
     ]
    },
    {
     "name": "stderr",
     "output_type": "stream",
     "text": [
      "\r",
      " 33%|████████████████████████▉                                                   | 118/360 [1:02:51<2:58:28, 44.25s/it]"
     ]
    },
    {
     "name": "stdout",
     "output_type": "stream",
     "text": [
      "Finished \\\\192.168.0.7\\bbfishmahsa3\\CGBB_embryo_4_28_2023\\FinalDecodedSpotsV3\\saveDecodedFinalV1--MERFISH_AnalysisP56--Conv_zscan__19--_D9.npz\n",
      "Loaded decoded: -9.216766834259033\n",
      "Molecules size: (6587303, 4, 10)\n",
      "Covering reaoduts: [ 0.  1.  2.  3.  4.  5.  6.  7.  8.  9. 10. 11. 12. 13. 14. 15. 16. 17.\n",
      " 18. 19. 20. 21. 22. 23. 24. 25. 26. 27. 28. 29. 30. 31. 32. 33. 34. 35.\n",
      " 36. 37. 38. 39. 40. 41. 42. 43. 44. 45. 46. 47.]\n"
     ]
    },
    {
     "name": "stderr",
     "output_type": "stream",
     "text": [
      "\r",
      " 33%|█████████████████████████                                                   | 119/360 [1:03:36<2:58:35, 44.46s/it]"
     ]
    },
    {
     "name": "stdout",
     "output_type": "stream",
     "text": [
      "Finished \\\\192.168.0.7\\bbfishmahsa3\\CGBB_embryo_4_28_2023\\FinalDecodedSpotsV3\\saveDecodedFinalV1--MERFISH_AnalysisP711--Conv_zscan__19--_D9.npz\n",
      "Loaded decoded: -3.103358745574951\n",
      "Molecules size: (2157139, 4, 10)\n",
      "Covering reaoduts: [ 0.   0.5  1.   1.5  2.   2.5  3.   3.5  4.   4.5  5.   5.5  6.   6.5\n",
      "  7.   7.5  8.   8.5  9.   9.5 10.  10.5 11.  11.5 12.  12.5 13.  13.5\n",
      " 14.  14.5 15.  15.5 16.  16.5 17.  17.5 18.  18.5 19.  19.5 20.  20.5\n",
      " 21.  21.5 22.  22.5 23.  23.5 24.  24.5 25.  25.5 26.  26.5 27.  27.5\n",
      " 28.  28.5 29.  29.5 30.  30.5 31.  31.5 32.  32.5 33.  34.  35.  36.\n",
      " 37.  38.  39.  40.  41.  42.  43.  44.  45.  46.  47. ]\n"
     ]
    },
    {
     "name": "stderr",
     "output_type": "stream",
     "text": [
      "\r",
      " 33%|█████████████████████████▎                                                  | 120/360 [1:03:58<2:31:08, 37.79s/it]"
     ]
    },
    {
     "name": "stdout",
     "output_type": "stream",
     "text": [
      "Finished \\\\192.168.0.7\\bbfishmahsa3\\CGBB_embryo_4_28_2023\\FinalDecodedSpotsV3\\saveDecodedFinalV1--MERFISH_AnalysisE2--Conv_zscan__19--_D9.npz\n",
      "Loaded decoded: -5.122480392456055\n",
      "Molecules size: (3453231, 4, 10)\n",
      "Covering reaoduts: [ 0.   0.5  1.   1.5  2.   2.5  3.   4.   5.   6.   7.   8.   9.   9.5\n",
      " 10.  10.5 11.  11.5 12.  13.  14.  15.  16.  17.  18.  19.  20.  21.\n",
      " 22.  23.  24.  25.  26.  27.  28.  29.  30.  31.  32.  33.  34.  35.\n",
      " 36.  37.  38.  39.  40.  41.  42.  43.  44.  45.  46.  47. ]\n"
     ]
    },
    {
     "name": "stderr",
     "output_type": "stream",
     "text": [
      "\r",
      " 34%|█████████████████████████▌                                                  | 121/360 [1:04:26<2:18:23, 34.74s/it]"
     ]
    },
    {
     "name": "stdout",
     "output_type": "stream",
     "text": [
      "Finished \\\\192.168.0.7\\bbfishmahsa3\\CGBB_embryo_4_28_2023\\FinalDecodedSpotsV3\\saveDecodedFinalV1--MERFISH_AnalysisP12--Conv_zscan__20--_D9.npz\n",
      "Loaded decoded: -2.9864296913146973\n",
      "Molecules size: (1240812, 4, 10)\n",
      "Covering reaoduts: [ 0.  1.  2.  3.  4.  5.  6.  7.  8.  9. 10. 11. 12. 13. 14. 15. 16. 17.\n",
      " 18. 19. 20. 21. 22. 23. 24. 25. 26. 27. 28. 29. 30. 31. 32. 33. 34. 35.\n",
      " 36. 37. 38. 39. 40. 41. 42. 43. 44. 45. 46. 47.]\n"
     ]
    },
    {
     "name": "stderr",
     "output_type": "stream",
     "text": [
      "\r",
      " 34%|█████████████████████████▊                                                  | 122/360 [1:04:45<1:58:50, 29.96s/it]"
     ]
    },
    {
     "name": "stdout",
     "output_type": "stream",
     "text": [
      "Finished \\\\192.168.0.7\\bbfishmahsa3\\CGBB_embryo_4_28_2023\\FinalDecodedSpotsV3\\saveDecodedFinalV1--MERFISH_AnalysisP34--Conv_zscan__20--_D9.npz\n",
      "Loaded decoded: -1.0298032760620117\n",
      "Molecules size: (520930, 4, 10)\n",
      "Covering reaoduts: [ 0.   1.   2.   3.   4.   5.   6.   7.   8.   9.  10.  11.  12.  13.\n",
      " 14.  15.  16.  17.  18.  19.  20.  21.  22.  23.  24.  25.  26.  27.\n",
      " 28.  29.  30.  30.5 31.  31.5 32.  32.5 33.  33.5 34.  34.5 35.  35.5\n",
      " 36.  36.5 37.  37.5 38.  38.5 39.  39.5 40.  40.5 41.  41.5 42.  42.5\n",
      " 43.  43.5 44.  44.5 45.  45.5 46.  46.5 47.  47.5]\n"
     ]
    },
    {
     "name": "stderr",
     "output_type": "stream",
     "text": [
      "\r",
      " 34%|█████████████████████████▉                                                  | 123/360 [1:05:01<1:41:28, 25.69s/it]"
     ]
    },
    {
     "name": "stdout",
     "output_type": "stream",
     "text": [
      "Finished \\\\192.168.0.7\\bbfishmahsa3\\CGBB_embryo_4_28_2023\\FinalDecodedSpotsV3\\saveDecodedFinalV1--MERFISH_AnalysisE1--Conv_zscan__20--_D9.npz\n",
      "Loaded decoded: -2.5016415119171143\n",
      "Molecules size: (1773353, 4, 10)\n",
      "Covering reaoduts: [ 0.  1.  2.  3.  4.  5.  6.  7.  8.  9. 10. 11. 12. 13. 14. 15. 16. 17.\n",
      " 18. 19. 20. 21. 22. 23. 24. 25. 26. 27. 28. 29. 30. 31. 32. 33. 34. 35.\n",
      " 36. 37. 38. 39. 40. 41. 42. 43. 44. 45. 46. 47.]\n"
     ]
    },
    {
     "name": "stderr",
     "output_type": "stream",
     "text": [
      "\r",
      " 34%|██████████████████████████▏                                                 | 124/360 [1:05:24<1:37:58, 24.91s/it]"
     ]
    },
    {
     "name": "stdout",
     "output_type": "stream",
     "text": [
      "Finished \\\\192.168.0.7\\bbfishmahsa3\\CGBB_embryo_4_28_2023\\FinalDecodedSpotsV3\\saveDecodedFinalV1--MERFISH_AnalysisP56--Conv_zscan__20--_D9.npz\n",
      "Loaded decoded: -1.875638723373413\n",
      "Molecules size: (1437255, 4, 10)\n",
      "Covering reaoduts: [ 0.  1.  2.  3.  4.  5.  6.  7.  8.  9. 10. 11. 12. 13. 14. 15. 16. 17.\n",
      " 18. 19. 20. 21. 22. 23. 24. 25. 26. 27. 28. 29. 30. 31. 32. 33. 34. 35.\n",
      " 36. 37. 38. 39. 40. 41. 42. 43. 44. 45. 46. 47.]\n"
     ]
    },
    {
     "name": "stderr",
     "output_type": "stream",
     "text": [
      "\r",
      " 35%|██████████████████████████▍                                                 | 125/360 [1:05:44<1:32:36, 23.64s/it]"
     ]
    },
    {
     "name": "stdout",
     "output_type": "stream",
     "text": [
      "Finished \\\\192.168.0.7\\bbfishmahsa3\\CGBB_embryo_4_28_2023\\FinalDecodedSpotsV3\\saveDecodedFinalV1--MERFISH_AnalysisP711--Conv_zscan__20--_D9.npz\n",
      "Loaded decoded: -0.93711256980896\n",
      "Molecules size: (626796, 4, 10)\n",
      "Covering reaoduts: [ 0.   0.5  1.   1.5  2.   2.5  3.   3.5  4.   4.5  5.   5.5  6.   6.5\n",
      "  7.   7.5  8.   8.5  9.   9.5 10.  10.5 11.  11.5 12.  12.5 13.  13.5\n",
      " 14.  14.5 15.  15.5 16.  16.5 17.  17.5 18.  18.5 19.  19.5 20.  20.5\n",
      " 21.  21.5 22.  22.5 23.  23.5 24.  24.5 25.  25.5 26.  26.5 27.  27.5\n",
      " 28.  28.5 29.  29.5 30.  30.5 31.  31.5 32.  32.5 33.  34.  35.  36.\n",
      " 37.  38.  39.  40.  41.  42.  43.  44.  45.  46.  47. ]\n"
     ]
    },
    {
     "name": "stderr",
     "output_type": "stream",
     "text": [
      "\r",
      " 35%|██████████████████████████▌                                                 | 126/360 [1:05:59<1:21:33, 20.91s/it]"
     ]
    },
    {
     "name": "stdout",
     "output_type": "stream",
     "text": [
      "Finished \\\\192.168.0.7\\bbfishmahsa3\\CGBB_embryo_4_28_2023\\FinalDecodedSpotsV3\\saveDecodedFinalV1--MERFISH_AnalysisE2--Conv_zscan__20--_D9.npz\n",
      "Loaded decoded: -0.07198596000671387\n",
      "Molecules size: (1219, 4, 10)\n",
      "Covering reaoduts: [ 1.   1.5  2.   2.5  3.   4.   5.   6.   7.   8.   9.  10.  10.5 11.\n",
      " 12.  13.  14.  15.  16.  17.  18.  19.  20.  21.  22.  23.  24.  25.\n",
      " 26.  27.  28.  29.  30.  31.  32.  33.  34.  35.  36.  37.  38.  39.\n",
      " 40.  41.  42.  43.  44.  45.  46.  47. ]\n"
     ]
    },
    {
     "name": "stderr",
     "output_type": "stream",
     "text": [
      "\r",
      " 35%|██████████████████████████▊                                                 | 127/360 [1:06:12<1:11:49, 18.50s/it]"
     ]
    },
    {
     "name": "stdout",
     "output_type": "stream",
     "text": [
      "Finished \\\\192.168.0.7\\bbfishmahsa3\\CGBB_embryo_4_28_2023\\FinalDecodedSpotsV3\\saveDecodedFinalV1--MERFISH_AnalysisP12--Conv_zscan__21--_D9.npz\n",
      "Loaded decoded: -0.06211066246032715\n",
      "Molecules size: (261, 4, 10)\n",
      "Covering reaoduts: [ 0.  1.  2.  3.  4.  5.  6.  7.  8.  9. 10. 11. 12. 13. 14. 15. 16. 17.\n",
      " 18. 19. 20. 21. 22. 23. 24. 25. 26. 27. 28. 29. 30. 31. 32. 33. 34. 35.\n",
      " 36. 37. 38. 39. 40. 41. 42. 43. 44. 45. 46. 47.]\n"
     ]
    },
    {
     "name": "stderr",
     "output_type": "stream",
     "text": [
      "\r",
      " 36%|███████████████████████████                                                 | 128/360 [1:06:21<1:01:03, 15.79s/it]"
     ]
    },
    {
     "name": "stdout",
     "output_type": "stream",
     "text": [
      "Finished \\\\192.168.0.7\\bbfishmahsa3\\CGBB_embryo_4_28_2023\\FinalDecodedSpotsV3\\saveDecodedFinalV1--MERFISH_AnalysisP34--Conv_zscan__21--_D9.npz\n",
      "Loaded decoded: -0.07508993148803711\n",
      "Molecules size: (784, 4, 10)\n",
      "Covering reaoduts: [ 0.   1.   2.   3.   4.   5.   6.   7.   8.   9.  10.  11.  12.  13.\n",
      " 14.  15.  16.  17.  18.  19.  20.  21.  22.  23.  24.  25.  26.  27.\n",
      " 28.  29.  30.  30.5 31.  31.5 32.  32.5 33.  33.5 34.  34.5 35.  35.5\n",
      " 36.  36.5 37.  37.5 38.  38.5 39.  39.5 40.  40.5 41.  41.5 42.  42.5\n",
      " 43.  43.5 44.  44.5 45.  45.5 46.  46.5 47.  47.5]\n"
     ]
    },
    {
     "name": "stderr",
     "output_type": "stream",
     "text": [
      "\r",
      " 36%|███████████████████████████▉                                                  | 129/360 [1:06:31<54:02, 14.04s/it]"
     ]
    },
    {
     "name": "stdout",
     "output_type": "stream",
     "text": [
      "Finished \\\\192.168.0.7\\bbfishmahsa3\\CGBB_embryo_4_28_2023\\FinalDecodedSpotsV3\\saveDecodedFinalV1--MERFISH_AnalysisE1--Conv_zscan__21--_D9.npz\n",
      "Loaded decoded: -0.06044292449951172\n",
      "Molecules size: (10335, 4, 10)\n",
      "Covering reaoduts: [ 0.  1.  2.  3.  4.  5.  6.  7.  8.  9. 10. 11. 12. 13. 14. 15. 16. 17.\n",
      " 18. 19. 20. 21. 22. 23. 24. 25. 26. 27. 28. 29. 30. 31. 32. 33. 34. 35.\n",
      " 36. 37. 38. 39. 40. 41. 42. 43. 44. 45. 46. 47.]\n"
     ]
    },
    {
     "name": "stderr",
     "output_type": "stream",
     "text": [
      "\r",
      " 36%|████████████████████████████▏                                                 | 130/360 [1:06:41<49:14, 12.85s/it]"
     ]
    },
    {
     "name": "stdout",
     "output_type": "stream",
     "text": [
      "Finished \\\\192.168.0.7\\bbfishmahsa3\\CGBB_embryo_4_28_2023\\FinalDecodedSpotsV3\\saveDecodedFinalV1--MERFISH_AnalysisP56--Conv_zscan__21--_D9.npz\n",
      "Loaded decoded: -0.04689192771911621\n",
      "Molecules size: (422, 4, 10)\n",
      "Covering reaoduts: [ 1.  4.  6.  7.  8.  9. 10. 11. 12. 13. 14. 15. 16. 17. 18. 19. 20. 21.\n",
      " 22. 23. 24. 25. 26. 27. 28. 29. 30. 31. 32. 33. 34. 35. 36. 37. 38. 39.\n",
      " 40. 41. 42. 43. 44. 45. 46. 47.]\n"
     ]
    },
    {
     "name": "stderr",
     "output_type": "stream",
     "text": [
      "\r",
      " 36%|████████████████████████████▍                                                 | 131/360 [1:06:51<45:39, 11.96s/it]"
     ]
    },
    {
     "name": "stdout",
     "output_type": "stream",
     "text": [
      "Finished \\\\192.168.0.7\\bbfishmahsa3\\CGBB_embryo_4_28_2023\\FinalDecodedSpotsV3\\saveDecodedFinalV1--MERFISH_AnalysisP711--Conv_zscan__21--_D9.npz\n",
      "Loaded decoded: -0.1522510051727295\n",
      "Molecules size: (15562, 4, 10)\n",
      "Covering reaoduts: [ 0.   0.5  1.   1.5  2.   2.5  3.   3.5  4.   4.5  5.   5.5  6.   6.5\n",
      "  7.   7.5  8.   8.5  9.   9.5 10.  10.5 11.  11.5 12.  12.5 13.  13.5\n",
      " 14.  14.5 15.  15.5 16.  16.5 17.  17.5 18.  18.5 19.  19.5 20.  20.5\n",
      " 21.  21.5 22.  22.5 23.  23.5 24.  24.5 25.  25.5 26.  26.5 27.  27.5\n",
      " 28.  28.5 29.  29.5 30.  30.5 31.  31.5 32.  32.5 33.  34.  35.  36.\n",
      " 37.  38.  39.  40.  41.  42.  43.  44.  45.  46.  47. ]\n"
     ]
    },
    {
     "name": "stderr",
     "output_type": "stream",
     "text": [
      "\r",
      " 37%|████████████████████████████▌                                                 | 132/360 [1:07:02<44:22, 11.68s/it]"
     ]
    },
    {
     "name": "stdout",
     "output_type": "stream",
     "text": [
      "Finished \\\\192.168.0.7\\bbfishmahsa3\\CGBB_embryo_4_28_2023\\FinalDecodedSpotsV3\\saveDecodedFinalV1--MERFISH_AnalysisE2--Conv_zscan__21--_D9.npz\n",
      "Loaded decoded: -5.645805358886719\n",
      "Molecules size: (2461564, 4, 10)\n",
      "Covering reaoduts: [ 0.   0.5  1.   1.5  2.   2.5  3.   4.   5.   6.   7.   8.   9.   9.5\n",
      " 10.  10.5 11.  11.5 12.  13.  14.  15.  16.  17.  18.  19.  20.  21.\n",
      " 22.  23.  24.  25.  26.  27.  28.  29.  30.  31.  32.  33.  34.  35.\n",
      " 36.  37.  38.  39.  40.  41.  42.  43.  44.  45.  46.  47. ]\n"
     ]
    },
    {
     "name": "stderr",
     "output_type": "stream",
     "text": [
      "\r",
      " 37%|████████████████████████████▊                                                 | 133/360 [1:07:28<59:42, 15.78s/it]"
     ]
    },
    {
     "name": "stdout",
     "output_type": "stream",
     "text": [
      "Finished \\\\192.168.0.7\\bbfishmahsa3\\CGBB_embryo_4_28_2023\\FinalDecodedSpotsV3\\saveDecodedFinalV1--MERFISH_AnalysisP12--Conv_zscan__22--_D9.npz\n",
      "Loaded decoded: -1.0401897430419922\n",
      "Molecules size: (731860, 4, 10)\n",
      "Covering reaoduts: [ 0.  1.  2.  3.  4.  5.  6.  7.  8.  9. 10. 11. 12. 13. 14. 15. 16. 17.\n",
      " 18. 19. 20. 21. 22. 23. 24. 25. 26. 27. 28. 29. 30. 31. 32. 33. 34. 35.\n",
      " 36. 37. 38. 39. 40. 41. 42. 43. 44. 45. 46. 47.]\n"
     ]
    },
    {
     "name": "stderr",
     "output_type": "stream",
     "text": [
      "\r",
      " 37%|████████████████████████████▎                                               | 134/360 [1:07:46<1:02:08, 16.50s/it]"
     ]
    },
    {
     "name": "stdout",
     "output_type": "stream",
     "text": [
      "Finished \\\\192.168.0.7\\bbfishmahsa3\\CGBB_embryo_4_28_2023\\FinalDecodedSpotsV3\\saveDecodedFinalV1--MERFISH_AnalysisP34--Conv_zscan__22--_D9.npz\n",
      "Loaded decoded: -0.47145509719848633\n",
      "Molecules size: (283740, 4, 10)\n",
      "Covering reaoduts: [ 0.   1.   2.   3.   4.   5.   6.   7.   8.   9.  10.  11.  12.  13.\n",
      " 14.  15.  16.  17.  18.  19.  20.  21.  22.  23.  24.  25.  26.  27.\n",
      " 28.  29.  30.  30.5 31.  31.5 32.  32.5 33.  33.5 34.  34.5 35.  35.5\n",
      " 36.  36.5 37.  37.5 38.  38.5 39.  39.5 40.  40.5 41.  41.5 42.  42.5\n",
      " 43.  43.5 44.  44.5 45.  45.5 46.  46.5 47.  47.5]\n"
     ]
    },
    {
     "name": "stderr",
     "output_type": "stream",
     "text": [
      "\r",
      " 38%|█████████████████████████████▎                                                | 135/360 [1:07:57<56:30, 15.07s/it]"
     ]
    },
    {
     "name": "stdout",
     "output_type": "stream",
     "text": [
      "Finished \\\\192.168.0.7\\bbfishmahsa3\\CGBB_embryo_4_28_2023\\FinalDecodedSpotsV3\\saveDecodedFinalV1--MERFISH_AnalysisE1--Conv_zscan__22--_D9.npz\n",
      "Loaded decoded: -1.6171526908874512\n",
      "Molecules size: (1180548, 4, 10)\n",
      "Covering reaoduts: [ 0.  1.  2.  3.  4.  5.  6.  7.  8.  9. 10. 11. 12. 13. 14. 15. 16. 17.\n",
      " 18. 19. 20. 21. 22. 23. 24. 25. 26. 27. 28. 29. 30. 31. 32. 33. 34. 35.\n",
      " 36. 37. 38. 39. 40. 41. 42. 43. 44. 45. 46. 47.]\n"
     ]
    },
    {
     "name": "stderr",
     "output_type": "stream",
     "text": [
      "\r",
      " 38%|████████████████████████████▋                                               | 136/360 [1:08:17<1:00:56, 16.33s/it]"
     ]
    },
    {
     "name": "stdout",
     "output_type": "stream",
     "text": [
      "Finished \\\\192.168.0.7\\bbfishmahsa3\\CGBB_embryo_4_28_2023\\FinalDecodedSpotsV3\\saveDecodedFinalV1--MERFISH_AnalysisP56--Conv_zscan__22--_D9.npz\n",
      "Loaded decoded: -1.3756296634674072\n",
      "Molecules size: (890275, 4, 10)\n",
      "Covering reaoduts: [ 0.  1.  2.  3.  4.  5.  6.  7.  8.  9. 10. 11. 12. 13. 14. 15. 16. 17.\n",
      " 18. 19. 20. 21. 22. 23. 24. 25. 26. 27. 28. 29. 30. 31. 32. 33. 34. 35.\n",
      " 36. 37. 38. 39. 40. 41. 42. 43. 44. 45. 46. 47.]\n"
     ]
    },
    {
     "name": "stderr",
     "output_type": "stream",
     "text": [
      "\r",
      " 38%|████████████████████████████▉                                               | 137/360 [1:08:34<1:02:03, 16.70s/it]"
     ]
    },
    {
     "name": "stdout",
     "output_type": "stream",
     "text": [
      "Finished \\\\192.168.0.7\\bbfishmahsa3\\CGBB_embryo_4_28_2023\\FinalDecodedSpotsV3\\saveDecodedFinalV1--MERFISH_AnalysisP711--Conv_zscan__22--_D9.npz\n",
      "Loaded decoded: -0.5343670845031738\n",
      "Molecules size: (343474, 4, 10)\n",
      "Covering reaoduts: [ 0.   0.5  1.   1.5  2.   2.5  3.   3.5  4.   4.5  5.   5.5  6.   6.5\n",
      "  7.   7.5  8.   8.5  9.   9.5 10.  10.5 11.  11.5 12.  12.5 13.  13.5\n",
      " 14.  14.5 15.  15.5 16.  16.5 17.  17.5 18.  18.5 19.  19.5 20.  20.5\n",
      " 21.  21.5 22.  22.5 23.  23.5 24.  24.5 25.  25.5 26.  26.5 27.  27.5\n",
      " 28.  28.5 29.  29.5 30.  30.5 31.  31.5 32.  32.5 33.  34.  35.  36.\n",
      " 37.  38.  39.  40.  41.  42.  43.  44.  45.  46.  47. ]\n"
     ]
    },
    {
     "name": "stderr",
     "output_type": "stream",
     "text": [
      "\r",
      " 38%|█████████████████████████████▏                                              | 138/360 [1:08:50<1:00:53, 16.46s/it]"
     ]
    },
    {
     "name": "stdout",
     "output_type": "stream",
     "text": [
      "Finished \\\\192.168.0.7\\bbfishmahsa3\\CGBB_embryo_4_28_2023\\FinalDecodedSpotsV3\\saveDecodedFinalV1--MERFISH_AnalysisE2--Conv_zscan__22--_D9.npz\n",
      "Loaded decoded: -11.976635456085205\n",
      "Molecules size: (8601379, 4, 10)\n",
      "Covering reaoduts: [ 0.   0.5  1.   1.5  2.   2.5  3.   4.   5.   6.   7.   8.   9.   9.5\n",
      " 10.  10.5 11.  11.5 12.  13.  14.  15.  16.  17.  18.  19.  20.  21.\n",
      " 22.  23.  24.  25.  26.  27.  28.  29.  30.  31.  32.  33.  34.  35.\n",
      " 36.  37.  38.  39.  40.  41.  42.  43.  44.  45.  46.  47. ]\n",
      "Finished \\\\192.168.0.7\\bbfishmahsa3\\CGBB_embryo_4_28_2023\\FinalDecodedSpotsV3\\saveDecodedFinalV1--MERFISH_AnalysisP12--Conv_zscan__23--_D9.npz\n"
     ]
    },
    {
     "name": "stderr",
     "output_type": "stream",
     "text": [
      "\r",
      " 39%|█████████████████████████████▎                                              | 139/360 [1:09:47<1:45:40, 28.69s/it]"
     ]
    },
    {
     "name": "stdout",
     "output_type": "stream",
     "text": [
      "Loaded decoded: -5.070586919784546\n",
      "Molecules size: (3224432, 4, 10)\n",
      "Covering reaoduts: [ 0.  1.  2.  3.  4.  5.  6.  7.  8.  9. 10. 11. 12. 13. 14. 15. 16. 17.\n",
      " 18. 19. 20. 21. 22. 23. 24. 25. 26. 27. 28. 29. 30. 31. 32. 33. 34. 35.\n",
      " 36. 37. 38. 39. 40. 41. 42. 43. 44. 45. 46. 47.]\n"
     ]
    },
    {
     "name": "stderr",
     "output_type": "stream",
     "text": [
      "\r",
      " 39%|█████████████████████████████▌                                              | 140/360 [1:10:19<1:48:29, 29.59s/it]"
     ]
    },
    {
     "name": "stdout",
     "output_type": "stream",
     "text": [
      "Finished \\\\192.168.0.7\\bbfishmahsa3\\CGBB_embryo_4_28_2023\\FinalDecodedSpotsV3\\saveDecodedFinalV1--MERFISH_AnalysisP34--Conv_zscan__23--_D9.npz\n",
      "Loaded decoded: -2.548604965209961\n",
      "Molecules size: (1292905, 4, 10)\n",
      "Covering reaoduts: [ 0.   1.   2.   3.   4.   5.   6.   7.   8.   9.  10.  11.  12.  13.\n",
      " 14.  15.  16.  17.  18.  19.  20.  21.  22.  23.  24.  25.  26.  27.\n",
      " 28.  29.  30.  30.5 31.  31.5 32.  32.5 33.  33.5 34.  34.5 35.  35.5\n",
      " 36.  36.5 37.  37.5 38.  38.5 39.  39.5 40.  40.5 41.  41.5 42.  42.5\n",
      " 43.  43.5 44.  44.5 45.  45.5 46.  46.5 47.  47.5]\n"
     ]
    },
    {
     "name": "stderr",
     "output_type": "stream",
     "text": [
      "\r",
      " 39%|█████████████████████████████▊                                              | 141/360 [1:10:41<1:39:48, 27.35s/it]"
     ]
    },
    {
     "name": "stdout",
     "output_type": "stream",
     "text": [
      "Finished \\\\192.168.0.7\\bbfishmahsa3\\CGBB_embryo_4_28_2023\\FinalDecodedSpotsV3\\saveDecodedFinalV1--MERFISH_AnalysisE1--Conv_zscan__23--_D9.npz\n",
      "Loaded decoded: -6.32360577583313\n",
      "Molecules size: (4712120, 4, 10)\n",
      "Covering reaoduts: [ 0.  1.  2.  3.  4.  5.  6.  7.  8.  9. 10. 11. 12. 13. 14. 15. 16. 17.\n",
      " 18. 19. 20. 21. 22. 23. 24. 25. 26. 27. 28. 29. 30. 31. 32. 33. 34. 35.\n",
      " 36. 37. 38. 39. 40. 41. 42. 43. 44. 45. 46. 47.]\n"
     ]
    },
    {
     "name": "stderr",
     "output_type": "stream",
     "text": [
      "\r",
      " 39%|█████████████████████████████▉                                              | 142/360 [1:11:17<1:49:05, 30.03s/it]"
     ]
    },
    {
     "name": "stdout",
     "output_type": "stream",
     "text": [
      "Finished \\\\192.168.0.7\\bbfishmahsa3\\CGBB_embryo_4_28_2023\\FinalDecodedSpotsV3\\saveDecodedFinalV1--MERFISH_AnalysisP56--Conv_zscan__23--_D9.npz\n",
      "Loaded decoded: -5.284953355789185\n",
      "Molecules size: (3791681, 4, 10)\n",
      "Covering reaoduts: [ 0.  1.  2.  3.  4.  5.  6.  7.  8.  9. 10. 11. 12. 13. 14. 15. 16. 17.\n",
      " 18. 19. 20. 21. 22. 23. 24. 25. 26. 27. 28. 29. 30. 31. 32. 33. 34. 35.\n",
      " 36. 37. 38. 39. 40. 41. 42. 43. 44. 45. 46. 47.]\n"
     ]
    },
    {
     "name": "stderr",
     "output_type": "stream",
     "text": [
      "\r",
      " 40%|██████████████████████████████▏                                             | 143/360 [1:11:51<1:52:24, 31.08s/it]"
     ]
    },
    {
     "name": "stdout",
     "output_type": "stream",
     "text": [
      "Finished \\\\192.168.0.7\\bbfishmahsa3\\CGBB_embryo_4_28_2023\\FinalDecodedSpotsV3\\saveDecodedFinalV1--MERFISH_AnalysisP711--Conv_zscan__23--_D9.npz\n",
      "Loaded decoded: -1.9776098728179932\n",
      "Molecules size: (1361025, 4, 10)\n",
      "Covering reaoduts: [ 0.   0.5  1.   1.5  2.   2.5  3.   3.5  4.   4.5  5.   5.5  6.   6.5\n",
      "  7.   7.5  8.   8.5  9.   9.5 10.  10.5 11.  11.5 12.  12.5 13.  13.5\n",
      " 14.  14.5 15.  15.5 16.  16.5 17.  17.5 18.  18.5 19.  19.5 20.  20.5\n",
      " 21.  21.5 22.  22.5 23.  23.5 24.  24.5 25.  25.5 26.  26.5 27.  27.5\n",
      " 28.  28.5 29.  29.5 30.  30.5 31.  31.5 32.  32.5 33.  34.  35.  36.\n",
      " 37.  38.  39.  40.  41.  42.  43.  44.  45.  46.  47. ]\n"
     ]
    },
    {
     "name": "stderr",
     "output_type": "stream",
     "text": [
      "\r",
      " 40%|██████████████████████████████▍                                             | 144/360 [1:12:10<1:38:56, 27.48s/it]"
     ]
    },
    {
     "name": "stdout",
     "output_type": "stream",
     "text": [
      "Finished \\\\192.168.0.7\\bbfishmahsa3\\CGBB_embryo_4_28_2023\\FinalDecodedSpotsV3\\saveDecodedFinalV1--MERFISH_AnalysisE2--Conv_zscan__23--_D9.npz\n",
      "Loaded decoded: -19.86765742301941\n",
      "Molecules size: (14231029, 4, 10)\n",
      "Covering reaoduts: [ 0.   0.5  1.   1.5  2.   2.5  3.   4.   5.   6.   7.   8.   9.   9.5\n",
      " 10.  10.5 11.  11.5 12.  13.  14.  15.  16.  17.  18.  19.  20.  21.\n",
      " 22.  23.  24.  25.  26.  27.  28.  29.  30.  31.  32.  33.  34.  35.\n",
      " 36.  37.  38.  39.  40.  41.  42.  43.  44.  45.  46.  47. ]\n"
     ]
    },
    {
     "name": "stderr",
     "output_type": "stream",
     "text": [
      "\r",
      " 40%|██████████████████████████████▌                                             | 145/360 [1:13:32<2:36:51, 43.78s/it]"
     ]
    },
    {
     "name": "stdout",
     "output_type": "stream",
     "text": [
      "Finished \\\\192.168.0.7\\bbfishmahsa3\\CGBB_embryo_4_28_2023\\FinalDecodedSpotsV3\\saveDecodedFinalV1--MERFISH_AnalysisP12--Conv_zscan__24--_D9.npz\n",
      "Loaded decoded: -7.767154693603516\n",
      "Molecules size: (5416593, 4, 10)\n",
      "Covering reaoduts: [ 0.   1.   2.   3.   4.   5.   6.   7.   8.   9.  10.  11.  12.  13.\n",
      " 14.  15.  16.  17.  18.  19.  20.  21.  22.  23.  24.  25.  26.  27.\n",
      " 27.5 28.  28.5 29.  29.5 30.  30.5 31.  31.5 32.  32.5 33.  34.  35.\n",
      " 36.  37.  38.  39.  40.  41.  42.  43.  44.  45.  46.  47. ]\n"
     ]
    },
    {
     "name": "stderr",
     "output_type": "stream",
     "text": [
      "\r",
      " 41%|██████████████████████████████▊                                             | 146/360 [1:14:13<2:32:48, 42.84s/it]"
     ]
    },
    {
     "name": "stdout",
     "output_type": "stream",
     "text": [
      "Finished \\\\192.168.0.7\\bbfishmahsa3\\CGBB_embryo_4_28_2023\\FinalDecodedSpotsV3\\saveDecodedFinalV1--MERFISH_AnalysisP34--Conv_zscan__24--_D9.npz\n",
      "Loaded decoded: -3.204172134399414\n",
      "Molecules size: (2135019, 4, 10)\n",
      "Covering reaoduts: [ 0.   1.   2.   3.   4.   5.   6.   7.   8.   9.  10.  11.  12.  13.\n",
      " 14.  15.  16.  17.  18.  19.  20.  21.  22.  23.  24.  25.  26.  27.\n",
      " 28.  29.  30.  30.5 31.  31.5 32.  32.5 33.  33.5 34.  34.5 35.  35.5\n",
      " 36.  36.5 37.  37.5 38.  38.5 39.  39.5 40.  40.5 41.  41.5 42.  42.5\n",
      " 43.  43.5 44.  44.5 45.  45.5 46.  46.5 47.  47.5]\n"
     ]
    },
    {
     "name": "stderr",
     "output_type": "stream",
     "text": [
      "\r",
      " 41%|███████████████████████████████                                             | 147/360 [1:14:35<2:09:57, 36.61s/it]"
     ]
    },
    {
     "name": "stdout",
     "output_type": "stream",
     "text": [
      "Finished \\\\192.168.0.7\\bbfishmahsa3\\CGBB_embryo_4_28_2023\\FinalDecodedSpotsV3\\saveDecodedFinalV1--MERFISH_AnalysisE1--Conv_zscan__24--_D9.npz\n",
      "Loaded decoded: -9.479830503463745\n",
      "Molecules size: (7005923, 4, 10)\n",
      "Covering reaoduts: [ 0.  1.  2.  3.  4.  5.  6.  7.  8.  9. 10. 11. 12. 13. 14. 15. 16. 17.\n",
      " 18. 19. 20. 21. 22. 23. 24. 25. 26. 27. 28. 29. 30. 31. 32. 33. 34. 35.\n",
      " 36. 37. 38. 39. 40. 41. 42. 43. 44. 45. 46. 47.]\n"
     ]
    },
    {
     "name": "stderr",
     "output_type": "stream",
     "text": [
      "\r",
      " 41%|███████████████████████████████▏                                            | 148/360 [1:15:20<2:19:05, 39.37s/it]"
     ]
    },
    {
     "name": "stdout",
     "output_type": "stream",
     "text": [
      "Finished \\\\192.168.0.7\\bbfishmahsa3\\CGBB_embryo_4_28_2023\\FinalDecodedSpotsV3\\saveDecodedFinalV1--MERFISH_AnalysisP56--Conv_zscan__24--_D9.npz\n",
      "Loaded decoded: -7.8837504386901855\n",
      "Molecules size: (5695467, 4, 10)\n",
      "Covering reaoduts: [ 0.  1.  2.  3.  4.  5.  6.  7.  8.  9. 10. 11. 12. 13. 14. 15. 16. 17.\n",
      " 18. 19. 20. 21. 22. 23. 24. 25. 26. 27. 28. 29. 30. 31. 32. 33. 34. 35.\n",
      " 36. 37. 38. 39. 40. 41. 42. 43. 44. 45. 46. 47.]\n"
     ]
    },
    {
     "name": "stderr",
     "output_type": "stream",
     "text": [
      "\r",
      " 41%|███████████████████████████████▍                                            | 149/360 [1:16:00<2:18:35, 39.41s/it]"
     ]
    },
    {
     "name": "stdout",
     "output_type": "stream",
     "text": [
      "Finished \\\\192.168.0.7\\bbfishmahsa3\\CGBB_embryo_4_28_2023\\FinalDecodedSpotsV3\\saveDecodedFinalV1--MERFISH_AnalysisP711--Conv_zscan__24--_D9.npz\n",
      "Loaded decoded: -3.322509288787842\n",
      "Molecules size: (2245994, 4, 10)\n",
      "Covering reaoduts: [ 0.   0.5  1.   1.5  2.   2.5  3.   3.5  4.   4.5  5.   5.5  6.   6.5\n",
      "  7.   7.5  8.   8.5  9.   9.5 10.  10.5 11.  11.5 12.  12.5 13.  13.5\n",
      " 14.  14.5 15.  15.5 16.  16.5 17.  17.5 18.  18.5 19.  19.5 20.  20.5\n",
      " 21.  21.5 22.  22.5 23.  23.5 24.  24.5 25.  25.5 26.  26.5 27.  27.5\n",
      " 28.  28.5 29.  29.5 30.  30.5 31.  31.5 32.  32.5 33.  34.  35.  36.\n",
      " 37.  38.  39.  40.  41.  42.  43.  44.  45.  46.  47. ]\n"
     ]
    },
    {
     "name": "stderr",
     "output_type": "stream",
     "text": [
      "\r",
      " 42%|███████████████████████████████▋                                            | 150/360 [1:16:24<2:01:19, 34.67s/it]"
     ]
    },
    {
     "name": "stdout",
     "output_type": "stream",
     "text": [
      "Finished \\\\192.168.0.7\\bbfishmahsa3\\CGBB_embryo_4_28_2023\\FinalDecodedSpotsV3\\saveDecodedFinalV1--MERFISH_AnalysisE2--Conv_zscan__24--_D9.npz\n",
      "Loaded decoded: -6.766859292984009\n",
      "Molecules size: (3155609, 4, 10)\n",
      "Covering reaoduts: [ 0.   0.5  1.   1.5  2.   2.5  3.   4.   5.   6.   7.   8.   9.   9.5\n",
      " 10.  10.5 11.  11.5 12.  13.  14.  15.  16.  17.  18.  19.  20.  21.\n",
      " 22.  23.  24.  25.  26.  27.  28.  29.  30.  31.  32.  33.  34.  35.\n",
      " 36.  37.  38.  39.  40.  41.  42.  43.  44.  45.  46.  47. ]\n"
     ]
    },
    {
     "name": "stderr",
     "output_type": "stream",
     "text": [
      "\r",
      " 42%|███████████████████████████████▉                                            | 151/360 [1:16:51<1:53:08, 32.48s/it]"
     ]
    },
    {
     "name": "stdout",
     "output_type": "stream",
     "text": [
      "Finished \\\\192.168.0.7\\bbfishmahsa3\\CGBB_embryo_4_28_2023\\FinalDecodedSpotsV3\\saveDecodedFinalV1--MERFISH_AnalysisP12--Conv_zscan__25--_D9.npz\n",
      "Loaded decoded: -2.6435747146606445\n",
      "Molecules size: (1714531, 4, 10)\n",
      "Covering reaoduts: [ 0.  1.  2.  3.  4.  5.  6.  7.  8.  9. 10. 11. 12. 13. 14. 15. 16. 17.\n",
      " 18. 19. 20. 21. 22. 23. 24. 25. 26. 27. 28. 29. 30. 31. 32. 33. 34. 35.\n",
      " 36. 37. 38. 39. 40. 41. 42. 43. 44. 45. 46. 47.]\n"
     ]
    },
    {
     "name": "stderr",
     "output_type": "stream",
     "text": [
      "\r",
      " 42%|████████████████████████████████                                            | 152/360 [1:17:13<1:42:01, 29.43s/it]"
     ]
    },
    {
     "name": "stdout",
     "output_type": "stream",
     "text": [
      "Finished \\\\192.168.0.7\\bbfishmahsa3\\CGBB_embryo_4_28_2023\\FinalDecodedSpotsV3\\saveDecodedFinalV1--MERFISH_AnalysisP34--Conv_zscan__25--_D9.npz\n",
      "Loaded decoded: -1.2508904933929443\n",
      "Molecules size: (915090, 4, 10)\n",
      "Covering reaoduts: [ 0.   1.   2.   3.   4.   5.   6.   7.   8.   9.  10.  11.  12.  13.\n",
      " 14.  15.  16.  17.  18.  19.  20.  21.  22.  23.  24.  25.  26.  27.\n",
      " 28.  29.  30.  30.5 31.  31.5 32.  32.5 33.  33.5 34.  34.5 35.  35.5\n",
      " 36.  36.5 37.  37.5 38.  38.5 39.  39.5 40.  40.5 41.  41.5 42.  42.5\n",
      " 43.  43.5 44.  44.5 45.  45.5 46.  46.5 47.  47.5]\n"
     ]
    },
    {
     "name": "stderr",
     "output_type": "stream",
     "text": [
      "\r",
      " 42%|████████████████████████████████▎                                           | 153/360 [1:17:31<1:29:49, 26.04s/it]"
     ]
    },
    {
     "name": "stdout",
     "output_type": "stream",
     "text": [
      "Finished \\\\192.168.0.7\\bbfishmahsa3\\CGBB_embryo_4_28_2023\\FinalDecodedSpotsV3\\saveDecodedFinalV1--MERFISH_AnalysisE1--Conv_zscan__25--_D9.npz\n",
      "Loaded decoded: -3.10715913772583\n",
      "Molecules size: (2391683, 4, 10)\n",
      "Covering reaoduts: [ 0.  1.  2.  3.  4.  5.  6.  7.  8.  9. 10. 11. 12. 13. 14. 15. 16. 17.\n",
      " 18. 19. 20. 21. 22. 23. 24. 25. 26. 27. 28. 29. 30. 31. 32. 33. 34. 35.\n",
      " 36. 37. 38. 39. 40. 41. 42. 43. 44. 45. 46. 47.]\n"
     ]
    },
    {
     "name": "stderr",
     "output_type": "stream",
     "text": [
      "\r",
      " 43%|████████████████████████████████▌                                           | 154/360 [1:17:57<1:28:43, 25.84s/it]"
     ]
    },
    {
     "name": "stdout",
     "output_type": "stream",
     "text": [
      "Finished \\\\192.168.0.7\\bbfishmahsa3\\CGBB_embryo_4_28_2023\\FinalDecodedSpotsV3\\saveDecodedFinalV1--MERFISH_AnalysisP56--Conv_zscan__25--_D9.npz\n",
      "Loaded decoded: -2.756237745285034\n",
      "Molecules size: (2121303, 4, 10)\n",
      "Covering reaoduts: [ 0.  1.  2.  3.  4.  5.  6.  7.  8.  9. 10. 11. 12. 13. 14. 15. 16. 17.\n",
      " 18. 19. 20. 21. 22. 23. 24. 25. 26. 27. 28. 29. 30. 31. 32. 33. 34. 35.\n",
      " 36. 37. 38. 39. 40. 41. 42. 43. 44. 45. 46. 47.]\n"
     ]
    },
    {
     "name": "stderr",
     "output_type": "stream",
     "text": [
      "\r",
      " 43%|████████████████████████████████▋                                           | 155/360 [1:18:20<1:26:03, 25.19s/it]"
     ]
    },
    {
     "name": "stdout",
     "output_type": "stream",
     "text": [
      "Finished \\\\192.168.0.7\\bbfishmahsa3\\CGBB_embryo_4_28_2023\\FinalDecodedSpotsV3\\saveDecodedFinalV1--MERFISH_AnalysisP711--Conv_zscan__25--_D9.npz\n",
      "Loaded decoded: -1.1064963340759277\n",
      "Molecules size: (838251, 4, 10)\n",
      "Covering reaoduts: [ 0.   0.5  1.   1.5  2.   2.5  3.   3.5  4.   4.5  5.   5.5  6.   6.5\n",
      "  7.   7.5  8.   8.5  9.   9.5 10.  10.5 11.  11.5 12.  12.5 13.  13.5\n",
      " 14.  14.5 15.  15.5 16.  16.5 17.  17.5 18.  18.5 19.  19.5 20.  20.5\n",
      " 21.  21.5 22.  22.5 23.  23.5 24.  24.5 25.  25.5 26.  26.5 27.  27.5\n",
      " 28.  28.5 29.  29.5 30.  30.5 31.  31.5 32.  32.5 33.  34.  35.  36.\n",
      " 37.  38.  39.  40.  41.  42.  43.  44.  45.  46.  47. ]\n"
     ]
    },
    {
     "name": "stderr",
     "output_type": "stream",
     "text": [
      "\r",
      " 43%|████████████████████████████████▉                                           | 156/360 [1:18:35<1:15:11, 22.12s/it]"
     ]
    },
    {
     "name": "stdout",
     "output_type": "stream",
     "text": [
      "Finished \\\\192.168.0.7\\bbfishmahsa3\\CGBB_embryo_4_28_2023\\FinalDecodedSpotsV3\\saveDecodedFinalV1--MERFISH_AnalysisE2--Conv_zscan__25--_D9.npz\n",
      "Loaded decoded: -0.17308568954467773\n",
      "Molecules size: (89895, 4, 10)\n",
      "Covering reaoduts: [ 0.   0.5  1.   1.5  2.   2.5  3.   4.   5.   6.   7.   8.   9.   9.5\n",
      " 10.  10.5 11.  11.5 12.  13.  14.  15.  16.  17.  18.  19.  20.  21.\n",
      " 22.  23.  24.  25.  26.  27.  28.  29.  30.  31.  32.  33.  34.  35.\n",
      " 36.  37.  38.  39.  40.  41.  42.  43.  44.  45.  46.  47. ]\n"
     ]
    },
    {
     "name": "stderr",
     "output_type": "stream",
     "text": [
      "\r",
      " 44%|█████████████████████████████████▏                                          | 157/360 [1:18:50<1:06:50, 19.75s/it]"
     ]
    },
    {
     "name": "stdout",
     "output_type": "stream",
     "text": [
      "Finished \\\\192.168.0.7\\bbfishmahsa3\\CGBB_embryo_4_28_2023\\FinalDecodedSpotsV3\\saveDecodedFinalV1--MERFISH_AnalysisP12--Conv_zscan__26--_D9.npz\n",
      "Loaded decoded: -0.09805822372436523\n",
      "Molecules size: (22683, 4, 10)\n",
      "Covering reaoduts: [ 0.  1.  2.  3.  4.  5.  6.  7.  8.  9. 10. 11. 12. 13. 14. 15. 16. 17.\n",
      " 18. 19. 20. 21. 22. 23. 24. 25. 26. 27. 28. 29. 30. 31. 32. 33. 34. 35.\n",
      " 36. 37. 38. 39. 40. 41. 42. 43. 44. 45. 46. 47.]\n"
     ]
    },
    {
     "name": "stderr",
     "output_type": "stream",
     "text": [
      "\r",
      " 44%|██████████████████████████████████▏                                           | 158/360 [1:19:00<56:58, 16.92s/it]"
     ]
    },
    {
     "name": "stdout",
     "output_type": "stream",
     "text": [
      "Finished \\\\192.168.0.7\\bbfishmahsa3\\CGBB_embryo_4_28_2023\\FinalDecodedSpotsV3\\saveDecodedFinalV1--MERFISH_AnalysisP34--Conv_zscan__26--_D9.npz\n",
      "Loaded decoded: -0.1329038143157959\n",
      "Molecules size: (13354, 4, 10)\n",
      "Covering reaoduts: [ 0.   1.   2.   3.   4.   5.   6.   7.   8.   9.  10.  11.  12.  13.\n",
      " 14.  15.  16.  17.  18.  19.  20.  21.  22.  23.  24.  25.  26.  27.\n",
      " 28.  29.  30.  30.5 31.  31.5 32.  32.5 33.  33.5 34.  34.5 35.  35.5\n",
      " 36.  36.5 37.  37.5 38.  38.5 39.  39.5 40.  40.5 41.  41.5 42.  42.5\n",
      " 43.  43.5 44.  44.5 45.  45.5 46.  46.5 47.  47.5]\n"
     ]
    },
    {
     "name": "stderr",
     "output_type": "stream",
     "text": [
      "\r",
      " 44%|██████████████████████████████████▍                                           | 159/360 [1:19:11<51:10, 15.28s/it]"
     ]
    },
    {
     "name": "stdout",
     "output_type": "stream",
     "text": [
      "Finished \\\\192.168.0.7\\bbfishmahsa3\\CGBB_embryo_4_28_2023\\FinalDecodedSpotsV3\\saveDecodedFinalV1--MERFISH_AnalysisE1--Conv_zscan__26--_D9.npz\n",
      "Loaded decoded: -0.17972540855407715\n",
      "Molecules size: (103737, 4, 10)\n",
      "Covering reaoduts: [ 0.  1.  2.  3.  4.  5.  6.  7.  8.  9. 10. 11. 12. 13. 14. 15. 16. 17.\n",
      " 18. 19. 20. 21. 22. 23. 24. 25. 26. 27. 28. 29. 30. 31. 32. 33. 34. 35.\n",
      " 36. 37. 38. 39. 40. 41. 42. 43. 44. 45. 46. 47.]\n"
     ]
    },
    {
     "name": "stderr",
     "output_type": "stream",
     "text": [
      "\r",
      " 44%|██████████████████████████████████▋                                           | 160/360 [1:19:22<46:26, 13.93s/it]"
     ]
    },
    {
     "name": "stdout",
     "output_type": "stream",
     "text": [
      "Finished \\\\192.168.0.7\\bbfishmahsa3\\CGBB_embryo_4_28_2023\\FinalDecodedSpotsV3\\saveDecodedFinalV1--MERFISH_AnalysisP56--Conv_zscan__26--_D9.npz\n",
      "Loaded decoded: -0.1364758014678955\n",
      "Molecules size: (77195, 4, 10)\n",
      "Covering reaoduts: [ 0.  1.  2.  3.  4.  5.  6.  7.  8.  9. 10. 11. 12. 13. 14. 15. 16. 17.\n",
      " 18. 19. 20. 21. 22. 23. 24. 25. 26. 27. 28. 29. 30. 31. 32. 33. 34. 35.\n",
      " 36. 37. 38. 39. 40. 41. 42. 43. 44. 45. 46. 47.]\n"
     ]
    },
    {
     "name": "stderr",
     "output_type": "stream",
     "text": [
      "\r",
      " 45%|██████████████████████████████████▉                                           | 161/360 [1:19:32<42:40, 12.87s/it]"
     ]
    },
    {
     "name": "stdout",
     "output_type": "stream",
     "text": [
      "Finished \\\\192.168.0.7\\bbfishmahsa3\\CGBB_embryo_4_28_2023\\FinalDecodedSpotsV3\\saveDecodedFinalV1--MERFISH_AnalysisP711--Conv_zscan__26--_D9.npz\n",
      "Loaded decoded: -0.13228940963745117\n",
      "Molecules size: (30866, 4, 10)\n",
      "Covering reaoduts: [ 0.   0.5  1.   1.5  2.   2.5  3.   3.5  4.   4.5  5.   5.5  6.   6.5\n",
      "  7.   7.5  8.   8.5  9.   9.5 10.  10.5 11.  11.5 12.  12.5 13.  13.5\n",
      " 14.  14.5 15.  15.5 16.  16.5 17.  17.5 18.  18.5 19.  19.5 20.  20.5\n",
      " 21.  21.5 22.  22.5 23.  23.5 24.  24.5 25.  25.5 26.  26.5 27.  27.5\n",
      " 28.  28.5 29.  29.5 30.  30.5 31.  31.5 32.  32.5 33.  34.  35.  36.\n",
      " 37.  38.  39.  40.  41.  42.  43.  44.  45.  46.  47. ]\n"
     ]
    },
    {
     "name": "stderr",
     "output_type": "stream",
     "text": [
      "\r",
      " 45%|███████████████████████████████████                                           | 162/360 [1:19:43<39:51, 12.08s/it]"
     ]
    },
    {
     "name": "stdout",
     "output_type": "stream",
     "text": [
      "Finished \\\\192.168.0.7\\bbfishmahsa3\\CGBB_embryo_4_28_2023\\FinalDecodedSpotsV3\\saveDecodedFinalV1--MERFISH_AnalysisE2--Conv_zscan__26--_D9.npz\n",
      "Loaded decoded: -6.986717224121094\n",
      "Molecules size: (5198367, 4, 10)\n",
      "Covering reaoduts: [ 0.   0.5  1.   1.5  2.   2.5  3.   4.   5.   6.   7.   8.   9.   9.5\n",
      " 10.  10.5 11.  11.5 12.  13.  14.  15.  16.  17.  18.  19.  20.  21.\n",
      " 22.  23.  24.  25.  26.  27.  28.  29.  30.  31.  32.  33.  34.  35.\n",
      " 36.  37.  38.  39.  40.  41.  42.  43.  44.  45.  46.  47. ]\n"
     ]
    },
    {
     "name": "stderr",
     "output_type": "stream",
     "text": [
      "\r",
      " 45%|██████████████████████████████████▍                                         | 163/360 [1:20:20<1:04:21, 19.60s/it]"
     ]
    },
    {
     "name": "stdout",
     "output_type": "stream",
     "text": [
      "Finished \\\\192.168.0.7\\bbfishmahsa3\\CGBB_embryo_4_28_2023\\FinalDecodedSpotsV3\\saveDecodedFinalV1--MERFISH_AnalysisP12--Conv_zscan__27--_D9.npz\n"
     ]
    },
    {
     "name": "stderr",
     "output_type": "stream",
     "text": [
      "100%|██████████████████████████████████████████████████████████████████████████████| 360/360 [1:20:20<00:00, 13.39s/it]\n"
     ]
    }
   ],
   "source": [
    "for fov,set_,save_folder in tqdm(paramaters[::1]):\n",
    "    try:\n",
    "        main_analysisV1(fov,set_,\n",
    "                       save_folder = save_folder,\n",
    "                       save_fl_ref = r'\\\\192.168.0.6\\bbfishjoy4extra\\MERFISH_AnalysisP12\\scoresRef.npy',\n",
    "                       save_folder_all = r'\\\\192.168.0.7\\bbfishmahsa3\\CGBB_embryo_4_28_2023\\FinalDecodedSpotsV3',\n",
    "                       drift_folder = r'\\\\192.168.0.7\\bbfishmahsa3\\CGBB_embryo_4_28_2023\\DriftAcrossDatasets',\n",
    "                       segm_tag = 'A1_LamA_Nup98')\n",
    "    except:\n",
    "        print(\"Failed at:\",fov,set_,save_folder)"
   ]
  },
  {
   "cell_type": "code",
   "execution_count": null,
   "id": "14364a1f",
   "metadata": {},
   "outputs": [],
   "source": []
  },
  {
   "cell_type": "code",
   "execution_count": null,
   "id": "0e2a698f",
   "metadata": {},
   "outputs": [],
   "source": []
  },
  {
   "cell_type": "code",
   "execution_count": null,
   "id": "cfd5283c",
   "metadata": {},
   "outputs": [],
   "source": []
  },
  {
   "cell_type": "code",
   "execution_count": null,
   "id": "1eb842d7",
   "metadata": {},
   "outputs": [],
   "source": []
  },
  {
   "cell_type": "code",
   "execution_count": null,
   "id": "80974e1c",
   "metadata": {},
   "outputs": [],
   "source": []
  },
  {
   "cell_type": "markdown",
   "id": "8da3e8e4",
   "metadata": {},
   "source": [
    "### Load library information"
   ]
  },
  {
   "cell_type": "code",
   "execution_count": 11,
   "id": "02e1e6fa",
   "metadata": {},
   "outputs": [],
   "source": [
    "import sys\n",
    "sys.path.append(r'..//')\n",
    "from ioMicro import *"
   ]
  },
  {
   "cell_type": "code",
   "execution_count": 12,
   "id": "b555fd00",
   "metadata": {},
   "outputs": [],
   "source": [
    "tags_lib = ['-e1','-e2','-p12','-p34','-p56','-p711']\n",
    "fls_lib = ['C:\\\\Scripts\\\\NMERFISH\\\\codebooks\\\\blank_codebook_Mahsa_DevEP1-code_color2__comb16-4-4.csv',\n",
    " 'C:\\\\Scripts\\\\NMERFISH\\\\codebooks\\\\blank_codebook_Mahsa_DevEP2-code_color2__comb16-4-4.csv',\n",
    " 'C:\\\\Scripts\\\\NMERFISH\\\\codebooks\\\\blank_codebook_Mahsa_DevP1P2-code_color2__comb16-4-4.csv',\n",
    " 'C:\\\\Scripts\\\\NMERFISH\\\\codebooks\\\\blank_codebook_Mahsa_DevP3P4-code_color2__comb16-4-4.csv',\n",
    " 'C:\\\\Scripts\\\\NMERFISH\\\\codebooks\\\\blank_codebook_Mahsa_DevP5P6-code_color2__comb16-4-4.csv',\n",
    " 'C:\\\\Scripts\\\\NMERFISH\\\\codebooks\\\\blank_codebook_Mahsa_DevP7P11-code_color2__comb16-4-4.csv']\n",
    "namesf = []\n",
    "namesflib = []\n",
    "for fl_l,tag_l in zip(fls_lib,tags_lib):\n",
    "    dfL = pd.read_csv(fl_l)\n",
    "    namesf+=[nm+tag_l if 'blank' in nm else nm for nm in dfL['name']]\n",
    "    namesflib+=[nm+'--'+tag_l for nm in dfL['name']]\n",
    "genesf = np.unique(namesf)\n",
    "dic_nmlib_index = dict(zip(genesf,np.arange(len(genesf))))\n",
    "\n",
    "dic_libs = {}\n",
    "for gn in namesflib:\n",
    "    gn_,lib_ = gn.split('---')[0],gn.split('---')[-1]\n",
    "    if gn_ not in dic_libs: dic_libs[gn_]=[]\n",
    "    dic_libs[gn_].append(lib_)\n"
   ]
  },
  {
   "cell_type": "markdown",
   "id": "11f00958",
   "metadata": {},
   "source": [
    "### Load the cell info first - fast"
   ]
  },
  {
   "cell_type": "code",
   "execution_count": 14,
   "id": "7d8a09b1",
   "metadata": {},
   "outputs": [
    {
     "data": {
      "text/plain": [
       "1523"
      ]
     },
     "execution_count": 14,
     "metadata": {},
     "output_type": "execute_result"
    }
   ],
   "source": [
    "set_ = '_D9'\n",
    "save_fls_ = glob.glob(r'\\\\192.168.0.7\\bbfishmahsa3\\CGBB_embryo_4_28_2023\\FinalDecodedSpotsV3\\saveDecodedFinalV1--*'+set_+'*')\n",
    "len(save_fls_)"
   ]
  },
  {
   "cell_type": "code",
   "execution_count": 15,
   "id": "44f0a3f3",
   "metadata": {},
   "outputs": [
    {
     "name": "stderr",
     "output_type": "stream",
     "text": [
      "100%|██████████████████████████████████████████████████████████████████████████████| 1523/1523 [02:19<00:00, 10.91it/s]\n",
      "100%|██████████████████████████████████████████████████████████████████████| 302229/302229 [00:02<00:00, 150489.21it/s]\n"
     ]
    }
   ],
   "source": [
    "#dic_cells = {}\n",
    "#dic_cells_alt={}\n",
    "cells_all = None\n",
    "keys = []\n",
    "for save_fl in tqdm(save_fls_[:]):\n",
    "    #save_fl = save_fls_[0]\n",
    "    dic = np.load(save_fl)\n",
    "    cells = dic['cellinfo'][1:]\n",
    "    header_cells = list(dic['header_cells'])\n",
    "   \n",
    "    vols = cells[:,header_cells.index('volm')]\n",
    "\n",
    "    icellsf = cells[:,0].astype(int)\n",
    "    vols = cells[:,header_cells.index('volm')]\n",
    "    \n",
    "    vol_th_ = vols>4000\n",
    "    icellsf = icellsf[vol_th_]\n",
    "    cells = cells[vol_th_]\n",
    "    base = os.path.basename(save_fl).split('--')[-2]+'_'\n",
    "    keys.extend([base+str(int(cell)) for cell in cells[:,0]])\n",
    "    cells_all = cells if cells_all is None else np.concatenate([cells_all,cells],axis=0)\n",
    "\n",
    "    \n",
    "volms = cells_all[:,1]\n",
    "index = np.argsort(volms)[::1]\n",
    "keys_ = np.array(keys)[index]\n",
    "cells_all_=cells_all[index]\n",
    "dice_cells = dict(zip(keys_,cells_all_))\n",
    "keysF = np.array(list(dice_cells.keys()))\n",
    "Xcells = np.array([dice_cells[cell][[0,-3,-2,-1]]for cell in keysF])\n",
    "\n",
    "tree = cKDTree(Xcells)\n",
    "res = tree.query_ball_tree(tree,20)\n",
    "res_ = []\n",
    "indCells = Xcells[:,0]\n",
    "\n",
    "for ir,r in enumerate(tqdm(res)):\n",
    "    ind_ = indCells[r]\n",
    "    res_.append(np.array(r)[ind_==indCells[ir]])\n",
    "dic_match={}\n",
    "for ir,r in enumerate(res_):\n",
    "    for r_ in r:\n",
    "        dic_match[keysF[ir]]=keysF[r_]"
   ]
  },
  {
   "cell_type": "markdown",
   "id": "50b62b55",
   "metadata": {},
   "source": [
    "### Load cell by gene in df"
   ]
  },
  {
   "cell_type": "code",
   "execution_count": 17,
   "id": "7b82d5c2",
   "metadata": {},
   "outputs": [
    {
     "name": "stderr",
     "output_type": "stream",
     "text": [
      "100%|██████████████████████████████████████████████████████████████████████████████| 1523/1523 [58:45<00:00,  2.31s/it]\n"
     ]
    }
   ],
   "source": [
    "#df will be of size genesf and cellidsf\n",
    "#cell_df,df=None,None\n",
    "dfF = None\n",
    "cell_dfF = None\n",
    "counter=0\n",
    "dic_cells = {}\n",
    "cellidsf = []\n",
    "df = np.zeros([0,len(genesf)])\n",
    "\n",
    "for save_fl in tqdm(save_fls_[:]):\n",
    "    #save_fl = save_fls_[0]\n",
    "    dic = np.load(save_fl)\n",
    "    XF = dic['XF']\n",
    "    header = list(dic['header'])\n",
    "    genes_decoded = dic['genes']\n",
    "    cells = dic['cellinfo'][1:]\n",
    "    header_cells = list(dic['header_cells'])\n",
    "    ### Rethrehold based on score\n",
    "    iscore = list(header).index('score')\n",
    "    scoreA = XF[:,iscore]\n",
    "    keep = scoreA>-0.5\n",
    "\n",
    "\n",
    "\n",
    "    icell = header.index('cell_id')\n",
    "\n",
    "    icells = XF[keep,icell].astype(int)\n",
    "    vols = cells[:,header_cells.index('volm')]\n",
    "\n",
    "    icellsf = cells[:,0].astype(int)\n",
    "    vols = cells[:,header_cells.index('volm')]\n",
    "    \n",
    "    vol_th_ = vols>4000\n",
    "    icellsf = icellsf[vol_th_]\n",
    "    cells = cells[vol_th_]\n",
    "    \n",
    "    \n",
    "    \n",
    "    \n",
    "    keep_vol = np.in1d(icells,icellsf) ### is molecule part of a big enough cell\n",
    "    icells=icells[keep_vol] #final cell indexes of the molecules\n",
    "    \n",
    "    base_cell = os.path.basename(save_fl).split('--')[-2]+'_'\n",
    "    icells_match = np.array([dic_match[base_cell+str(int(icell))]for icell in icells])\n",
    "    \n",
    "    ugns,gns_i = np.unique(genes_decoded[keep][keep_vol],return_inverse=True)\n",
    "    \n",
    "    \n",
    "    \n",
    "    icells_unique,icells_inv = np.unique(icells_match,return_inverse=True)\n",
    "    #icells_unique = list(icells_unique)+list(np.setdiff1d(icellsf,icells_unique))### add back in the 0 count cells\n",
    "    #icells_unique = np.array(icells_unique)\n",
    "    mcell = len(icells_unique)#+1\n",
    "    gn_cell,gn_cell_cts = np.unique(mcell*gns_i+icells_inv,return_counts=True)\n",
    "    igns_ = gn_cell//mcell\n",
    "    icells_ = gn_cell%mcell\n",
    "    Mcts = np.zeros([mcell,len(ugns)])\n",
    "    Mcts[icells_,igns_]=gn_cell_cts\n",
    "    \n",
    "    _,plate,fov,set_ = os.path.basename(save_fl).split('--')\n",
    "    plate = plate.lower().split('analysis')[-1]\n",
    "    ugns_ = [gn+'-'+plate if 'blank' in gn else gn for gn in ugns]\n",
    "    igns = [dic_nmlib_index[gn] for gn in ugns_]\n",
    "    \n",
    "    #icells_unique\n",
    "    in_common_cells = np.in1d(icells_unique,cellidsf)#,assume_unique=True)\n",
    "    cellidsf_dic = dict(zip(cellidsf,np.arange(len(cellidsf))))\n",
    "    in_common_cells_f = np.array([cellidsf_dic[cell_] for cell_ in icells_unique[in_common_cells]],dtype=int)\n",
    "    #in_common_cells_f = np.in1d(cellidsf,icells_unique)#,assume_unique=True)\n",
    "    vals = np.zeros([np.sum(in_common_cells),len(genesf)])\n",
    "    prev_vals = df[in_common_cells_f][:,igns]\n",
    "    vals[:,igns] = np.max([Mcts[in_common_cells],prev_vals],axis=0)\n",
    "    if np.sum(in_common_cells_f)>0:\n",
    "        df[in_common_cells_f] = np.max([vals,df[in_common_cells_f]],axis=0)\n",
    "    \n",
    "    #df[in_common_cells_f][:,igns] = np.max([df[in_common_cells_f][:,igns],Mcts[in_common_cells]],axis=0)\n",
    "    not_in_common_cells = ~in_common_cells\n",
    "    extra_df = np.zeros([np.sum(not_in_common_cells),len(genesf)])\n",
    "    extra_df[:,igns]=Mcts[not_in_common_cells]\n",
    "    df = np.concatenate([df,extra_df])\n",
    "    cellidsf+=list(icells_unique[not_in_common_cells])\n",
    "    "
   ]
  },
  {
   "cell_type": "markdown",
   "id": "1b496c5e",
   "metadata": {},
   "source": [
    "### Save dataframes"
   ]
  },
  {
   "cell_type": "code",
   "execution_count": 18,
   "id": "85d08c94",
   "metadata": {},
   "outputs": [
    {
     "name": "stdout",
     "output_type": "stream",
     "text": [
      "204771\n"
     ]
    }
   ],
   "source": [
    "\n",
    "print(len(cellidsf))\n",
    "dff = pd.DataFrame(df,columns=genesf,index=cellidsf)\n",
    "cell_df = np.array([dice_cells.get(cell,[0]*len(header_cells)) for cell in cellidsf])\n",
    "cell_df = pd.DataFrame(cell_df,columns=header_cells,index=cellidsf)\n",
    "dff.to_pickle(r'\\\\192.168.0.7\\bbfishmahsa3\\CGBB_embryo_4_28_2023\\DataFrames\\dff'+set_+'_0p5thV3.pkl')\n",
    "cell_df.to_pickle(r'\\\\192.168.0.7\\bbfishmahsa3\\CGBB_embryo_4_28_2023\\DataFrames\\cell_df'+set_+'_0p5thV3.pkl')"
   ]
  },
  {
   "cell_type": "code",
   "execution_count": null,
   "id": "b3faf2b9",
   "metadata": {},
   "outputs": [],
   "source": []
  },
  {
   "cell_type": "code",
   "execution_count": null,
   "id": "3e27cddf",
   "metadata": {},
   "outputs": [],
   "source": []
  },
  {
   "cell_type": "code",
   "execution_count": null,
   "id": "f372c007",
   "metadata": {},
   "outputs": [],
   "source": []
  },
  {
   "cell_type": "code",
   "execution_count": null,
   "id": "87a48446",
   "metadata": {},
   "outputs": [],
   "source": []
  },
  {
   "cell_type": "code",
   "execution_count": null,
   "id": "e5856522",
   "metadata": {},
   "outputs": [],
   "source": []
  },
  {
   "cell_type": "code",
   "execution_count": null,
   "id": "191c0fa1",
   "metadata": {},
   "outputs": [],
   "source": []
  },
  {
   "cell_type": "code",
   "execution_count": null,
   "id": "cedb89b8",
   "metadata": {},
   "outputs": [],
   "source": []
  },
  {
   "cell_type": "code",
   "execution_count": null,
   "id": "88ab6b37",
   "metadata": {},
   "outputs": [],
   "source": []
  },
  {
   "cell_type": "code",
   "execution_count": null,
   "id": "83eab3e4",
   "metadata": {},
   "outputs": [],
   "source": []
  },
  {
   "cell_type": "code",
   "execution_count": null,
   "id": "df668fc0",
   "metadata": {},
   "outputs": [],
   "source": []
  },
  {
   "cell_type": "code",
   "execution_count": null,
   "id": "c382eef6",
   "metadata": {},
   "outputs": [],
   "source": []
  },
  {
   "cell_type": "markdown",
   "id": "500f8bad",
   "metadata": {},
   "source": [
    "### Load and visiualize dataframes"
   ]
  },
  {
   "cell_type": "code",
   "execution_count": 9,
   "id": "a0acbbb1",
   "metadata": {},
   "outputs": [],
   "source": [
    "import sys\n",
    "sys.path.append(r'..//')\n",
    "from ioMicro import *\n",
    "import pandas as pd"
   ]
  },
  {
   "cell_type": "code",
   "execution_count": 10,
   "id": "44d1f36d",
   "metadata": {},
   "outputs": [],
   "source": [
    "dff = pd.read_pickle(r'\\\\192.168.0.7\\bbfishmahsa3\\CGBB_embryo_4_28_2023\\DataFrames\\dff_D16_0p5th.pkl')\n",
    "cell_df = pd.read_pickle(r'\\\\192.168.0.7\\bbfishmahsa3\\CGBB_embryo_4_28_2023\\DataFrames\\cell_df_D16_0p5th.pkl')"
   ]
  },
  {
   "cell_type": "code",
   "execution_count": 22,
   "id": "6e83e686",
   "metadata": {},
   "outputs": [],
   "source": [
    "def plot_gene_mosaic_cells(df,cell_df,gene,plt_fov=False,transpose=1,flipx=1,flipy=1,sz_min=1,sz_max=30,nmax=20,viewer=None):\n",
    "    cell_df_ = cell_df\n",
    "    xcells,ycells=cell_df_['x_um_abs'],cell_df_['y_um_abs']\n",
    "    Xcells = np.array([xcells*flipx,ycells*flipy][::transpose]).T\n",
    "    vols = cell_df_['volm']\n",
    "    \n",
    "    cts = np.array(df[gene])#Ptbp1_smFISH\n",
    "    cts[np.isnan(cts)]=0\n",
    "    cts = cts/vols*np.median(vols)\n",
    "    \n",
    "    ncts = np.clip(cts/nmax,0,1)\n",
    "    size = sz_min+ncts*(sz_max-sz_min)\n",
    "    from matplotlib import cm as cmap\n",
    "    cols = cmap.coolwarm(ncts)\n",
    "    import napari\n",
    "    good_cells = slice(None)\n",
    "    good_cells = np.argsort(cts)\n",
    "    names_cells = np.array(list(dff.index))[good_cells]\n",
    "    XC = -Xcells[good_cells,::-1]\n",
    "    if viewer is None:\n",
    "        viewer = napari.view_points(XC,size=size[good_cells],face_color=cols[good_cells],name=gene)\n",
    "    else:\n",
    "        viewer.add_points(XC,size=size[good_cells],face_color=cols[good_cells],name=gene)\n",
    "    if plt_fov:\n",
    "        #ifovs = np.array(list(df.index),dtype=int)//10**5\n",
    "        ifovs = [int(nm.split('_')[-2]) for nm in names_cells]\n",
    "        ifov_unk = np.unique(ifovs)\n",
    "        Xfov = np.array([np.mean(XC[ifovs==ifov],axis=0)for ifov in ifov_unk])\n",
    "        features =  {'fov':ifov_unk}\n",
    "        text = {\n",
    "            'string': '{fov:.0f}',\n",
    "            'size': 20,\n",
    "            'color': 'gray',\n",
    "            'translation': np.array([0, 0]),\n",
    "        }\n",
    "        viewer.add_points(Xfov,text=text,features=features,edge_width=0)\n",
    "    return viewer"
   ]
  },
  {
   "cell_type": "code",
   "execution_count": 23,
   "id": "c61dff08",
   "metadata": {},
   "outputs": [],
   "source": [
    "svfld =r'\\\\192.168.0.7\\bbfishmahsa3\\CGBB_embryo_4_28_2023\\images'\n",
    "if not os.path.exists(svfld): os.makedirs(svfld)\n",
    "gene = 'Sox4'\n",
    "#for gene in ['Malat1', 'H19', 'Col1a1', 'Dpysl3', 'Meg3', 'Ptprs', 'Mapt', 'Dpysl2', 'Gnb1', 'Ywhae', 'Col3a1', 'Sox4', 'Nfix', 'Serpinh1', 'Sparc', 'Agt', 'Nedd4', 'Nnat', 'Ina', 'Xist', 'Uchl1', 'Islr2', 'Igfbpl1', 'Elavl3', 'Sdc3', 'Rab6b', 'Gpm6a', 'Cntf', 'Ndn', 'Csdc2']:\n",
    "viewer = plot_gene_mosaic_cells(dff,cell_df,gene,plt_fov=False,transpose=1,flipx=1,flipy=1,sz_min=5,sz_max=10,nmax=20)\n",
    "if False:\n",
    "    im = viewer.screenshot(size=(5000,5000))\n",
    "    viewer.close()\n",
    "    cv2.imwrite(svfld+os.sep+gene+'_D14.png',im[:,:,[2,1,0,3]])"
   ]
  },
  {
   "cell_type": "code",
   "execution_count": null,
   "id": "5bb720e7",
   "metadata": {},
   "outputs": [],
   "source": []
  },
  {
   "cell_type": "code",
   "execution_count": null,
   "id": "27fb5418",
   "metadata": {},
   "outputs": [],
   "source": []
  },
  {
   "cell_type": "code",
   "execution_count": 26,
   "id": "b36d658d",
   "metadata": {},
   "outputs": [],
   "source": [
    "svfld =r'\\\\192.168.0.7\\bbfishmahsa3\\CGBB_embryo_4_28_2023\\images'\n",
    "#gene = 'Aif1'\n",
    "#viewer = plot_gene_mosaic_cells(dff,cell_df,gene,plt_fov=False,transpose=1,flipx=1,flipy=1,sz_min=1,sz_max=30,nmax=20);\n",
    "gene = 'P2ry12'\n",
    "viewer = plot_gene_mosaic_cells(dff,cell_df,gene,plt_fov=False,transpose=1,flipx=1,flipy=1,sz_min=5,sz_max=10,nmax=10)\n",
    "gene = 'Csf1r'\n",
    "viewer = plot_gene_mosaic_cells(dff,cell_df,gene,plt_fov=False,transpose=1,flipx=1,flipy=1,sz_min=5,sz_max=10,nmax=20,viewer=viewer)\n",
    "#gene = 'Tmem119'\n",
    "#viewer = plot_gene_mosaic_cells(dff,cell_df,gene,plt_fov=False,transpose=1,flipx=1,flipy=1,sz_min=5,sz_max=10,nmax=20,viewer=viewer)\n",
    "#gene = 'Cx3cr1'\n",
    "#viewer = plot_gene_mosaic_cells(dff,cell_df,gene,plt_fov=False,transpose=1,flipx=1,flipy=1,sz_min=5,sz_max=10,nmax=20,viewer=viewer)\n",
    "if False:\n",
    "    im = viewer.screenshot(size=(5000,5000))\n",
    "    viewer.close()\n",
    "    cv2.imwrite(svfld+os.sep+gene+'_D16.png',im[:,:,[2,1,0,3]])"
   ]
  },
  {
   "cell_type": "code",
   "execution_count": 24,
   "id": "039d3d49",
   "metadata": {},
   "outputs": [
    {
     "name": "stdout",
     "output_type": "stream",
     "text": [
      "['1110008P14Rik', '1500015O10Rik', '1810041L15Rik', '2310069B03Rik', '2610528A11Rik', '2900055J20Rik', '3110035E14Rik', '4833407H14Rik', '4930570B17Rik', '6330403K07Rik', '9630013A20Rik', 'A1cf', 'A230050P20Rik', 'A830009L08Rik', 'A930003A15Rik', 'Abca8a', 'Abcb1b', 'Abcb4', 'Abcg1', 'Abhd15', 'Abhd2', 'Abi3', 'Abi3bp', 'Acer3', 'Ache', 'Acsl3', 'Acta2', 'Actg1', 'Adamts1', 'Adamts5', 'Adamts9', 'Adamtsl4', 'Adarb2', 'Adcy1', 'Adcy2', 'Adcyap1', 'Adgra2', 'Adgrd1', 'Adgre1', 'Adgrl3', 'Adh1', 'Adora2a', 'Adora3', 'Afap1l2', 'Afp', 'Agpat2', 'Agrp', 'Agt', 'Ahcyl2', 'Ahi1', 'Ahnak', 'Aif1', 'Aif1l', 'Akain1', 'Alas2', 'Alb', 'Aldh1a1', 'Aldh1a2', 'Aldh1a7', 'Aldh1l1', 'Aldoa', 'Aldoc', 'Alox12', 'Alox5ap', 'Alx1', 'Alyref', 'Ambra1', 'Amd2', 'Amot', 'Amz1', 'Angpt1', 'Ank2', 'Ankk1', 'Ankrd11', 'Anks6', 'Anln', 'Anp32e', 'Anxa2', 'Anxa5', 'Aoah', 'Ap3s1', 'Apln', 'Apoa1', 'Apoa2', 'Apoc2', 'Apod', 'Apoe', 'Apoo', 'Aqp1', 'Aqp2', 'Aqp3', 'Aqp4', 'Aqp8', 'Arg1', 'Arhgap10', 'Arhgap27', 'Arhgap36', 'Arhgap45', 'Arhgap6', 'Arhgef40', 'Arl5c', 'Arpc1b', 'Arpc5', 'Arpp21', 'Arsb', 'Artn', 'Arx', 'Asap3', 'Asb10', 'Asb13', 'Asb2', 'Asb4', 'Asb9', 'Ascl1', 'Ascl2', 'Atad2', 'Atf3', 'Atp10b', 'Atp1a2', 'Atp1b1', 'Atp2a1', 'Atp2b4', 'Atxn1', 'Aurka', 'Aurkb', 'Auts2', 'Avp', 'Axl', 'B3galt5', 'B3gat2', 'B3gnt7', 'B4galnt1', 'B4galt5', 'B630019A10Rik', 'B630019K06Rik', 'BC030343', 'Baiap2', 'Baiap2l2', 'Baiap3', 'Barhl1', 'Batf3', 'Baz1a', 'Bcl11b', 'Bcl2', 'Bcl2a1b', 'Bcl3', 'Bcl6', 'Bdnf', 'Bend6', 'Bgn', 'Bhlhe22', 'Bhlhe41', 'Bin2', 'Birc5', 'Blm', 'Blnk', 'Bmf', 'Bmp2', 'Bmp4', 'Bmpr1a', 'Bmx', 'Bok', 'Bricd5', 'Brinp3', 'Brip1', 'Bsg', 'Bsn', 'Btbd11', 'Btg1', 'Btg2', 'Btnl10', 'Bub1', 'C1qa', 'C1qb', 'C1qc', 'C1ql1', 'C1ql2', 'C1ql3', 'C1qtnf4', 'C2', 'C2cd4b', 'C3ar1', 'C6', 'Cabs1', 'Cacna1d', 'Cacna2d2', 'Cacnb2', 'Cadps2', 'Calb1', 'Calb2', 'Cald1', 'Camk1d', 'Camk2a', 'Camk2b', 'Camk2d', 'Camk2n1', 'Camk4', 'Camp', 'Capg', 'Capn2', 'Capn3', 'Car10', 'Car13', 'Car2', 'Car3', 'Car4', 'Car8', 'Carhsp1', 'Cartpt', 'Casp3', 'Casp8ap2', 'Casp9', 'Cbfa2t3', 'Cbln1', 'Cbln2', 'Cbln3', 'Cbln4', 'Cbr2', 'Cbs', 'Cbx5', 'Ccdc153', 'Cck', 'Cckbr', 'Ccl11', 'Ccl12', 'Ccl2', 'Ccl24', 'Ccl3', 'Ccl4', 'Ccl6', 'Ccl7', 'Ccl9', 'Ccna2', 'Ccnb1', 'Ccnb2', 'Ccnd1', 'Ccnd2', 'Ccne1', 'Ccne2', 'Ccno', 'Ccp110', 'Ccr1', 'Ccr2', 'Ccr5', 'Ccsap', 'Cd109', 'Cd14', 'Cd163', 'Cd180', 'Cd200r1', 'Cd22', 'Cd226', 'Cd24a', 'Cd27', 'Cd28', 'Cd33', 'Cd34', 'Cd36', 'Cd38', 'Cd40', 'Cd44', 'Cd52', 'Cd68', 'Cd74', 'Cd81', 'Cd82', 'Cd83', 'Cd86', 'Cd9', 'Cdc20', 'Cdc20b', 'Cdc25c', 'Cdc45', 'Cdc6', 'Cdca2', 'Cdca3', 'Cdca7', 'Cdca8', 'Cdcp1', 'Cdh1', 'Cdh12', 'Cdh13', 'Cdh18', 'Cdh19', 'Cdh2', 'Cdh23', 'Cdh7', 'Cdh8', 'Cdh9', 'Cdhr1', 'Cdk1', 'Cdk2', 'Cdk2ap1', 'Cdk4', 'Cdk5r1', 'Cdk6', 'Cdkn1a', 'Cdkn1c', 'Cdkn2c', 'Cdo1', 'Cdon', 'Cdx1', 'Cdx4', 'Cenpa', 'Cenpe', 'Cenpf', 'Cenph', 'Cenpm', 'Cenpu', 'Cer1', 'Ces2g', 'Cfap100', 'Cfap58', 'Cfb', 'Chaf1b', 'Chat', 'Chdh', 'Chek1', 'Chek2', 'Chgb', 'Chn1', 'Chn2', 'Chodl', 'Chrdl1', 'Chrna2', 'Chrna3', 'Chrna6', 'Chrnb1', 'Chst1', 'Chst11', 'Chst8', 'Cidea', 'Cirbp', 'Cited1', 'Cited4', 'Ckap2', 'Ckap2l', 'Ckap5', 'Cks1b', 'Cks2', 'Clasp1', 'Clcf1', 'Cldn10', 'Cldn11', 'Cldn3', 'Cldn5', 'Clec10a', 'Clec12a', 'Clec4a1', 'Clec4a3', 'Clic5', 'Clip2', 'Clk4', 'Clspn', 'Clu', 'Cmah', 'Cmtm5', 'Cnksr3', 'Cnp', 'Cnpy1', 'Cnr1', 'Cntf', 'Cntn5', 'Cntnap2', 'Cntnap5a', 'Cntnap5b', 'Col11a1', 'Col12a1', 'Col15a1', 'Col19a1', 'Col1a1', 'Col1a2', 'Col20a1', 'Col25a1', 'Col27a1', 'Col28a1', 'Col2a1', 'Col3a1', 'Col6a6', 'Col9a1', 'Colec10', 'Colec12', 'Comp', 'Coro1a', 'Coro6', 'Cort', 'Cox4i2', 'Cox6a1', 'Cox6a2', 'Cpa2', 'Cplx1', 'Cplx2', 'Cplx3', 'Cpne4', 'Cpne6', 'Cpxm2', 'Crabp1', 'Crabp2', 'Creb5', 'Crh', 'Crhbp', 'Crip1', 'Crip2', 'Crispld1', 'Crispld2', 'Crtap', 'Cryaa', 'Cryab', 'Cryba1', 'Cryba2', 'Cryba4', 'Crybb1', 'Crybb3', 'Crym', 'Csdc2', 'Csf1', 'Csf1r', 'Csf2rb2', 'Csmd1', 'Cspg4', 'Cspg5', 'Csrp2', 'Cst3', 'Cst7', 'Cstad', 'Ctcf', 'Ctif', 'Ctla2a', 'Ctnna3', 'Ctps', 'Ctsc', 'Ctsh', 'Ctsl', 'Ctss', 'Cttnbp2', 'Ctxn3', 'Cux1', 'Cux2', 'Cx3cr1', 'Cxcl10', 'Cxcl12', 'Cxcl14', 'Cxcl16', 'Cxcl2', 'Cxcr2', 'Cxcr4', 'Cygb', 'Cyp26b1', 'Cyp2j7', 'Cyp4f18', 'Cyr61', 'Dab1', 'Dab2', 'Dact1', 'Dapk2', 'Dbh', 'Dbi', 'Dbp', 'Dbpht2', 'Dcc', 'Dcn', 'Dcx', 'Ddah1', 'Ddah2', 'Ddc', 'Ddit4l', 'Ddn', 'Ddx3y', 'Ddx5', 'Deptor', 'Deup1', 'Dgat2', 'Dgcr6', 'Dgkb', 'Dgkh', 'Dgkk', 'Dio2', 'Diras1', 'Dkk3', 'Dkkl1', 'Dlg4', 'Dlgap5', 'Dlk1', 'Dll1', 'Dll3', 'Dll4', 'Dlx1', 'Dlx1as', 'Dlx2', 'Dlx5', 'Dlx6', 'Dlx6os1', 'Dmbx1', 'Dmrt3', 'Dmrtb1', 'Dmtn', 'Dnah11', 'Dnajc27', 'Dnajc28', 'Dnmt3b', 'Doc2g', 'Dock11', 'Dock2', 'Dok2', 'Dpep1', 'Dpp10', 'Dpysl2', 'Dpysl3', 'Draxin', 'Drd1', 'Drd2', 'Dscc1', 'Dsp', 'Dst', 'Dtl', 'Dtx4', 'Duox2', 'Dusp1', 'Dynlrb2', 'E2f1', 'E2f8', 'Ebf1', 'Ebf3', 'Ece1', 'Ecel1', 'Ecscr', 'Ect2', 'Ednra', 'Ednrb', 'Efna5', 'Efnb1', 'Efr3a', 'Egfem1', 'Egfl7', 'Egln3', 'Egr1', 'Ehd1', 'Ehf', 'Eif2s3y', 'Eif4a2', 'Elavl2', 'Elavl3', 'Elavl4', 'Elfn1', 'Eln', 'Elovl5', 'Emb', 'Emcn', 'Eml5', 'Emp1', 'Emx1', 'Emx2', 'En1', 'En2', 'Enc1', 'Endod1', 'Eno1', 'Enpp2', 'Enpp4', 'Eomes', 'Epas1', 'Epcam', 'Epha2', 'Epha7', 'Ephb3', 'Ephx1', 'Epn2', 'Eps8', 'Epsti1', 'Erbb4', 'Erg', 'Ern2', 'Esco2', 'Espn', 'Esrrg', 'Etnppl', 'Ets1', 'Etv1', 'Etv2', 'Etv4', 'Eva1a', 'Eva1b', 'Evx1os', 'Exo1', 'Ezr', 'F11r', 'F13a1', 'F2r', 'F3', 'Fabp5', 'Fam107a', 'Fam107b', 'Fam111a', 'Fam129b', 'Fam131a', 'Fam151a', 'Fam163b', 'Fam184a', 'Fam198a', 'Fam19a1', 'Fam20c', 'Fam210b', 'Fam214a', 'Fam217b', 'Fam227b', 'Fam43a', 'Fam46c', 'Fam83e', 'Fbll1', 'Fbln2', 'Fbxl3', 'Fbxl7', 'Fbxo2', 'Fcgr1', 'Fcgr2b', 'Fcgr4', 'Fcmr', 'Fcna', 'Fcrls', 'Fen1', 'Fev', 'Fezf1', 'Fezf2', 'Fgf10', 'Fgf15', 'Fgf17', 'Fgf3', 'Fgf6', 'Fgf8', 'Fgfr1', 'Fhl3', 'Fhod1', 'Fibcd1', 'Fibin', 'Fign', 'Fjx1', 'Fkbp1b', 'Flt1', 'Flt3', 'Fmnl3', 'Fmod', 'Fn1', 'Folr1', 'Folr2', 'Fos', 'Fosb', 'Foxa1', 'Foxa2', 'Foxb1', 'Foxc1', 'Foxc2', 'Foxf2', 'Foxg1', 'Foxj1', 'Foxj2', 'Foxm1', 'Foxo1', 'Foxp1', 'Foxp2', 'Fpr1', 'Fpr2', 'Fras1', 'Frmd4a', 'Fryl', 'Frzb', 'Fst', 'Fut9', 'Fxyd5', 'Fxyd6', 'Fxyd7', 'Fyb', 'Fyn', 'Fzd10', 'Fzd4', 'Fzd6', 'G2e3', 'Gabbr1', 'Gabbr2', 'Gabra1', 'Gabra2', 'Gabra5', 'Gabra6', 'Gabrg1', 'Gad1', 'Gad2', 'Gadd45g', 'Gal', 'Gal3st4', 'Galnt14', 'Galntl6', 'Garnl3', 'Gas1', 'Gas2l3', 'Gata1', 'Gata2', 'Gata3', 'Gatm', 'Gbx2', 'Gch1', 'Gchfr', 'Gcnt1', 'Gda', 'Gdf10', 'Gdf3', 'Gemin4', 'Gfap', 'Gimap1', 'Gimap4', 'Gins1', 'Gins2', 'Gja1', 'Gja8', 'Gli1', 'Glis1', 'Glra1', 'Gls', 'Gltp', 'Glul', 'Gm10076', 'Gm11627', 'Gm12216', 'Gm13102', 'Gm13205', 'Gm14434', 'Gm17750', 'Gm17767', 'Gm2026', 'Gm20605', 'Gm2694', 'Gm28050', 'Gm28268', 'Gm32647', 'Gm34304', 'Gm3764', 'Gm42397', 'Gm43055', 'Gm49164', 'Gm5083', 'Gm6277', 'Gm996', 'Gmnc', 'Gmnn', 'Gnb1', 'Gng4', 'Gng8', 'Golm1', 'Gp1ba', 'Gp5', 'Gp9', 'Gpc2', 'Gpc3', 'Gpc4', 'Gpc5', 'Gpd1', 'Gpm6a', 'Gpnmb', 'Gpr101', 'Gpr143', 'Gpr17', 'Gpr183', 'Gpr37l1', 'Gpr84', 'Gpr88', 'Gprasp1', 'Gprc5c', 'Gpsm1', 'Gpx1', 'Gpx2', 'Gpx3', 'Gramd3', 'Grb14', 'Grem2', 'Grhl2', 'Gria1', 'Grik1', 'Grin1', 'Grin2b', 'Grin2c', 'Grin3a', 'Gripap1', 'Grm2', 'Grp', 'Grsf1', 'Gsdmd', 'Gstm1', 'Gsx1', 'Gtse1', 'H19', 'H1f0', 'H1fx', 'H2-Aa', 'H2-DMa', 'H2-Eb1', 'H2afv', 'H2afz', 'H3f3a', 'Hand1', 'Hand2', 'Hap1', 'Hapln1', 'Hapln2', 'Hat1', 'Havcr2', 'Hba-a2', 'Hbegf', 'Hc', 'Hck', 'Hcn4', 'Hcrt', 'Hdac10', 'Hdac11', 'Hdac7', 'Hdac8', 'Hells', 'Hemgn', 'Hes1', 'Hes5', 'Hes6', 'Hexb', 'Hhip', 'Hif3a', 'Higd1b', 'Hist1h1b', 'Hist1h1e', 'Hivep1', 'Hjurp', 'Hk2', 'Hmga2', 'Hmgb1', 'Hmgb2', 'Hmgb3', 'Hmgcs1', 'Hmgn1', 'Hmgn2', 'Hmgn3', 'Hmmr', 'Hmox1', 'Hnrnpa2b1', 'Hoga1', 'Hopx', 'Hottip', 'Hoxa1', 'Hoxa13', 'Hoxa5', 'Hoxb1', 'Hoxb5', 'Hoxb8', 'Hp', 'Hpca', 'Hpcal1', 'Hpse', 'Hs3st1', 'Hs3st2', 'Hs3st4', 'Hs6st3', 'Hsd3b6', 'Hspb8', 'Hspd1', 'Htr1a', 'Htr2c', 'Htr3a', 'Htra1', 'Htt', 'Ibsp', 'Icam4', 'Icam5', 'Icmt', 'Icosl', 'Id1', 'Id2', 'Id3', 'Id4', 'Ide', 'Ifi204', 'Ifi27', 'Ifi27l2a', 'Ifit3', 'Ifitm2', 'Ifitm3', 'Igf1', 'Igf2', 'Igfbp2', 'Igfbp4', 'Igfbp5', 'Igfbp6', 'Igfbp7', 'Igfbpl1', 'Ighm', 'Igsf1', 'Igsf8', 'Igtp', 'Il10ra', 'Il11ra1', 'Il16', 'Il17b', 'Il1a', 'Il1b', 'Il1r2', 'Il1rapl2', 'Il21r', 'Il23a', 'Il34', 'Il6', 'Ildr2', 'Ina', 'Inhba', 'Inmt', 'Inpp4b', 'Inpp5j', 'Insc', 'Insm1', 'Ipcef1', 'Iqgap2', 'Iqub', 'Irak4', 'Irf3', 'Irf7', 'Irf8', 'Irs4', 'Irx2', 'Irx3', 'Irx4', 'Isg15', 'Isl1', 'Islr', 'Islr2', 'Itga11', 'Itga2b', 'Itgal', 'Itgam', 'Itgax', 'Itgb1', 'Itgb3', 'Itgb5', 'Itih2', 'Itih5', 'Itm2a', 'Itpr1', 'Itpr2', 'Itsn1', 'Ivns1abp', 'Iyd', 'Jade2', 'Jakmip1', 'Jam2', 'Jph2', 'Jun', 'Junb', 'Kank4', 'Kcnab1', 'Kcnab3', 'Kcnc2', 'Kcnc3', 'Kcnd2', 'Kcne2', 'Kcnf1', 'Kcng1', 'Kcng4', 'Kcnh6', 'Kcnip2', 'Kcnip3', 'Kcnj6', 'Kcnj8', 'Kcnk12', 'Kcnk13', 'Kcnk2', 'Kcnmb2', 'Kcnq5', 'Kctd12', 'Kctd2', 'Kdr', 'Kel', 'Khdrbs3', 'Kif11', 'Kif20b', 'Kif23', 'Kif2c', 'Kif4', 'Kirrel3', 'Kit', 'Kl', 'Klf2', 'Klf4', 'Klf6', 'Klf9', 'Klhdc8b', 'Klhl14', 'Klhl4', 'Klhl6', 'Klk14', 'Klk6', 'Klra4', 'Kng1', 'Kng2', 'Knl1', 'Krt12', 'Krt18', 'Krt2', 'Krt73', 'Lair1', 'Lamc1', 'Lamc3', 'Lamp1', 'Lamp5', 'Laptm5', 'Lbr', 'Lcn2', 'Lcp2', 'Ldb2', 'Ldha', 'Ldhb', 'Lef1', 'Lefty1', 'Lgals1', 'Lgals3', 'Lgi2', 'Lgmn', 'Lhfpl1', 'Lhfpl2', 'Lhfpl3', 'Lhx1os', 'Lhx2', 'Lhx3', 'Lhx4', 'Lhx5', 'Lhx6', 'Lhx8', 'Lhx9', 'Lifr', 'Lims2', 'Lix1', 'Llgl1', 'Lmo1', 'Lmo2', 'Lmo3', 'Lmo4', 'Lmod1', 'Lmx1a', 'Lmx1b', 'Lockd', 'Lonrf3', 'Lpar1', 'Lpcat2', 'Lpl', 'Lrp1b', 'Lrp2', 'Lrp5', 'Lrp6', 'Lrrtm4', 'Lrtm1', 'Lsamp', 'Lsp1', 'Lsr', 'Ltc4s', 'Ltf', 'Lum', 'Lxn', 'Ly6c1', 'Ly6g6e', 'Ly6h', 'Ly86', 'Lyar', 'Lynx1', 'Lypd1', 'Lypd6', 'Lysmd4', 'Lyve1', 'Lyz2', 'Lzts1', 'Mab21l1', 'Maf', 'Mafa', 'Mag', 'Magi1', 'Mal', 'Malat1', 'Maob', 'Map2', 'Map3k15', 'Map3k9', 'Mapk4', 'Mapk8ip1', 'Mapt', 'Marcks', 'Mast4', 'Matn4', 'Mbp', 'Mcidas', 'Mcm2', 'Mcm3', 'Mcm4', 'Mcm5', 'Mcm6', 'Mcm7', 'Mcu', 'Mdk', 'Mef2c', 'Meg3', 'Meis1', 'Meis2', 'Meox1', 'Meox2', 'Mertk', 'Mesp1', 'Mest', 'Metrn', 'Metrnl', 'Mex3b', 'Mfap4', 'Mfge8', 'Mfng', 'Mfsd2a', 'Mfsd4a', 'Mgat4c', 'Mgl2', 'Mgll', 'Mgp', 'Mia', 'Miat', 'Mif', 'Mis18bp1', 'Mixl1', 'Mki67', 'Mlc1', 'Mlf1', 'Mllt11', 'Mlxipl', 'Mme', 'Mmp14', 'Mmp9', 'Mmrn2', 'Mn1', 'Mobp', 'Mog', 'Mpeg1', 'Mpz', 'Mrc1', 'Mrc2', 'Ms4a6b', 'Ms4a6c', 'Ms4a6d', 'Ms4a7', 'Msh2', 'Msh4', 'Msr1', 'Msx1', 'Msx3', 'Mt1', 'Mt2', 'Mt3', 'Mtdh', 'Mtrf1', 'Mtss1', 'Mxd3', 'Myadml2', 'Myb', 'Mybl1', 'Mybl2', 'Mybpc3', 'Myc', 'Mycbp2', 'Mycl', 'Myf5', 'Myh3', 'Myh6', 'Myl2', 'Myl3', 'Myl4', 'Myl7', 'Myl9', 'Mylk', 'Mylk4', 'Myo18b', 'Myo1e', 'Myo5b', 'Myoc', 'Myocd', 'Myod1', 'Myom3', 'Nab2', 'Naca', 'Nap1l3', 'Nap1l5', 'Nasp', 'Nat8f6', 'Nav2', 'Nbl1', 'Ncald', 'Ncan', 'Ncapd2', 'Ncdn', 'Nckap1l', 'Nckap5', 'Nckap5l', 'Ncs1', 'Ndc80', 'Ndn', 'Ndnf', 'Ndp', 'Ndrg4', 'Ndst4', 'Ndufa4', 'Ndufa4l2', 'Neb', 'Necab1', 'Necab2', 'Necab3', 'Nectin3', 'Nedd4', 'Nefh', 'Nefl', 'Nefm', 'Negr1', 'Nek2', 'Nell1', 'Nes', 'Neto1', 'Neu4', 'Neurl3', 'Neurl4', 'Neurod1', 'Neurod2', 'Neurod4', 'Neurod6', 'Neurog1', 'Neurog2', 'Nfia', 'Nfib', 'Nfix', 'Nfxl1', 'Ngb', 'Ngef', 'Ngp', 'Nhlh2', 'Nin', 'Nkain2', 'Nkain4', 'Nkx2-1', 'Nkx2-4', 'Nkx6-3', 'Nmb', 'Nmbr', 'Nme1', 'Nme5', 'Nmu', 'Nmur2', 'Nnat', 'Nog', 'Nos1', 'Nos2', 'Notch1', 'Notch3', 'Nov', 'Npas1', 'Npas3', 'Npb', 'Npff', 'Nphs1', 'Npm1', 'Npnt', 'Nppa', 'Nppc', 'Npsr1', 'Nptx1', 'Nptxr', 'Npy', 'Npy2r', 'Nr1h3', 'Nr1h5', 'Nr2f1', 'Nr2f2', 'Nr3c2', 'Nr4a1', 'Nr4a2', 'Nrep', 'Nrg3', 'Nrgn', 'Nrn1', 'Nrp1', 'Nrp2', 'Nrsn1', 'Nrxn3', 'Ntf3', 'Ntn1', 'Ntng1', 'Ntrk2', 'Nts', 'Ntsr2', 'Nuf2', 'Nupr1', 'Nusap1', 'Nxph1', 'Nxph3', 'Nxph4', 'Oas1a', 'Oas1g', 'Oas2', 'Oasl2', 'Oaz1', 'Oc90', 'Ocln', 'Odc1', 'Odf3b', 'Ogt', 'Olfml3', 'Olig1', 'Olig2', 'Olig3', 'Olr1', 'Omd', 'Omg', 'Opalin', 'Opcml', 'Orm2', 'Orm3', 'Osm', 'Osr1', 'Otp', 'Otx2', 'Oxt', 'P2rx1', 'P2ry12', 'P2ry13', 'Pabpc1', 'Pabpc2', 'Pacsin1', 'Padi2', 'Pald1', 'Pam', 'Pantr1', 'Panx3', 'Parvg', 'Pax2', 'Pax3', 'Pax5', 'Pax6', 'Pax7', 'Pax8', 'Pax9', 'Pbx1', 'Pbxip1', 'Pcbd2', 'Pcbp3', 'Pcbp4', 'Pcdh11x', 'Pcdh17', 'Pcdh19', 'Pcdh20', 'Pcdhga1', 'Pcgf2', 'Pclaf', 'Pcna', 'Pcp2', 'Pcp4', 'Pcp4l1', 'Pde10a', 'Pde1a', 'Pde6g', 'Pde7b', 'Pdgfa', 'Pdgfb', 'Pdgfra', 'Pdgfrb', 'Pdhb', 'Pdk4', 'Pdlim1', 'Pdlim4', 'Pdlim5', 'Pdyn', 'Pdzrn4', 'Pecam1', 'Peg10', 'Penk', 'Pex5l', 'Pfkm', 'Pfn1', 'Pgls', 'Pglyrp1', 'Pgr', 'Phactr2', 'Phf1', 'Phf11b', 'Phgdh', 'Phlda2', 'Phyhd1', 'Pias4', 'Pifo', 'Pik3c2g', 'Pim2', 'Pipox', 'Pkd2l1', 'Pkib', 'Pkm', 'Pla2g2e', 'Pla2g7', 'Plac8', 'Plau', 'Plb1', 'Plcb4', 'Plch1', 'Plcl1', 'Pld4', 'Plec', 'Plekha1', 'Plekha2', 'Plekhg1', 'Plg', 'Plin2', 'Plk1', 'Plk3', 'Pllp', 'Plp1', 'Plp2', 'Plpp3', 'Plppr4', 'Pltp', 'Plxdc1', 'Plxdc2', 'Plxna1', 'Plxna4', 'Plxnb3', 'Pmch', 'Pmel', 'Pmepa1', 'Pmp22', 'Pnmt', 'Pnoc', 'Pnrc1', 'Pola1', 'Pold3', 'Pomc', 'Postn', 'Pot1b', 'Pou3f1', 'Pou3f2', 'Pou4f1', 'Ppbp', 'Ppfia2', 'Ppfia4', 'Ppm1l', 'Ppp1r14b', 'Ppp1r1a', 'Ppp1r1b', 'Ppp1r1c', 'Ppp1r3g', 'Ppp2r2b', 'Ppp3ca', 'Pramel4', 'Prc1', 'Prdx2', 'Prdx5', 'Prex2', 'Prickle2', 'Prim1', 'Prima1', 'Prkce', 'Prkcg', 'Prkg1', 'Prlr', 'Prmt8', 'Prok2', 'Prom1', 'Prox1', 'Prph', 'Prrx1', 'Prss12', 'Prss56', 'Prtg', 'Psap', 'Psmb7', 'Psme1', 'Psrc1', 'Ptbp1', 'Ptbp2', 'Ptger1', 'Ptgs1', 'Pth2r', 'Pthlh', 'Ptk2b', 'Ptma', 'Ptn', 'Ptprb', 'Ptprc', 'Ptprd', 'Ptprj', 'Ptpro', 'Ptprr', 'Ptprs', 'Ptprz1', 'Ptx3', 'Pura', 'Pvalb', 'Qk', 'Qpct', 'Qrfpr', 'Rab33b', 'Rab39', 'Rab3b', 'Rab3c', 'Rab3ip', 'Rab6b', 'Rac3', 'Rad51', 'Rad51ap1', 'Ramp3', 'Ran', 'Ranbp1', 'Ranbp3l', 'Rangap1', 'Rapgef5', 'Rasa4', 'Rasal3', 'Rasd1', 'Rasgef1b', 'Rasgef1c', 'Rasgrf2', 'Rasgrp1', 'Rasl10a', 'Rasl11a', 'Rbfox3', 'Rbm24', 'Rbm3', 'Rbm8a', 'Rbms3', 'Rbp1', 'Reck', 'Reep5', 'Reg3g', 'Relb', 'Rell1', 'Reln', 'Rem2', 'Reps2', 'Resp18', 'Rest', 'Ret', 'Rexo2', 'Rfc2', 'Rfx3', 'Rgcc', 'Rgl3', 'Rgma', 'Rgs1', 'Rgs10', 'Rgs12', 'Rgs14', 'Rgs16', 'Rgs2', 'Rgs4', 'Rgs5', 'Rhcg', 'Rhoh', 'Rhov', 'Riiad1', 'Rims4', 'Rlbp1', 'Rln1', 'Rln3', 'Rnase1', 'Rnasel', 'Rnd2', 'Rnf121', 'Rnf122', 'Rnf152', 'Rnf182', 'Robo1', 'Ror1', 'Rora', 'Rorb', 'Rp1', 'Rpa2', 'Rpl10a', 'Rpl12', 'Rpl18', 'Rpl26', 'Rpl29', 'Rpl35', 'Rpl38', 'Rpl5', 'Rpl7a', 'Rpp25', 'Rprm', 'Rps19', 'Rps20', 'Rpsa', 'Rras2', 'Rrm1', 'Rrm2', 'Rsph4a', 'Rspo1', 'Rspo3', 'Rtbdn', 'Rtkn', 'Rtn1', 'Rtn4', 'Rtn4rl1', 'Rtp4', 'Runx1', 'Runx1t1', 'Runx2', 'Runx3', 'Rwdd3', 'Rxfp1', 'Ryr2', 'S100a1', 'S100a10', 'S100a8', 'S100a9', 'S100b', 'S1pr1', 'S1pr3', 'Sag', 'Sall1', 'Sall3', 'Samd4', 'Sap25', 'Sap30bpos', 'Sapcd1', 'Sash1', 'Satb1', 'Satb2', 'Scd2', 'Scg2', 'Scn10a', 'Scn9a', 'Scrg1', 'Scube1', 'Scube2', 'Sdc3', 'Sdc4', 'Sdk1', 'Sdk2', 'Sec14l2', 'Selenbp1', 'Selenop', 'Sell', 'Selplg', 'Sema3a', 'Sema3c', 'Sema3d', 'Sema3e', 'Sema3g', 'Sema4g', 'Sema6d', 'Sept4', 'Serinc5', 'Serpinb6a', 'Serpinb8', 'Serpine2', 'Serpinf1', 'Serping1', 'Serpinh1', 'Sfrp1', 'Sfrp2', 'Sgcd', 'Sgcz', 'Sgk1', 'Sh2d3c', 'Shh', 'Shisa8', 'Shox2', 'Siglece', 'Siglech', 'Sin3a', 'Sirt2', 'Six3', 'Ska1', 'Sla2', 'Slain1os', 'Slamf9', 'Slbp', 'Slc10a4', 'Slc12a2', 'Slc12a5', 'Slc12a7', 'Slc13a4', 'Slc16a1', 'Slc17a6', 'Slc17a7', 'Slc17a8', 'Slc18a2', 'Slc18a3', 'Slc1a1', 'Slc1a2', 'Slc1a3', 'Slc1a6', 'Slc22a3', 'Slc22a6', 'Slc22a8', 'Slc24a3', 'Slc25a18', 'Slc25a24', 'Slc25a4', 'Slc25a5', 'Slc2a1', 'Slc2a3', 'Slc2a5', 'Slc2a8', 'Slc30a3', 'Slc32a1', 'Slc38a5', 'Slc38a8', 'Slc39a4', 'Slc40a1', 'Slc43a1', 'Slc44a2', 'Slc44a3', 'Slc45a2', 'Slc47a1', 'Slc4a1', 'Slc4a4', 'Slc5a7', 'Slc6a1', 'Slc6a11', 'Slc6a13', 'Slc6a2', 'Slc6a20a', 'Slc6a3', 'Slc6a4', 'Slc6a5', 'Slc6a9', 'Slc7a10', 'Slc7a3', 'Slc7a5', 'Slc9a1', 'Slc9a2', 'Slco1a1', 'Slco1c1', 'Slco4a1', 'Slfn5', 'Slfn8', 'Slit1', 'Slit2', 'Slit3', 'Slitrk6', 'Sln', 'Slpi', 'Smad3', 'Smad4', 'Smad7', 'Smarca4', 'Smc2', 'Smc4', 'Smim17', 'Smim3', 'Smo', 'Smoc1', 'Smpd1', 'Snai1', 'Snap25', 'Snca', 'Sncg', 'Snhg11', 'Snhg18', 'Snph', 'Snrpg', 'Snx32', 'Sorcs1', 'Sorcs3', 'Sost', 'Sostdc1', 'Sowahc', 'Sox1', 'Sox10', 'Sox11', 'Sox14', 'Sox17', 'Sox2', 'Sox3', 'Sox4', 'Sox5', 'Sox6', 'Sox9', 'Sp9', 'Spag5', 'Sparc', 'Spata13', 'Sphkap', 'Spi1', 'Spink8', 'Spint1', 'Spns2', 'Spock1', 'Spp1', 'Spp2', 'Sprr2a2', 'Sprr2b', 'Spry1', 'Spsb1', 'Spsb4', 'Src', 'Srpk3', 'Srsf2', 'Ssbp2', 'Sspo', 'Sst', 'Sstr2', 'St3gal3', 'St6galnac5', 'St8sia4', 'St8sia6', 'Stac2', 'Stard8', 'Stc1', 'Steap4', 'Stmn1', 'Stmn2', 'Stox2', 'Stpg4', 'Stum', 'Sub1', 'Sulf1', 'Sulf2', 'Sult1a1', 'Sult2a5', 'Susd3', 'Sv2a', 'Sv2c', 'Sync', 'Syndig1l', 'Syne1', 'Syne2', 'Syngr1', 'Synpo2', 'Synpr', 'Syp', 'Syt1', 'Syt11', 'Syt13', 'Syt2', 'Syt6', 'Szt2', 'T', 'Tac1', 'Tac2', 'Tacc3', 'Tacr1', 'Taf7', 'Tagln', 'Tal1', 'Tanc1', 'Tapbpl', 'Tardbp', 'Tbr1', 'Tbx20', 'Tbx6', 'Tcap', 'Tcf15', 'Tcf4', 'Tcf7l2', 'Tdgf1', 'Tek', 'Tekt5', 'Tenm1', 'Tenm2', 'Tfap2b', 'Tfap2c', 'Tfap2d', 'Tfeb', 'Tfrc', 'Tgfb1', 'Tgfb2', 'Tgfbr1', 'Tgfbr2', 'Tgm1', 'Tgm2', 'Tgtp2', 'Th', 'Thrsp', 'Thsd7b', 'Thy1', 'Tiam1', 'Tiam2', 'Tifab', 'Timd4', 'Timm10', 'Timp3', 'Timp4', 'Tipin', 'Tjap1', 'Tjp1', 'Tle4', 'Tlr12', 'Tlr7', 'Tmcc2', 'Tmed7', 'Tmem100', 'Tmem106a', 'Tmem108', 'Tmem114', 'Tmem119', 'Tmem130', 'Tmem132c', 'Tmem141', 'Tmem158', 'Tmem163', 'Tmem176a', 'Tmem176b', 'Tmem212', 'Tmem252', 'Tmem255a', 'Tmem255b', 'Tmem42', 'Tmem52', 'Tmem8', 'Tmpo', 'Tmx4', 'Tnc', 'Tnf', 'Tnfrsf12a', 'Tnfsf13b', 'Tnn', 'Tnnt1', 'Tnnt3', 'Tnr', 'Tom1l1', 'Top2a', 'Tox', 'Tph1', 'Tph2', 'Tpi1', 'Tpm1', 'Tpm2', 'Tppp3', 'Tpx2', 'Trappc1', 'Trem2', 'Trex1', 'Trh', 'Trhr', 'Trim16', 'Trim2', 'Trim3', 'Trim32', 'Trim9', 'Troap', 'Trp53i11', 'Trp63', 'Trpc3', 'Trpc6', 'Trpm1', 'Trpm2', 'Trps1', 'Tsc22d1', 'Tsc22d4', 'Tshr', 'Tshz1', 'Tshz2', 'Tshz3', 'Tsix', 'Tspan12', 'Tspan13', 'Tspan15', 'Tspan18', 'Tspan7', 'Tspan8', 'Tspan9', 'Tspo2', 'Ttc16', 'Ttc4', 'Ttc9b', 'Ttk', 'Ttll3', 'Tuba1b', 'Tubb4b', 'Tubb6', 'Twist1', 'Twist2', 'Tyms', 'Tyr', 'Tyrp1', 'Ube2c', 'Ube2k', 'Ube2l6', 'Ubr7', 'Uchl1', 'Ucn3', 'Ugt8a', 'Uhrf1', 'Unc13a', 'Unc13b', 'Unc13c', 'Unc5c', 'Unc5d', 'Ung', 'Upp1', 'Urah', 'Usp1', 'Usp17la', 'Usp2', 'Usp35', 'Utf1', 'Uts2b', 'Vash1', 'Vav1', 'Vav3', 'Vim', 'Vip', 'Vipr1', 'Vipr2', 'Vmn2r30', 'Vnn1', 'Vps13c', 'Vtn', 'Vwa1', 'Vwf', 'Wdr17', 'Wdr76', 'Wdr89', 'Wfdc1', 'Wfdc2', 'Wfikkn2', 'Wfs1', 'Whrn', 'Wipf3', 'Wnt16', 'Wnt5a', 'Wnt7a', 'Wnt7b', 'Wnt8b', 'Wt1', 'Wt1os', 'Wwp1', 'Xist', 'Yjefn3', 'Ywhae', 'Zbtb18', 'Zeb2', 'Zfp36l1', 'Zfp36l2', 'Zfp532', 'Zfp57', 'Zfp691', 'Zfp697', 'Zfp707', 'Zfp740', 'Zfp810', 'Zfp90', 'Zfpm2', 'Zic1', 'Zmat4', 'Zp2']\n"
     ]
    }
   ],
   "source": [
    "gns_all = np.sort([gn for gn in dff.columns if 'blank' not in gn])\n",
    "print(list(gns_all))"
   ]
  },
  {
   "cell_type": "code",
   "execution_count": 37,
   "id": "50f940c9",
   "metadata": {},
   "outputs": [
    {
     "data": {
      "text/plain": [
       "2042"
      ]
     },
     "execution_count": 37,
     "metadata": {},
     "output_type": "execute_result"
    }
   ],
   "source": [
    "len(gns_all)"
   ]
  },
  {
   "cell_type": "code",
   "execution_count": 42,
   "id": "07738b28",
   "metadata": {},
   "outputs": [],
   "source": [
    "svfld =r'\\\\192.168.0.7\\bbfishmahsa3\\CGBB_embryo_4_28_2023\\images'\n",
    "if not os.path.exists(svfld): os.makedirs(svfld)\n",
    "    \n",
    "gene = 'Acsl'\n",
    "for gene in [gn for gn in gns_all if 'Foxj1' in gn]:\n",
    "#for gene in ['Malat1', 'H19', 'Col1a1', 'Dpysl3', 'Meg3', 'Ptprs', 'Mapt', 'Dpysl2', 'Gnb1', 'Ywhae', 'Col3a1', 'Sox4', 'Nfix', 'Serpinh1', 'Sparc', 'Agt', 'Nedd4', 'Nnat', 'Ina', 'Xist', 'Uchl1', 'Islr2', 'Igfbpl1', 'Elavl3', 'Sdc3', 'Rab6b', 'Gpm6a', 'Cntf', 'Ndn', 'Csdc2']:\n",
    "    viewer = plot_gene_mosaic_cells(dff,cell_df,gene,plt_fov=False,transpose=1,flipx=1,flipy=1,sz_min=5,sz_max=10,nmax=20)\n",
    "    im = viewer.screenshot(size=(5000,5000))\n",
    "    viewer.close()\n",
    "    cv2.imwrite(svfld+os.sep+gene+'_D16.png',im[:,:,[2,1,0,3]])"
   ]
  },
  {
   "cell_type": "code",
   "execution_count": 32,
   "id": "43294374",
   "metadata": {},
   "outputs": [
    {
     "data": {
      "text/plain": [
       "True"
      ]
     },
     "execution_count": 32,
     "metadata": {},
     "output_type": "execute_result"
    }
   ],
   "source": [
    "'Tmem119' in gns_all"
   ]
  },
  {
   "cell_type": "code",
   "execution_count": null,
   "id": "c3ea2f31",
   "metadata": {},
   "outputs": [],
   "source": [
    "TMEM119"
   ]
  }
 ],
 "metadata": {
  "kernelspec": {
   "display_name": "Python 3 (ipykernel)",
   "language": "python",
   "name": "python3"
  },
  "language_info": {
   "codemirror_mode": {
    "name": "ipython",
    "version": 3
   },
   "file_extension": ".py",
   "mimetype": "text/x-python",
   "name": "python",
   "nbconvert_exporter": "python",
   "pygments_lexer": "ipython3",
   "version": "3.9.7"
  }
 },
 "nbformat": 4,
 "nbformat_minor": 5
}
