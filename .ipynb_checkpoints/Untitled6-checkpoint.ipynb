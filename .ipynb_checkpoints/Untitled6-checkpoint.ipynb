{
 "cells": [
  {
   "cell_type": "code",
   "execution_count": 79,
   "id": "b09ea621",
   "metadata": {},
   "outputs": [
    {
     "data": {
      "text/plain": [
       "['\\\\\\\\192.168.0.7\\\\bbfishmahsa3\\\\CGBB_embryo_4_28_2023\\\\DriftAcrossDatasets\\\\Conv_zscan__080--H1_MER_D16--_D16dapiFeatures.npz',\n",
       " '\\\\\\\\192.168.0.7\\\\bbfishmahsa3\\\\CGBB_embryo_4_28_2023\\\\DriftAcrossDatasets\\\\Conv_zscan__080--H49_MER_D16--_D16dapiFeatures.npz',\n",
       " '\\\\\\\\192.168.0.7\\\\bbfishmahsa3\\\\CGBB_embryo_4_28_2023\\\\DriftAcrossDatasets\\\\Conv_zscan__080--H65_MER_D16--_D16dapiFeatures.npz',\n",
       " '\\\\\\\\192.168.0.7\\\\bbfishmahsa3\\\\CGBB_embryo_4_28_2023\\\\DriftAcrossDatasets\\\\Conv_zscan__080--H17_MER_D16--_D16dapiFeatures.npz',\n",
       " '\\\\\\\\192.168.0.7\\\\bbfishmahsa3\\\\CGBB_embryo_4_28_2023\\\\DriftAcrossDatasets\\\\Conv_zscan__080--H33_MER_D16--_D16dapiFeatures.npz',\n",
       " '\\\\\\\\192.168.0.7\\\\bbfishmahsa3\\\\CGBB_embryo_4_28_2023\\\\DriftAcrossDatasets\\\\Conv_zscan__080--H81_MER_D16--_D16dapiFeatures.npz',\n",
       " '\\\\\\\\192.168.0.7\\\\bbfishmahsa3\\\\CGBB_embryo_4_28_2023\\\\DriftAcrossDatasets\\\\Conv_zscan__080--A1_LamA_Nup98_D16--_D16dapiFeatures.npz']"
      ]
     },
     "execution_count": 79,
     "metadata": {},
     "output_type": "execute_result"
    }
   ],
   "source": [
    "import os\n",
    "from glob import glob\n",
    "from ioMicro import *\n",
    "fld = r'\\\\192.168.0.7\\bbfishmahsa3\\CGBB_embryo_4_28_2023\\DriftAcrossDatasets'\n",
    "fls = glob.glob(fld+os.sep+r'Conv_zscan__080--*_D16*dapiFeatures.npz')\n",
    "fls"
   ]
  },
  {
   "cell_type": "code",
   "execution_count": 80,
   "id": "21edb168",
   "metadata": {},
   "outputs": [
    {
     "name": "stdout",
     "output_type": "stream",
     "text": [
      "\\\\192.168.0.7\\bbfishmahsa3\\CGBB_embryo_4_28_2023\\DriftAcrossDatasets\\Conv_zscan__080--H1_MER_D16--_D16dapiFeatures.npz\n",
      "\\\\192.168.0.7\\bbfishmahsa3\\CGBB_embryo_4_28_2023\\DriftAcrossDatasets\\Conv_zscan__080--A1_LamA_Nup98_D16--_D16dapiFeatures.npz\n"
     ]
    },
    {
     "data": {
      "text/plain": [
       "(array([   5., -265., -172.], dtype=float32),\n",
       " 1323,\n",
       " array([   6., -265., -170.], dtype=float32),\n",
       " 453)"
      ]
     },
     "execution_count": 80,
     "metadata": {},
     "output_type": "execute_result"
    }
   ],
   "source": [
    "fl1,fl2 = fls[0],fls[-1]\n",
    "tzxy_plus,NctsP = get_best_translation_points(np.load(fl1)['Xh_plus'][:,:3],np.load(fl2)['Xh_plus'][:,:3],\n",
    "                                        resc=5,learn=1,return_counts=True)\n",
    "tzxy_min,NctsM = get_best_translation_points(np.load(fl1)['Xh_minus'][:,:3],np.load(fl2)['Xh_minus'][:,:3],\n",
    "                                        resc=5,learn=1,return_counts=True)\n",
    "print(fl1)\n",
    "print(fl2)\n",
    "np.round(tzxy_plus),NctsP,np.round(tzxy_min),NctsM\n"
   ]
  },
  {
   "cell_type": "code",
   "execution_count": 10,
   "id": "df70b049",
   "metadata": {},
   "outputs": [],
   "source": [
    "MERFISH:0:-15:-0.5:4\n",
    "A1: 0:-15:-0.5:3"
   ]
  },
  {
   "cell_type": "code",
   "execution_count": 81,
   "id": "e300805c",
   "metadata": {},
   "outputs": [
    {
     "data": {
      "text/plain": [
       "<Image layer 'im_MER' at 0x196de3c9b50>"
      ]
     },
     "execution_count": 81,
     "metadata": {},
     "output_type": "execute_result"
    }
   ],
   "source": [
    "im_Ab = read_im(r'\\\\192.168.0.7\\bbfishmahsa\\CGBB_embryo_4_28_2023\\A1_LamA_Nup98_D16\\Conv_zscan__080.zarr')[-1]\n",
    "#im_MER = read_im(r'\\\\192.168.0.7\\bbfishmahsa\\CGBB_embryo_4_28_2023\\H81_MER_D16\\Conv_zscan__040.zarr')[-1]\n",
    "im_MER = read_im(r'\\\\192.168.0.6\\bbfishjoy4\\CGBB_embryo_4_28_2023\\H1_MER_D16\\Conv_zscan__080.zarr')[-1]\n",
    "\n",
    "import napari\n",
    "V = napari.view_image(im_Ab)\n",
    "V.add_image(im_MER,translate=-np.round(tzxy_plus).astype(int))"
   ]
  },
  {
   "cell_type": "code",
   "execution_count": 76,
   "id": "2580518b",
   "metadata": {},
   "outputs": [
    {
     "data": {
      "text/plain": [
       "<Image layer 'im_MER' at 0x196dfff9dc0>"
      ]
     },
     "execution_count": 76,
     "metadata": {},
     "output_type": "execute_result"
    }
   ],
   "source": []
  },
  {
   "cell_type": "code",
   "execution_count": null,
   "id": "cc0febea",
   "metadata": {},
   "outputs": [],
   "source": []
  },
  {
   "cell_type": "code",
   "execution_count": null,
   "id": "dfc42b47",
   "metadata": {},
   "outputs": [],
   "source": []
  },
  {
   "cell_type": "code",
   "execution_count": 45,
   "id": "608e94e5",
   "metadata": {},
   "outputs": [
    {
     "data": {
      "text/plain": [
       "(array([  -7., -515.,  -16.], dtype=float32),\n",
       " 363,\n",
       " array([  -5., -530.,    0.], dtype=float32),\n",
       " 71)"
      ]
     },
     "execution_count": 45,
     "metadata": {},
     "output_type": "execute_result"
    }
   ],
   "source": []
  },
  {
   "cell_type": "code",
   "execution_count": 9,
   "id": "d27bb5a3",
   "metadata": {},
   "outputs": [
    {
     "data": {
      "text/plain": [
       "array([[ 1.86264515e-09,  7.81447697e+00,  1.68886826e+02, ...,\n",
       "         0.00000000e+00,  7.11511016e-01,  4.65997171e+00],\n",
       "       [ 1.86264515e-09,  1.02941885e+01,  2.47504761e+03, ...,\n",
       "         0.00000000e+00,  6.79462969e-01,  4.85965872e+00],\n",
       "       [-1.12340786e-08,  1.49555368e+01,  2.15720068e+03, ...,\n",
       "         0.00000000e+00,  6.70495868e-01,  4.92462254e+00],\n",
       "       ...,\n",
       "       [ 2.86441307e+01,  2.82606128e+03,  7.34093628e+02, ...,\n",
       "         0.00000000e+00,  4.30712879e-01,  4.60810804e+00],\n",
       "       [ 2.84635963e+01,  2.83420801e+03,  2.46014307e+03, ...,\n",
       "         0.00000000e+00,  4.41266775e-01,  5.05271244e+00],\n",
       "       [ 2.88886509e+01,  2.88904028e+03,  2.87201099e+03, ...,\n",
       "         0.00000000e+00,  3.99888426e-01,  5.60770273e+00]], dtype=float32)"
      ]
     },
     "execution_count": 9,
     "metadata": {},
     "output_type": "execute_result"
    }
   ],
   "source": [
    "np.load(fl1)['Xh_plus']"
   ]
  },
  {
   "cell_type": "code",
   "execution_count": null,
   "id": "6f4efe44",
   "metadata": {},
   "outputs": [],
   "source": []
  }
 ],
 "metadata": {
  "kernelspec": {
   "display_name": "Python 3 (ipykernel)",
   "language": "python",
   "name": "python3"
  },
  "language_info": {
   "codemirror_mode": {
    "name": "ipython",
    "version": 3
   },
   "file_extension": ".py",
   "mimetype": "text/x-python",
   "name": "python",
   "nbconvert_exporter": "python",
   "pygments_lexer": "ipython3",
   "version": "3.9.7"
  }
 },
 "nbformat": 4,
 "nbformat_minor": 5
}
