{
 "cells": [
  {
   "cell_type": "code",
   "execution_count": null,
   "id": "ea9d518f-1ca6-4b8d-8e40-e258371a1645",
   "metadata": {},
   "outputs": [],
   "source": [
    "scoresRef = None"
   ]
  },
  {
   "cell_type": "code",
   "execution_count": 1,
   "id": "081196af",
   "metadata": {},
   "outputs": [],
   "source": [
    "from ioMicro import *"
   ]
  },
  {
   "cell_type": "markdown",
   "id": "529705e8-9c99-41ee-bbdb-04f880aab17e",
   "metadata": {},
   "source": [
    "### Pick a few calibration FOVs"
   ]
  },
  {
   "cell_type": "code",
   "execution_count": 2,
   "id": "50aaa886-4215-4390-8a5a-60735948f16c",
   "metadata": {},
   "outputs": [
    {
     "ename": "AttributeError",
     "evalue": "'decoder_simple' object has no attribute 'gns_names'",
     "output_type": "error",
     "traceback": [
      "\u001b[1;31m---------------------------------------------------------------------------\u001b[0m",
      "\u001b[1;31mAttributeError\u001b[0m                            Traceback (most recent call last)",
      "\u001b[1;32mC:\\Users\\BINTUL~2\\AppData\\Local\\Temp/ipykernel_20408/4279222250.py\u001b[0m in \u001b[0;36m<module>\u001b[1;34m\u001b[0m\n\u001b[0;32m      3\u001b[0m \u001b[0mdec\u001b[0m \u001b[1;33m=\u001b[0m \u001b[0mdecoder_simple\u001b[0m\u001b[1;33m(\u001b[0m\u001b[0msave_folder\u001b[0m\u001b[1;33m,\u001b[0m\u001b[0mfov\u001b[0m\u001b[1;33m,\u001b[0m\u001b[0mset_\u001b[0m\u001b[1;33m)\u001b[0m\u001b[1;33m\u001b[0m\u001b[1;33m\u001b[0m\u001b[0m\n\u001b[0;32m      4\u001b[0m \u001b[0mdec\u001b[0m\u001b[1;33m.\u001b[0m\u001b[0mload_decoded\u001b[0m\u001b[1;33m(\u001b[0m\u001b[1;33m)\u001b[0m\u001b[1;33m\u001b[0m\u001b[1;33m\u001b[0m\u001b[0m\n\u001b[1;32m----> 5\u001b[1;33m \u001b[0mapply_fine_drift\u001b[0m\u001b[1;33m(\u001b[0m\u001b[0mdec\u001b[0m\u001b[1;33m,\u001b[0m\u001b[0mplt_val\u001b[0m\u001b[1;33m=\u001b[0m\u001b[1;32mTrue\u001b[0m\u001b[1;33m)\u001b[0m\u001b[1;33m\u001b[0m\u001b[1;33m\u001b[0m\u001b[0m\n\u001b[0m\u001b[0;32m      6\u001b[0m \u001b[0mscoresRefT\u001b[0m \u001b[1;33m=\u001b[0m \u001b[0mget_score_per_color\u001b[0m\u001b[1;33m(\u001b[0m\u001b[0mdec\u001b[0m\u001b[1;33m)\u001b[0m\u001b[1;33m\u001b[0m\u001b[1;33m\u001b[0m\u001b[0m\n",
      "\u001b[1;32mC:\\Scripts\\NMERFISH\\ioMicro.py\u001b[0m in \u001b[0;36mapply_fine_drift\u001b[1;34m(dec, plt_val, npts)\u001b[0m\n\u001b[0;32m   2432\u001b[0m         \u001b[1;32mreturn\u001b[0m \u001b[0mviewer\u001b[0m\u001b[1;33m\u001b[0m\u001b[1;33m\u001b[0m\u001b[0m\n\u001b[0;32m   2433\u001b[0m \u001b[1;32mdef\u001b[0m \u001b[0mapply_fine_drift\u001b[0m\u001b[1;33m(\u001b[0m\u001b[0mdec\u001b[0m\u001b[1;33m,\u001b[0m\u001b[0mplt_val\u001b[0m\u001b[1;33m=\u001b[0m\u001b[1;32mTrue\u001b[0m\u001b[1;33m,\u001b[0m\u001b[0mnpts\u001b[0m\u001b[1;33m=\u001b[0m\u001b[1;36m50000\u001b[0m\u001b[1;33m)\u001b[0m\u001b[1;33m:\u001b[0m\u001b[1;33m\u001b[0m\u001b[1;33m\u001b[0m\u001b[0m\n\u001b[1;32m-> 2434\u001b[1;33m     \u001b[0mbad_igns\u001b[0m \u001b[1;33m=\u001b[0m \u001b[1;33m[\u001b[0m\u001b[0mign\u001b[0m \u001b[1;32mfor\u001b[0m \u001b[0mign\u001b[0m\u001b[1;33m,\u001b[0m\u001b[0mgn\u001b[0m \u001b[1;32min\u001b[0m \u001b[0menumerate\u001b[0m\u001b[1;33m(\u001b[0m\u001b[0mdec\u001b[0m\u001b[1;33m.\u001b[0m\u001b[0mgns_names\u001b[0m\u001b[1;33m)\u001b[0m \u001b[1;32mif\u001b[0m \u001b[1;34m'blank'\u001b[0m \u001b[1;32min\u001b[0m \u001b[0mgn\u001b[0m\u001b[1;33m.\u001b[0m\u001b[0mlower\u001b[0m\u001b[1;33m(\u001b[0m\u001b[1;33m)\u001b[0m\u001b[1;33m]\u001b[0m\u001b[1;33m\u001b[0m\u001b[1;33m\u001b[0m\u001b[0m\n\u001b[0m\u001b[0;32m   2435\u001b[0m     \u001b[0mgood_igns\u001b[0m \u001b[1;33m=\u001b[0m \u001b[1;33m[\u001b[0m\u001b[0mign\u001b[0m \u001b[1;32mfor\u001b[0m \u001b[0mign\u001b[0m\u001b[1;33m,\u001b[0m\u001b[0mgn\u001b[0m \u001b[1;32min\u001b[0m \u001b[0menumerate\u001b[0m\u001b[1;33m(\u001b[0m\u001b[0mdec\u001b[0m\u001b[1;33m.\u001b[0m\u001b[0mgns_names\u001b[0m\u001b[1;33m)\u001b[0m \u001b[1;32mif\u001b[0m \u001b[1;34m'blank'\u001b[0m \u001b[1;32mnot\u001b[0m \u001b[1;32min\u001b[0m \u001b[0mgn\u001b[0m\u001b[1;33m.\u001b[0m\u001b[0mlower\u001b[0m\u001b[1;33m(\u001b[0m\u001b[1;33m)\u001b[0m\u001b[1;33m]\u001b[0m\u001b[1;33m\u001b[0m\u001b[1;33m\u001b[0m\u001b[0m\n\u001b[0;32m   2436\u001b[0m     \u001b[0mis_good_gn\u001b[0m \u001b[1;33m=\u001b[0m \u001b[0mnp\u001b[0m\u001b[1;33m.\u001b[0m\u001b[0min1d\u001b[0m\u001b[1;33m(\u001b[0m\u001b[0mdec\u001b[0m\u001b[1;33m.\u001b[0m\u001b[0micodesN\u001b[0m\u001b[1;33m,\u001b[0m\u001b[0mgood_igns\u001b[0m\u001b[1;33m)\u001b[0m\u001b[1;33m\u001b[0m\u001b[1;33m\u001b[0m\u001b[0m\n",
      "\u001b[1;31mAttributeError\u001b[0m: 'decoder_simple' object has no attribute 'gns_names'"
     ]
    }
   ],
   "source": [
    "save_folder =r'\\\\192.168.0.6\\bbfish1e3\\DCBBL1_03_14_2023_big\\MERFISH_Analysis'\n",
    "fov,set_ = 'Conv_zscan__615', '_set2'\n",
    "dec = decoder_simple(save_folder,fov,set_)\n",
    "dec.load_decoded()\n",
    "apply_fine_drift(dec,plt_val=True)\n",
    "scoresRefT = get_score_per_color(dec)"
   ]
  },
  {
   "cell_type": "code",
   "execution_count": null,
   "id": "f282e8d1-a74b-4f0a-a9d5-1aa6c4732329",
   "metadata": {},
   "outputs": [],
   "source": [
    "if False:\n",
    "    if scoresRef is None: scoresRef=scoresRefT\n",
    "    else: combine_scoresRef(scoresRef,scoresRefT)\n",
    "    np.save(save_folder+os.sep+'scoresRef.npy',scoresRef)"
   ]
  },
  {
   "cell_type": "markdown",
   "id": "601e1cdb-2f21-4122-b3ab-94cfbe2dffda",
   "metadata": {},
   "source": [
    "### Given the base decoding for each fov, run across all datasets with consistent values"
   ]
  },
  {
   "cell_type": "code",
   "execution_count": null,
   "id": "a2daf841-8e2e-454a-b47d-cf0eb3fa51b7",
   "metadata": {},
   "outputs": [],
   "source": [
    "from ioMicro import *\n",
    "save_folder =r'\\\\192.168.0.6\\bbfish1e3\\DCBBL1_03_14_2023_big\\MERFISH_Analysis'\n",
    "scoresRef = np.load(save_folder+os.sep+'scoresRef.npy',allow_pickle=True)"
   ]
  },
  {
   "cell_type": "code",
   "execution_count": null,
   "id": "0c591023-23cc-45bd-a1e0-a30c89d718cd",
   "metadata": {},
   "outputs": [],
   "source": [
    "#elems = [('Conv_zscan__'+str(ifov).zfill(3),'_'+set_)for set_ in ['set2'] for ifov in dic_f[set_]]\n",
    "for fov,set_ in tqdm(elems):\n",
    "    save_final_decoding(save_folder,fov,set_,scoresRef,th=-1.5,plt_val=False,\n",
    "                            tags_smFISH=['Aldh','Sox11'],\n",
    "                            genes_smFISH=[['Igfbpl1','Aldh1l1','Ptbp1'],['Sox11','Sox2','Dcx']],Hths=None,force=True)"
   ]
  },
  {
   "cell_type": "markdown",
   "id": "9940aa4a-2395-4305-9fcc-c6410f4d539b",
   "metadata": {},
   "source": [
    "### Get counts per cell into a single dataset"
   ]
  },
  {
   "cell_type": "code",
   "execution_count": null,
   "id": "85eab8fd-9c5f-46a2-aa78-60ddb53f007d",
   "metadata": {},
   "outputs": [],
   "source": [
    "import pandas as pd\n",
    "save_folder =r'\\\\192.168.0.6\\bbfish1e3\\DCBBL1_03_14_2023_big\\MERFISH_Analysis'\n",
    "#save_folder =r'\\\\192.168.0.6\\bbfish1e3\\DCBBL1_03_14_2023_big\\MERFISH_Analysis'\n",
    "save_fls = glob.glob(save_folder+os.sep+'finaldecs_*')"
   ]
  },
  {
   "cell_type": "code",
   "execution_count": null,
   "id": "071977fe-8958-45b5-9d4f-ae51fc364642",
   "metadata": {},
   "outputs": [],
   "source": [
    "save_fls_ = [fl for fl in save_fls if ('_set5' in fl)]# in fl if '035' in fl][0]\n",
    "cell_df,df=None,None\n",
    "for save_fl in tqdm(np.sort(save_fls_)[:]):\n",
    "    ### load info\n",
    "    dic = np.load(save_fl)\n",
    "    XF = dic['XF']\n",
    "    header = list(dic['header'])\n",
    "    genes_decoded = dic['genes']\n",
    "    cells = dic['cellinfo'][1:]\n",
    "    header_cells = dic['header_cells']\n",
    "    ### Rethrehold based on score\n",
    "    iscore = list(header).index('score')\n",
    "    scoreA = XF[:,iscore]\n",
    "    keep = scoreA>-1.5\n",
    "    ugns,gns_i = np.unique(genes_decoded[keep],return_inverse=True)\n",
    "\n",
    "    icell = header.index('cell_id')\n",
    "    icells = XF[keep,icell].astype(int)\n",
    "    \n",
    "    icellsf = cells[:,0].astype(int)\n",
    "    \n",
    "    mcell = np.max(icellsf)+1\n",
    "    gn_cell,gn_cell_cts = np.unique(mcell*gns_i+icells,return_counts=True)\n",
    "    len(gn_cell)\n",
    "    igns_ = gn_cell//mcell\n",
    "    icells_ = gn_cell%mcell\n",
    "    Mcts = np.zeros([mcell,len(ugns)])\n",
    "    Mcts[icells_,igns_]=gn_cell_cts\n",
    "\n",
    "    Mcts[icellsf].shape\n",
    "    ifov,iset = int(XF[0,header.index('ifov')]),int(XF[0,header.index('iset')])\n",
    "    icellsnm = [icell+10**5*ifov for icell in icellsf]#icellsnm = [icell+10**5*ifov+10**9*iset for icell in icellsf]\n",
    "\n",
    "    dfT = pd.DataFrame(Mcts[icellsf],columns=ugns,index=icellsnm)\n",
    "\n",
    "\n",
    "    df = dfT if df is None else pd.concat([df,dfT])\n",
    "    cell_dfT = pd.DataFrame(cells,columns=header_cells,index=icellsnm)\n",
    "    cell_df = cell_dfT if cell_df is None else pd.concat([cell_df,cell_dfT])"
   ]
  },
  {
   "cell_type": "code",
   "execution_count": null,
   "id": "7c642f83-7004-4374-a5be-336d5d2475a3",
   "metadata": {},
   "outputs": [],
   "source": []
  }
 ],
 "metadata": {
  "kernelspec": {
   "display_name": "Python 3 (ipykernel)",
   "language": "python",
   "name": "python3"
  },
  "language_info": {
   "codemirror_mode": {
    "name": "ipython",
    "version": 3
   },
   "file_extension": ".py",
   "mimetype": "text/x-python",
   "name": "python",
   "nbconvert_exporter": "python",
   "pygments_lexer": "ipython3",
   "version": "3.9.7"
  }
 },
 "nbformat": 4,
 "nbformat_minor": 5
}
